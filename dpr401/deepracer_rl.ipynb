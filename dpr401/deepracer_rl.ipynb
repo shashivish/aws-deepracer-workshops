{
 "cells": [
  {
   "cell_type": "markdown",
   "metadata": {},
   "source": [
    "### Distributed DeepRacer RL training with SageMaker and RoboMaker\n",
    "\n",
    "---\n",
    "## Introduction\n",
    "\n",
    "\n",
    "In this notebook, we will train a fully autonomous 1/18th scale race car using reinforcement learning using Amazon SageMaker RL and AWS RoboMaker's 3D driving simulator. [AWS RoboMaker](https://console.aws.amazon.com/robomaker/home#welcome) is a service that makes it easy for developers to develop, test, and deploy robotics applications.  \n",
    "\n",
    "This notebook provides a jailbreak experience of [AWS DeepRacer](https://console.aws.amazon.com/deepracer/home#welcome), giving us more control over the training/simulation process and RL algorithm tuning.\n",
    "\n",
    "![Training in Action](./DeepRacerCar.png)\n",
    "\n",
    "\n",
    "---\n",
    "## How it works?  \n",
    "\n",
    "![How training works](./training.png)\n",
    "\n",
    "The reinforcement learning agent (i.e. our autonomous car) learns to drive by interacting with its environment, e.g., the track, by taking an action in a given state to maximize the expected reward. The agent learns the optimal plan of actions in training by trial-and-error through repeated episodes.  \n",
    "  \n",
    "The figure above shows an example of distributed RL training across SageMaker and two RoboMaker simulation envrionments that perform the **rollouts** - execute a fixed number of episodes using the current model or policy. The rollouts collect agent experiences (state-transition tuples) and share this data with SageMaker for training. SageMaker updates the model policy which is then used to execute the next sequence of rollouts. This training loop continues until the model converges, i.e. the car learns to drive and stops going off-track. More formally, we can define the problem in terms of the following:  \n",
    "\n",
    "1. **Objective**: Learn to drive autonomously by staying close to the center of the track.\n",
    "2. **Environment**: A 3D driving simulator hosted on AWS RoboMaker.\n",
    "3. **State**: The driving POV image captured by the car's head camera, as shown in the illustration above.\n",
    "4. **Action**: Six discrete steering wheel positions at different angles (configurable)\n",
    "5. **Reward**: Positive reward for staying close to the center line; High penalty for going off-track. This is configurable and can be made more complex (for e.g. steering penalty can be added)."
   ]
  },
  {
   "cell_type": "markdown",
   "metadata": {},
   "source": [
    "## Prequisites"
   ]
  },
  {
   "cell_type": "markdown",
   "metadata": {},
   "source": [
    "### Imports"
   ]
  },
  {
   "cell_type": "markdown",
   "metadata": {},
   "source": [
    "To get started, we'll import the Python libraries we need, set up the environment with a few prerequisites for permissions and configurations.\n",
    "\n",
    "You can run this notebook from your local machine or from a SageMaker notebook instance. In both of these scenarios, you can run the following to launch a training job on SageMaker and a simulation job on RoboMaker."
   ]
  },
  {
   "cell_type": "code",
   "execution_count": 1,
   "metadata": {
    "scrolled": true,
    "tags": []
   },
   "outputs": [],
   "source": [
    "import boto3\n",
    "import sagemaker\n",
    "import sys\n",
    "import os\n",
    "import re\n",
    "import numpy as np\n",
    "import subprocess\n",
    "import yaml\n",
    "\n",
    "sys.path.append(\"common\")\n",
    "sys.path.append(\"./src\")\n",
    "from misc import get_execution_role, wait_for_s3_object\n",
    "from docker_utils import build_docker_image\n",
    "from docker_utils import push as docker_push\n",
    "from sagemaker.rl import RLEstimator, RLToolkit, RLFramework\n",
    "from time import gmtime, strftime\n",
    "import time\n",
    "from IPython.display import Markdown\n",
    "from markdown_helper import *"
   ]
  },
  {
   "cell_type": "markdown",
   "metadata": {},
   "source": [
    "### Define the IAM role\n",
    "Either get the execution role when running from a SageMaker notebook `role = sagemaker.get_execution_role()` or, when running from local machine, use utils method `role = get_execution_role('role_name')` to create an execution role."
   ]
  },
  {
   "cell_type": "code",
   "execution_count": 2,
   "metadata": {
    "tags": []
   },
   "outputs": [
    {
     "name": "stdout",
     "output_type": "stream",
     "text": [
      "Using Sagemaker IAM role arn: \n",
      "arn:aws:iam::600537146592:role/service-role/AWSDeepRacerSageMakerAccessRole\n"
     ]
    }
   ],
   "source": [
    "try:\n",
    "    sagemaker_role = sagemaker.get_execution_role()\n",
    "except:\n",
    "    sagemaker_role = get_execution_role(\"sagemaker\")\n",
    "\n",
    "print(\"Using Sagemaker IAM role arn: \\n{}\".format(sagemaker_role))"
   ]
  },
  {
   "cell_type": "markdown",
   "metadata": {},
   "source": [
    "> Please note that this notebook cannot be run in `SageMaker local mode` as the simulator is based on AWS RoboMaker service."
   ]
  },
  {
   "cell_type": "markdown",
   "metadata": {
    "tags": []
   },
   "source": [
    "## Download a copy of the DeepRacer simapp\n",
    "\n",
    "This is a docker container of the simulation application loaded into robomaker. A copy is downloaded and then some files are extracted."
   ]
  },
  {
   "cell_type": "code",
   "execution_count": 3,
   "metadata": {
    "tags": []
   },
   "outputs": [
    {
     "name": "stdout",
     "output_type": "stream",
     "text": [
      "WARNING! Your password will be stored unencrypted in /home/ec2-user/.docker/config.json.\n",
      "Configure a credential helper to remove this warning. See\n",
      "https://docs.docker.com/engine/reference/commandline/login/#credentials-store\n",
      "\n",
      "Login Succeeded\n",
      "Using default tag: latest\n",
      "latest: Pulling from k1d3r4z1/deepracer-sim-public\n",
      "\n",
      "\u001b[1Bcc0b8772: Pulling fs layer \n",
      "\u001b[1Bfb62ba5f: Pulling fs layer \n",
      "\u001b[1B964ece6a: Pulling fs layer \n",
      "\u001b[1B8123a8b5: Pulling fs layer \n",
      "\u001b[1Ba8a3905b: Pulling fs layer \n",
      "\u001b[1B83cd1f8d: Pulling fs layer \n",
      "\u001b[1B1beb9c17: Pulling fs layer \n",
      "\u001b[1B13fbbb76: Pulling fs layer \n",
      "\u001b[1Ba692a601: Pulling fs layer \n",
      "\u001b[1Bf734b08e: Pulling fs layer \n",
      "\u001b[1B308685b5: Pulling fs layer \n",
      "\u001b[1B81666255: Pulling fs layer \n",
      "\u001b[1B369fe6a4: Pulling fs layer \n",
      "\u001b[1B611ca839: Pulling fs layer \n",
      "\u001b[1Bf6094e88: Pulling fs layer \n",
      "\u001b[1Be765d5c2: Pulling fs layer \n",
      "\u001b[1Bb214ee2e: Pulling fs layer \n",
      "\u001b[1Bc513a9d1: Pulling fs layer \n",
      "\u001b[1B7e029de8: Pulling fs layer \n",
      "\u001b[1Ba55a76af: Pulling fs layer \n",
      "\u001b[1B82b3e162: Pulling fs layer \n",
      "\u001b[1B1866ceb4: Pulling fs layer \n",
      "\u001b[1B3eee2e49: Pulling fs layer \n",
      "\u001b[1Bea78672a: Pulling fs layer \n",
      "\u001b[1Baacc800a: Pulling fs layer \n",
      "\u001b[1B17dc75e6: Pulling fs layer \n",
      "\u001b[1B2d3f3865: Pulling fs layer \n",
      "\u001b[1B682afa23: Pulling fs layer \n",
      "\u001b[1Bbe6ef68e: Pulling fs layer \n",
      "\u001b[1Bdbd2a0bd: Pulling fs layer \n",
      "\u001b[1B81e86a14: Pulling fs layer \n",
      "\u001b[1B1b9d4a10: Pulling fs layer \n",
      "\u001b[1B4acc059d: Pulling fs layer \n",
      "\u001b[1B68fccf53: Pulling fs layer \n",
      "\u001b[1B2cb7d4a1: Pulling fs layer \n",
      "\u001b[1Ba6994bc6: Pull complete 207GB/1.207GBB34A\u001b[2K\u001b[36A\u001b[2K\u001b[33A\u001b[2K\u001b[36A\u001b[2K\u001b[31A\u001b[2K\u001b[36A\u001b[2K\u001b[29A\u001b[2K\u001b[29A\u001b[2K\u001b[29A\u001b[2K\u001b[36A\u001b[2K\u001b[28A\u001b[2K\u001b[36A\u001b[2K\u001b[26A\u001b[2K\u001b[28A\u001b[2K\u001b[36A\u001b[2K\u001b[28A\u001b[2K\u001b[36A\u001b[2K\u001b[28A\u001b[2K\u001b[36A\u001b[2K\u001b[28A\u001b[2K\u001b[21A\u001b[2K\u001b[36A\u001b[2K\u001b[20A\u001b[2K\u001b[28A\u001b[2K\u001b[19A\u001b[2K\u001b[18A\u001b[2K\u001b[36A\u001b[2K\u001b[17A\u001b[2K\u001b[36A\u001b[2K\u001b[16A\u001b[2K\u001b[28A\u001b[2K\u001b[36A\u001b[2K\u001b[16A\u001b[2K\u001b[28A\u001b[2K\u001b[17A\u001b[2K\u001b[28A\u001b[2K\u001b[17A\u001b[2K\u001b[36A\u001b[2K\u001b[28A\u001b[2K\u001b[17A\u001b[2K\u001b[16A\u001b[2K\u001b[17A\u001b[2KExtracting     162B/162B\u001b[34A\u001b[2K\u001b[28A\u001b[2K\u001b[32A\u001b[2K\u001b[16A\u001b[2K\u001b[31A\u001b[2K\u001b[17A\u001b[2K\u001b[16A\u001b[2K\u001b[29A\u001b[2K\u001b[16A\u001b[2K\u001b[29A\u001b[2K\u001b[28A\u001b[2K\u001b[29A\u001b[2K\u001b[29A\u001b[2K\u001b[29A\u001b[2K\u001b[16A\u001b[2K\u001b[17A\u001b[2K\u001b[16A\u001b[2K\u001b[28A\u001b[2K\u001b[16A\u001b[2K\u001b[28A\u001b[2K\u001b[17A\u001b[2K\u001b[16A\u001b[2K\u001b[28A\u001b[2K\u001b[17A\u001b[2K\u001b[28A\u001b[2K\u001b[17A\u001b[2K\u001b[17A\u001b[2K\u001b[16A\u001b[2K\u001b[17A\u001b[2K\u001b[28A\u001b[2K\u001b[16A\u001b[2K\u001b[28A\u001b[2K\u001b[16A\u001b[2K\u001b[17A\u001b[2K\u001b[28A\u001b[2K\u001b[16A\u001b[2K\u001b[28A\u001b[2K\u001b[16A\u001b[2K\u001b[28A\u001b[2K\u001b[16A\u001b[2K\u001b[28A\u001b[2K\u001b[16A\u001b[2K\u001b[16A\u001b[2K\u001b[17A\u001b[2K\u001b[16A\u001b[2K\u001b[17A\u001b[2K\u001b[16A\u001b[2K\u001b[17A\u001b[2K\u001b[16A\u001b[2K\u001b[28A\u001b[2K\u001b[17A\u001b[2K\u001b[28A\u001b[2K\u001b[17A\u001b[2K\u001b[15A\u001b[2K\u001b[17A\u001b[2K\u001b[15A\u001b[2K\u001b[17A\u001b[2K\u001b[28A\u001b[2K\u001b[15A\u001b[2K\u001b[28A\u001b[2K\u001b[15A\u001b[2K\u001b[28A\u001b[2K\u001b[15A\u001b[2K\u001b[28A\u001b[2K\u001b[28A\u001b[2K\u001b[15A\u001b[2K\u001b[17A\u001b[2K\u001b[15A\u001b[2K\u001b[15A\u001b[2K\u001b[17A\u001b[2K\u001b[17A\u001b[2K\u001b[15A\u001b[2K\u001b[17A\u001b[2K\u001b[15A\u001b[2K\u001b[28A\u001b[2K\u001b[15A\u001b[2K\u001b[17A\u001b[2K\u001b[17A\u001b[2K\u001b[28A\u001b[2K\u001b[17A\u001b[2K\u001b[28A\u001b[2K\u001b[15A\u001b[2K\u001b[17A\u001b[2K\u001b[28A\u001b[2K\u001b[15A\u001b[2K\u001b[28A\u001b[2K\u001b[15A\u001b[2K\u001b[28A\u001b[2K\u001b[17A\u001b[2K\u001b[28A\u001b[2K\u001b[17A\u001b[2K\u001b[15A\u001b[2K\u001b[28A\u001b[2K\u001b[15A\u001b[2K\u001b[17A\u001b[2K\u001b[15A\u001b[2K\u001b[28A\u001b[2K\u001b[28A\u001b[2K\u001b[15A\u001b[2K\u001b[17A\u001b[2K\u001b[15A\u001b[2K\u001b[17A\u001b[2K\u001b[28A\u001b[2K\u001b[15A\u001b[2K\u001b[28A\u001b[2K\u001b[17A\u001b[2K\u001b[28A\u001b[2K\u001b[17A\u001b[2K\u001b[15A\u001b[2K\u001b[28A\u001b[2K\u001b[17A\u001b[2K\u001b[15A\u001b[2K\u001b[17A\u001b[2K\u001b[15A\u001b[2K\u001b[28A\u001b[2K\u001b[15A\u001b[2K\u001b[28A\u001b[2K\u001b[17A\u001b[2K\u001b[28A\u001b[2K\u001b[17A\u001b[2K\u001b[28A\u001b[2K\u001b[15A\u001b[2K\u001b[17A\u001b[2K\u001b[15A\u001b[2K\u001b[17A\u001b[2K\u001b[28A\u001b[2K\u001b[17A\u001b[2K\u001b[15A\u001b[2K\u001b[17A\u001b[2K\u001b[28A\u001b[2K\u001b[15A\u001b[2K\u001b[17A\u001b[2K\u001b[15A\u001b[2K\u001b[15A\u001b[2K\u001b[28A\u001b[2K\u001b[17A\u001b[2K\u001b[15A\u001b[2K\u001b[28A\u001b[2K\u001b[15A\u001b[2K\u001b[17A\u001b[2K\u001b[15A\u001b[2K\u001b[28A\u001b[2K\u001b[17A\u001b[2K\u001b[17A\u001b[2K\u001b[15A\u001b[2K\u001b[17A\u001b[2K\u001b[15A\u001b[2K\u001b[28A\u001b[2K\u001b[15A\u001b[2K\u001b[28A\u001b[2K\u001b[28A\u001b[2K\u001b[15A\u001b[2K\u001b[28A\u001b[2K\u001b[17A\u001b[2K\u001b[28A\u001b[2K\u001b[17A\u001b[2K\u001b[15A\u001b[2K\u001b[17A\u001b[2K\u001b[15A\u001b[2K\u001b[15A\u001b[2K\u001b[14A\u001b[2K\u001b[28A\u001b[2K\u001b[15A\u001b[2K\u001b[13A\u001b[2K\u001b[28A\u001b[2K\u001b[15A\u001b[2K\u001b[15A\u001b[2K\u001b[15A\u001b[2K\u001b[12A\u001b[2K\u001b[11A\u001b[2K\u001b[11A\u001b[2K\u001b[12A\u001b[2K\u001b[12A\u001b[2K\u001b[28A\u001b[2K\u001b[12A\u001b[2K\u001b[12A\u001b[2K\u001b[11A\u001b[2K\u001b[28A\u001b[2K\u001b[11A\u001b[2K\u001b[28A\u001b[2K\u001b[12A\u001b[2K\u001b[28A\u001b[2K\u001b[28A\u001b[2K\u001b[28A\u001b[2K\u001b[11A\u001b[2K\u001b[28A\u001b[2K\u001b[12A\u001b[2K\u001b[28A\u001b[2K\u001b[12A\u001b[2K\u001b[11A\u001b[2K\u001b[12A\u001b[2K\u001b[12A\u001b[2K\u001b[28A\u001b[2K\u001b[12A\u001b[2K\u001b[28A\u001b[2K\u001b[11A\u001b[2K\u001b[12A\u001b[2K\u001b[11A\u001b[2K\u001b[12A\u001b[2K\u001b[11A\u001b[2K\u001b[12A\u001b[2K\u001b[28A\u001b[2K\u001b[11A\u001b[2K\u001b[28A\u001b[2K\u001b[11A\u001b[2K\u001b[12A\u001b[2K\u001b[28A\u001b[2K\u001b[12A\u001b[2K\u001b[28A\u001b[2K\u001b[11A\u001b[2K\u001b[12A\u001b[2K\u001b[11A\u001b[2K\u001b[28A\u001b[2K\u001b[12A\u001b[2K\u001b[12A\u001b[2K\u001b[28A\u001b[2K\u001b[12A\u001b[2K\u001b[28A\u001b[2K\u001b[11A\u001b[2K\u001b[12A\u001b[2K\u001b[28A\u001b[2K\u001b[11A\u001b[2K\u001b[12A\u001b[2K\u001b[11A\u001b[2K\u001b[28A\u001b[2K\u001b[11A\u001b[2K\u001b[12A\u001b[2K\u001b[28A\u001b[2K\u001b[12A\u001b[2K\u001b[28A\u001b[2K\u001b[12A\u001b[2K\u001b[11A\u001b[2K\u001b[28A\u001b[2K\u001b[11A\u001b[2K\u001b[28A\u001b[2K\u001b[12A\u001b[2K\u001b[28A\u001b[2K\u001b[28A\u001b[2K\u001b[11A\u001b[2K\u001b[28A\u001b[2K\u001b[11A\u001b[2K\u001b[28A\u001b[2K\u001b[11A\u001b[2K\u001b[28A\u001b[2K\u001b[11A\u001b[2K\u001b[28A\u001b[2K\u001b[12A\u001b[2K\u001b[28A\u001b[2K\u001b[12A\u001b[2K\u001b[28A\u001b[2K\u001b[12A\u001b[2K\u001b[11A\u001b[2K\u001b[12A\u001b[2K\u001b[11A\u001b[2K\u001b[12A\u001b[2K\u001b[28A\u001b[2K\u001b[12A\u001b[2K\u001b[28A\u001b[2K\u001b[11A\u001b[2K\u001b[28A\u001b[2K\u001b[11A\u001b[2K\u001b[28A\u001b[2K\u001b[12A\u001b[2K\u001b[28A\u001b[2K\u001b[11A\u001b[2K\u001b[12A\u001b[2K\u001b[28A\u001b[2K\u001b[12A\u001b[2K\u001b[12A\u001b[2K\u001b[11A\u001b[2K\u001b[12A\u001b[2K\u001b[11A\u001b[2K\u001b[12A\u001b[2K\u001b[11A\u001b[2K\u001b[28A\u001b[2K\u001b[12A\u001b[2K\u001b[28A\u001b[2K\u001b[28A\u001b[2K\u001b[12A\u001b[2K\u001b[11A\u001b[2K\u001b[12A\u001b[2K\u001b[11A\u001b[2K\u001b[28A\u001b[2K\u001b[12A\u001b[2K\u001b[12A\u001b[2K\u001b[28A\u001b[2K\u001b[12A\u001b[2K\u001b[28A\u001b[2K\u001b[28A\u001b[2K\u001b[28A\u001b[2K\u001b[12A\u001b[2K\u001b[11A\u001b[2K\u001b[28A\u001b[2K\u001b[11A\u001b[2K\u001b[28A\u001b[2K\u001b[11A\u001b[2K\u001b[12A\u001b[2K\u001b[11A\u001b[2K\u001b[12A\u001b[2K\u001b[28A\u001b[2K\u001b[12A\u001b[2K\u001b[28A\u001b[2K\u001b[12A\u001b[2K\u001b[28A\u001b[2K\u001b[12A\u001b[2K\u001b[11A\u001b[2K\u001b[12A\u001b[2K\u001b[11A\u001b[2K\u001b[12A\u001b[2K\u001b[11A\u001b[2K\u001b[28A\u001b[2K\u001b[12A\u001b[2K\u001b[28A\u001b[2K\u001b[28A\u001b[2K\u001b[12A\u001b[2K\u001b[28A\u001b[2K\u001b[11A\u001b[2K\u001b[12A\u001b[2K\u001b[11A\u001b[2K\u001b[12A\u001b[2K\u001b[11A\u001b[2K\u001b[12A\u001b[2K\u001b[11A\u001b[2K\u001b[12A\u001b[2K\u001b[28A\u001b[2K\u001b[11A\u001b[2K\u001b[28A\u001b[2K\u001b[11A\u001b[2K\u001b[12A\u001b[2K\u001b[28A\u001b[2K\u001b[11A\u001b[2K\u001b[12A\u001b[2K\u001b[11A\u001b[2K\u001b[12A\u001b[2K\u001b[28A\u001b[2K\u001b[11A\u001b[2K\u001b[12A\u001b[2K\u001b[28A\u001b[2K\u001b[12A\u001b[2K\u001b[11A\u001b[2K\u001b[12A\u001b[2K\u001b[11A\u001b[2K\u001b[28A\u001b[2K\u001b[12A\u001b[2K\u001b[11A\u001b[2K\u001b[28A\u001b[2K\u001b[11A\u001b[2K\u001b[11A\u001b[2K\u001b[28A\u001b[2K\u001b[11A\u001b[2K\u001b[28A\u001b[2K\u001b[12A\u001b[2K\u001b[28A\u001b[2K\u001b[11A\u001b[2K\u001b[28A\u001b[2K\u001b[12A\u001b[2K\u001b[28A\u001b[2K\u001b[12A\u001b[2K\u001b[28A\u001b[2K\u001b[12A\u001b[2K\u001b[11A\u001b[2K\u001b[12A\u001b[2K\u001b[11A\u001b[2K\u001b[28A\u001b[2K\u001b[11A\u001b[2K\u001b[28A\u001b[2K\u001b[11A\u001b[2K\u001b[28A\u001b[2K\u001b[12A\u001b[2K\u001b[11A\u001b[2K\u001b[12A\u001b[2K\u001b[28A\u001b[2K\u001b[12A\u001b[2K\u001b[12A\u001b[2K\u001b[11A\u001b[2K\u001b[10A\u001b[2K\u001b[10A\u001b[2K\u001b[11A\u001b[2K\u001b[28A\u001b[2K\u001b[9A\u001b[2K\u001b[28A\u001b[2K\u001b[9A\u001b[2K\u001b[28A\u001b[2K\u001b[9A\u001b[2K\u001b[11A\u001b[2K\u001b[9A\u001b[2K\u001b[11A\u001b[2K\u001b[28A\u001b[2K\u001b[8A\u001b[2K\u001b[11A\u001b[2K\u001b[8A\u001b[2K\u001b[8A\u001b[2K\u001b[28A\u001b[2K\u001b[11A\u001b[2K\u001b[28A\u001b[2K\u001b[7A\u001b[2K\u001b[11A\u001b[2K\u001b[7A\u001b[2K\u001b[7A\u001b[2K\u001b[28A\u001b[2K\u001b[11A\u001b[2K\u001b[28A\u001b[2K\u001b[11A\u001b[2K\u001b[28A\u001b[2K\u001b[11A\u001b[2K\u001b[9A\u001b[2K\u001b[6A\u001b[2K\u001b[9A\u001b[2K\u001b[6A\u001b[2K\u001b[9A\u001b[2K\u001b[28A\u001b[2K\u001b[11A\u001b[2K\u001b[28A\u001b[2K\u001b[9A\u001b[2K\u001b[6A\u001b[2K\u001b[28A\u001b[2K\u001b[11A\u001b[2K\u001b[28A\u001b[2K\u001b[9A\u001b[2K\u001b[11A\u001b[2K\u001b[28A\u001b[2K\u001b[9A\u001b[2K\u001b[28A\u001b[2K\u001b[9A\u001b[2K\u001b[28A\u001b[2K\u001b[5A\u001b[2K\u001b[11A\u001b[2K\u001b[5A\u001b[2K\u001b[11A\u001b[2K\u001b[9A\u001b[2K\u001b[28A\u001b[2K\u001b[9A\u001b[2K\u001b[5A\u001b[2K\u001b[9A\u001b[2K\u001b[11A\u001b[2K\u001b[28A\u001b[2K\u001b[11A\u001b[2K\u001b[5A\u001b[2K\u001b[11A\u001b[2K\u001b[5A\u001b[2K\u001b[3A\u001b[2K\u001b[28A\u001b[2K\u001b[2A\u001b[2K\u001b[5A\u001b[2K\u001b[5A\u001b[2K\u001b[5A\u001b[2K\u001b[28A\u001b[2K\u001b[11A\u001b[2K\u001b[5A\u001b[2K\u001b[28A\u001b[2K\u001b[11A\u001b[2K\u001b[28A\u001b[2K\u001b[11A\u001b[2K\u001b[28A\u001b[2K\u001b[11A\u001b[2K\u001b[28A\u001b[2K\u001b[11A\u001b[2K\u001b[5A\u001b[2K\u001b[1A\u001b[2K\u001b[11A\u001b[2K\u001b[28A\u001b[2K\u001b[1A\u001b[2K\u001b[11A\u001b[2K\u001b[11A\u001b[2K\u001b[5A\u001b[2K\u001b[11A\u001b[2K\u001b[28A\u001b[2K\u001b[1A\u001b[2K\u001b[28A\u001b[2K\u001b[1A\u001b[2K\u001b[28A\u001b[2K\u001b[5A\u001b[2K\u001b[28A\u001b[2K\u001b[28A\u001b[2K\u001b[28A\u001b[2K\u001b[5A\u001b[2K\u001b[1A\u001b[2K\u001b[28A\u001b[2K\u001b[11A\u001b[2K\u001b[1A\u001b[2K\u001b[11A\u001b[2K\u001b[5A\u001b[2K\u001b[1A\u001b[2K\u001b[11A\u001b[2K\u001b[1A\u001b[2K\u001b[28A\u001b[2K\u001b[1A\u001b[2K\u001b[1A\u001b[2K\u001b[28A\u001b[2K\u001b[11A\u001b[2K\u001b[28A\u001b[2K\u001b[1A\u001b[2K\u001b[28A\u001b[2K\u001b[1A\u001b[2K\u001b[28A\u001b[2K\u001b[11A\u001b[2K\u001b[5A\u001b[2K\u001b[11A\u001b[2K\u001b[5A\u001b[2K\u001b[11A\u001b[2K\u001b[5A\u001b[2K\u001b[28A\u001b[2K\u001b[5A\u001b[2K\u001b[28A\u001b[2K\u001b[1A\u001b[2K\u001b[28A\u001b[2K\u001b[11A\u001b[2K\u001b[28A\u001b[2K\u001b[1A\u001b[2K\u001b[11A\u001b[2K\u001b[1A\u001b[2K\u001b[11A\u001b[2K\u001b[1A\u001b[2K\u001b[11A\u001b[2K\u001b[1A\u001b[2K\u001b[11A\u001b[2K\u001b[1A\u001b[2K\u001b[11A\u001b[2K\u001b[1A\u001b[2K\u001b[5A\u001b[2K\u001b[1A\u001b[2K\u001b[11A\u001b[2K\u001b[5A\u001b[2K\u001b[28A\u001b[2K\u001b[1A\u001b[2K\u001b[11A\u001b[2K\u001b[11A\u001b[2K\u001b[5A\u001b[2K\u001b[1A\u001b[2K\u001b[5A\u001b[2K\u001b[1A\u001b[2K\u001b[28A\u001b[2K\u001b[1A\u001b[2K\u001b[5A\u001b[2K\u001b[1A\u001b[2K\u001b[28A\u001b[2K\u001b[1A\u001b[2K\u001b[11A\u001b[2K\u001b[1A\u001b[2K\u001b[5A\u001b[2K\u001b[11A\u001b[2K\u001b[5A\u001b[2K\u001b[11A\u001b[2K\u001b[5A\u001b[2K\u001b[1A\u001b[2K\u001b[11A\u001b[2K\u001b[1A\u001b[2K\u001b[28A\u001b[2K\u001b[1A\u001b[2K\u001b[5A\u001b[2K\u001b[28A\u001b[2K\u001b[5A\u001b[2K\u001b[1A\u001b[2K\u001b[28A\u001b[2K\u001b[1A\u001b[2K\u001b[28A\u001b[2K\u001b[11A\u001b[2K\u001b[1A\u001b[2K\u001b[5A\u001b[2K\u001b[1A\u001b[2K\u001b[5A\u001b[2K\u001b[1A\u001b[2K\u001b[5A\u001b[2K\u001b[11A\u001b[2K\u001b[28A\u001b[2K\u001b[5A\u001b[2K\u001b[28A\u001b[2K\u001b[11A\u001b[2K\u001b[1A\u001b[2K\u001b[11A\u001b[2K\u001b[1A\u001b[2K\u001b[11A\u001b[2K\u001b[28A\u001b[2K\u001b[11A\u001b[2K\u001b[5A\u001b[2K\u001b[11A\u001b[2K\u001b[11A\u001b[2K\u001b[5A\u001b[2K\u001b[1A\u001b[2K\u001b[11A\u001b[2K\u001b[5A\u001b[2K\u001b[28A\u001b[2K\u001b[5A\u001b[2K\u001b[11A\u001b[2K\u001b[5A\u001b[2K\u001b[28A\u001b[2K\u001b[5A\u001b[2K\u001b[11A\u001b[2K\u001b[28A\u001b[2K\u001b[5A\u001b[2K\u001b[1A\u001b[2K\u001b[5A\u001b[2K\u001b[11A\u001b[2K\u001b[1A\u001b[2K\u001b[11A\u001b[2K\u001b[1A\u001b[2K\u001b[1A\u001b[2K\u001b[5A\u001b[2K\u001b[28A\u001b[2K\u001b[5A\u001b[2K\u001b[28A\u001b[2K\u001b[1A\u001b[2K\u001b[5A\u001b[2K\u001b[28A\u001b[2K\u001b[5A\u001b[2K\u001b[28A\u001b[2K\u001b[11A\u001b[2K\u001b[1A\u001b[2K\u001b[11A\u001b[2K\u001b[5A\u001b[2K\u001b[1A\u001b[2K\u001b[28A\u001b[2K\u001b[5A\u001b[2K\u001b[11A\u001b[2K\u001b[5A\u001b[2K\u001b[11A\u001b[2K\u001b[5A\u001b[2K\u001b[11A\u001b[2K\u001b[5A\u001b[2K\u001b[1A\u001b[2K\u001b[5A\u001b[2K\u001b[1A\u001b[2K\u001b[5A\u001b[2K\u001b[1A\u001b[2K\u001b[5A\u001b[2K\u001b[1A\u001b[2K\u001b[5A\u001b[2KDownloading  304.7MB/840MB\u001b[1A\u001b[2K\u001b[5A\u001b[2K\u001b[1A\u001b[2K\u001b[1A\u001b[2K\u001b[5A\u001b[2K\u001b[1A\u001b[2K\u001b[5A\u001b[2K\u001b[5A\u001b[2K\u001b[28A\u001b[2K\u001b[1A\u001b[2K\u001b[1A\u001b[2K\u001b[28A\u001b[2K\u001b[1A\u001b[2K\u001b[5A\u001b[2K\u001b[1A\u001b[2K\u001b[28A\u001b[2K\u001b[1A\u001b[2K\u001b[1A\u001b[2K\u001b[5A\u001b[2K\u001b[1A\u001b[2K\u001b[5A\u001b[2K\u001b[28A\u001b[2K\u001b[5A\u001b[2K\u001b[5A\u001b[2K\u001b[1A\u001b[2K\u001b[28A\u001b[2K\u001b[1A\u001b[2K\u001b[28A\u001b[2K\u001b[1A\u001b[2K\u001b[28A\u001b[2K\u001b[1A\u001b[2K\u001b[5A\u001b[2K\u001b[5A\u001b[2K\u001b[28A\u001b[2K\u001b[5A\u001b[2K\u001b[1A\u001b[2K\u001b[5A\u001b[2K\u001b[28A\u001b[2K\u001b[5A\u001b[2K\u001b[28A\u001b[2K\u001b[5A\u001b[2K\u001b[28A\u001b[2K\u001b[5A\u001b[2K\u001b[1A\u001b[2K\u001b[28A\u001b[2K\u001b[5A\u001b[2K\u001b[1A\u001b[2K\u001b[28A\u001b[2K\u001b[1A\u001b[2K\u001b[5A\u001b[2K\u001b[5A\u001b[2K\u001b[28A\u001b[2K\u001b[1A\u001b[2K\u001b[5A\u001b[2K\u001b[28A\u001b[2K\u001b[1A\u001b[2K\u001b[5A\u001b[2K\u001b[28A\u001b[2K\u001b[28A\u001b[2K\u001b[1A\u001b[2K\u001b[28A\u001b[2K\u001b[5A\u001b[2K\u001b[28A\u001b[2K\u001b[1A\u001b[2K\u001b[5A\u001b[2K\u001b[5A\u001b[2K\u001b[28A\u001b[2K\u001b[5A\u001b[2K\u001b[5A\u001b[2K\u001b[1A\u001b[2K\u001b[28A\u001b[2K\u001b[5A\u001b[2K\u001b[28A\u001b[2K\u001b[5A\u001b[2K\u001b[1A\u001b[2K\u001b[5A\u001b[2K\u001b[5A\u001b[2K\u001b[1A\u001b[2K\u001b[28A\u001b[2K\u001b[1A\u001b[2K\u001b[28A\u001b[2K\u001b[1A\u001b[2K\u001b[28A\u001b[2K\u001b[1A\u001b[2K\u001b[5A\u001b[2K\u001b[5A\u001b[2K\u001b[1A\u001b[2K\u001b[28A\u001b[2K\u001b[1A\u001b[2K\u001b[28A\u001b[2K\u001b[5A\u001b[2K\u001b[1A\u001b[2K\u001b[5A\u001b[2K\u001b[28A\u001b[2K\u001b[5A\u001b[2K\u001b[1A\u001b[2K\u001b[5A\u001b[2K\u001b[1A\u001b[2K\u001b[5A\u001b[2K\u001b[1A\u001b[2K\u001b[28A\u001b[2K\u001b[1A\u001b[2K\u001b[28A\u001b[2K\u001b[28A\u001b[2K\u001b[28A\u001b[2K\u001b[1A\u001b[2K\u001b[28A\u001b[2K\u001b[5A\u001b[2K\u001b[28A\u001b[2K\u001b[5A\u001b[2K\u001b[1A\u001b[2K\u001b[28A\u001b[2K\u001b[5A\u001b[2K\u001b[28A\u001b[2K\u001b[5A\u001b[2K\u001b[28A\u001b[2K\u001b[5A\u001b[2K\u001b[1A\u001b[2K\u001b[28A\u001b[2K\u001b[5A\u001b[2K\u001b[1A\u001b[2K\u001b[28A\u001b[2K\u001b[1A\u001b[2K\u001b[5A\u001b[2K\u001b[28A\u001b[2K\u001b[5A\u001b[2K\u001b[28A\u001b[2K\u001b[28A\u001b[2K\u001b[5A\u001b[2K\u001b[28A\u001b[2K\u001b[1A\u001b[2K\u001b[28A\u001b[2K\u001b[5A\u001b[2K\u001b[28A\u001b[2K\u001b[5A\u001b[2K\u001b[5A\u001b[2K\u001b[28A\u001b[2K\u001b[5A\u001b[2K\u001b[1A\u001b[2K\u001b[5A\u001b[2K\u001b[1A\u001b[2K\u001b[28A\u001b[2K\u001b[5A\u001b[2K\u001b[1A\u001b[2K\u001b[1A\u001b[2K\u001b[28A\u001b[2K\u001b[5A\u001b[2K\u001b[28A\u001b[2K\u001b[1A\u001b[2K\u001b[28A\u001b[2K\u001b[1A\u001b[2K\u001b[1A\u001b[2K\u001b[5A\u001b[2K\u001b[1A\u001b[2K\u001b[1A\u001b[2K\u001b[5A\u001b[2K\u001b[5A\u001b[2K\u001b[1A\u001b[2K\u001b[5A\u001b[2K\u001b[28A\u001b[2K\u001b[1A\u001b[2K\u001b[28A\u001b[2K\u001b[5A\u001b[2K\u001b[1A\u001b[2K\u001b[5A\u001b[2K\u001b[1A\u001b[2K\u001b[5A\u001b[2K\u001b[28A\u001b[2K\u001b[1A\u001b[2K\u001b[28A\u001b[2K\u001b[5A\u001b[2K\u001b[28A\u001b[2K\u001b[1A\u001b[2K\u001b[28A\u001b[2K\u001b[1A\u001b[2K\u001b[28A\u001b[2K\u001b[1A\u001b[2K\u001b[5A\u001b[2K\u001b[1A\u001b[2K\u001b[28A\u001b[2K\u001b[1A\u001b[2K\u001b[5A\u001b[2K\u001b[28A\u001b[2K\u001b[1A\u001b[2K\u001b[5A\u001b[2K\u001b[28A\u001b[2K\u001b[5A\u001b[2K\u001b[28A\u001b[2K\u001b[5A\u001b[2K\u001b[1A\u001b[2K\u001b[28A\u001b[2K\u001b[5A\u001b[2K\u001b[5A\u001b[2K\u001b[28A\u001b[2K\u001b[5A\u001b[2K\u001b[28A\u001b[2K\u001b[1A\u001b[2K\u001b[28A\u001b[2K\u001b[5A\u001b[2K\u001b[1A\u001b[2K\u001b[5A\u001b[2K\u001b[1A\u001b[2K\u001b[5A\u001b[2K\u001b[28A\u001b[2K\u001b[1A\u001b[2K\u001b[5A\u001b[2K\u001b[28A\u001b[2K\u001b[1A\u001b[2K\u001b[5A\u001b[2K\u001b[5A\u001b[2K\u001b[28A\u001b[2K\u001b[1A\u001b[2K\u001b[28A\u001b[2K\u001b[5A\u001b[2K\u001b[1A\u001b[2K\u001b[28A\u001b[2K\u001b[1A\u001b[2K\u001b[28A\u001b[2K\u001b[5A\u001b[2K\u001b[28A\u001b[2K\u001b[1A\u001b[2K\u001b[28A\u001b[2K\u001b[1A\u001b[2K\u001b[28A\u001b[2K\u001b[5A\u001b[2K\u001b[28A\u001b[2K\u001b[1A\u001b[2K\u001b[28A\u001b[2K\u001b[5A\u001b[2K\u001b[28A\u001b[2K\u001b[1A\u001b[2K\u001b[5A\u001b[2K\u001b[28A\u001b[2K\u001b[1A\u001b[2K\u001b[28A\u001b[2K\u001b[1A\u001b[2K\u001b[5A\u001b[2K\u001b[28A\u001b[2K\u001b[1A\u001b[2K\u001b[28A\u001b[2K\u001b[1A\u001b[2K\u001b[5A\u001b[2K\u001b[5A\u001b[2K\u001b[28A\u001b[2K\u001b[5A\u001b[2K\u001b[28A\u001b[2K\u001b[1A\u001b[2K\u001b[28A\u001b[2K\u001b[5A\u001b[2K\u001b[28A\u001b[2K\u001b[1A\u001b[2K\u001b[5A\u001b[2K\u001b[28A\u001b[2K\u001b[28A\u001b[2K\u001b[5A\u001b[2K\u001b[28A\u001b[2K\u001b[1A\u001b[2K\u001b[5A\u001b[2K\u001b[5A\u001b[2K\u001b[1A\u001b[2K\u001b[5A\u001b[2K\u001b[1A\u001b[2K\u001b[28A\u001b[2K\u001b[5A\u001b[2K\u001b[28A\u001b[2K\u001b[1A\u001b[2K\u001b[28A\u001b[2K\u001b[5A\u001b[2K\u001b[5A\u001b[2K\u001b[28A\u001b[2K\u001b[5A\u001b[2K\u001b[28A\u001b[2K\u001b[5A\u001b[2K\u001b[28A\u001b[2K\u001b[28A\u001b[2K\u001b[1A\u001b[2K\u001b[28A\u001b[2K\u001b[5A\u001b[2K\u001b[28A\u001b[2K\u001b[5A\u001b[2K\u001b[28A\u001b[2K\u001b[1A\u001b[2K\u001b[28A\u001b[2K\u001b[1A\u001b[2K\u001b[28A\u001b[2K\u001b[1A\u001b[2K\u001b[28A\u001b[2K\u001b[1A\u001b[2K\u001b[28A\u001b[2K\u001b[1A\u001b[2K\u001b[1A\u001b[2K\u001b[28A\u001b[2K\u001b[28A\u001b[2K\u001b[28A\u001b[2K\u001b[1A\u001b[2K\u001b[28A\u001b[2K\u001b[1A\u001b[2K\u001b[1A\u001b[2K\u001b[28A\u001b[2K\u001b[28A\u001b[2K\u001b[1A\u001b[2K\u001b[28A\u001b[2K\u001b[1A\u001b[2K\u001b[28A\u001b[2K\u001b[1A\u001b[2K\u001b[28A\u001b[2K\u001b[1A\u001b[2K\u001b[28A\u001b[2K\u001b[1A\u001b[2K\u001b[28A\u001b[2K\u001b[1A\u001b[2K\u001b[1A\u001b[2K\u001b[28A\u001b[2K\u001b[1A\u001b[2K\u001b[28A\u001b[2K\u001b[28A\u001b[2K\u001b[1A\u001b[2K\u001b[28A\u001b[2K\u001b[28A\u001b[2K\u001b[1A\u001b[2K\u001b[28A\u001b[2K\u001b[1A\u001b[2K\u001b[28A\u001b[2K\u001b[1A\u001b[2K\u001b[1A\u001b[2K\u001b[28A\u001b[2K\u001b[1A\u001b[2K\u001b[1A\u001b[2K\u001b[1A\u001b[2K\u001b[28A\u001b[2K\u001b[1A\u001b[2K\u001b[28A\u001b[2K\u001b[1A\u001b[2K\u001b[28A\u001b[2K\u001b[1A\u001b[2K\u001b[28A\u001b[2K\u001b[28A\u001b[2K\u001b[1A\u001b[2K\u001b[28A\u001b[2K\u001b[1A\u001b[2K\u001b[28A\u001b[2K\u001b[1A\u001b[2K\u001b[28A\u001b[2K\u001b[28A\u001b[2K\u001b[28A\u001b[2K\u001b[1A\u001b[2K\u001b[28A\u001b[2K\u001b[1A\u001b[2K\u001b[28A\u001b[2K\u001b[1A\u001b[2K\u001b[1A\u001b[2K\u001b[1A\u001b[2K\u001b[28A\u001b[2K\u001b[1A\u001b[2K\u001b[28A\u001b[2K\u001b[28A\u001b[2K\u001b[28A\u001b[2K\u001b[1A\u001b[2K\u001b[1A\u001b[2K\u001b[1A\u001b[2K\u001b[28A\u001b[2K\u001b[1A\u001b[2K\u001b[28A\u001b[2K\u001b[28A\u001b[2K\u001b[1A\u001b[2K\u001b[28A\u001b[2K\u001b[1A\u001b[2K\u001b[28A\u001b[2K\u001b[1A\u001b[2K\u001b[28A\u001b[2K\u001b[28A\u001b[2K\u001b[1A\u001b[2K\u001b[1A\u001b[2K\u001b[27A\u001b[2K\u001b[1A\u001b[2K\u001b[26A\u001b[2K\u001b[1A\u001b[2K\u001b[25A\u001b[2K\u001b[25A\u001b[2K\u001b[1A\u001b[2K\u001b[23A\u001b[2K\u001b[23A\u001b[2K\u001b[23A\u001b[2K\u001b[1A\u001b[2K\u001b[23A\u001b[2K\u001b[23A\u001b[2K\u001b[1A\u001b[2K\u001b[23A\u001b[2K\u001b[22A\u001b[2K\u001b[21A\u001b[2K\u001b[1A\u001b[2K\u001b[21A\u001b[2K\u001b[20A\u001b[2K\u001b[1A\u001b[2K\u001b[19A\u001b[2K\u001b[1A\u001b[2K\u001b[1A\u001b[2K\u001b[17A\u001b[2K\u001b[1A\u001b[2K\u001b[17A\u001b[2K\u001b[17A\u001b[2K\u001b[1A\u001b[2K\u001b[17A\u001b[2K\u001b[17A\u001b[2K\u001b[1A\u001b[2K\u001b[17A\u001b[2K\u001b[1A\u001b[2K\u001b[17A\u001b[2K\u001b[1A\u001b[2K\u001b[17A\u001b[2K\u001b[1A\u001b[2K\u001b[17A\u001b[2K\u001b[17A\u001b[2K\u001b[1A\u001b[2K\u001b[17A\u001b[2K\u001b[17A\u001b[2K\u001b[1A\u001b[2K\u001b[17A\u001b[2K\u001b[17A\u001b[2K\u001b[17A\u001b[2K\u001b[1A\u001b[2K\u001b[1A\u001b[2K\u001b[17A\u001b[2K\u001b[1A\u001b[2K\u001b[17A\u001b[2K\u001b[1A\u001b[2K\u001b[17A\u001b[2K\u001b[1A\u001b[2K\u001b[17A\u001b[2K\u001b[17A\u001b[2K\u001b[1A\u001b[2K\u001b[17A\u001b[2K\u001b[17A\u001b[2K\u001b[17A\u001b[2K\u001b[1A\u001b[2K\u001b[17A\u001b[2K\u001b[1A\u001b[2K\u001b[17A\u001b[2K\u001b[17A\u001b[2K\u001b[1A\u001b[2K\u001b[17A\u001b[2K\u001b[17A\u001b[2K\u001b[1A\u001b[2K\u001b[17A\u001b[2K\u001b[1A\u001b[2K\u001b[17A\u001b[2K\u001b[1A\u001b[2K\u001b[17A\u001b[2K\u001b[1A\u001b[2K\u001b[17A\u001b[2K\u001b[17A\u001b[2K\u001b[17A\u001b[2K\u001b[1A\u001b[2K\u001b[17A\u001b[2K\u001b[1A\u001b[2K\u001b[17A\u001b[2K\u001b[1A\u001b[2K\u001b[1A\u001b[2K\u001b[1A\u001b[2K\u001b[17A\u001b[2K\u001b[1A\u001b[2K\u001b[1A\u001b[2K\u001b[17A\u001b[2K\u001b[1A\u001b[2K\u001b[17A\u001b[2K\u001b[1A\u001b[2K\u001b[17A\u001b[2K\u001b[17A\u001b[2K\u001b[1A\u001b[2K\u001b[17A\u001b[2K\u001b[1A\u001b[2K\u001b[17A\u001b[2K\u001b[1A\u001b[2K\u001b[1A\u001b[2K\u001b[17A\u001b[2K\u001b[17A\u001b[2K\u001b[17A\u001b[2K\u001b[17A\u001b[2K\u001b[17A\u001b[2K\u001b[17A\u001b[2K\u001b[17A\u001b[2K\u001b[17A\u001b[2K\u001b[17A\u001b[2K\u001b[17A\u001b[2K\u001b[17A\u001b[2K\u001b[17A\u001b[2K\u001b[17A\u001b[2K\u001b[17A\u001b[2K\u001b[17A\u001b[2K\u001b[17A\u001b[2K\u001b[17A\u001b[2K\u001b[17A\u001b[2K\u001b[17A\u001b[2K\u001b[17A\u001b[2K\u001b[17A\u001b[2K\u001b[17A\u001b[2K\u001b[17A\u001b[2K\u001b[17A\u001b[2K\u001b[17A\u001b[2K\u001b[17A\u001b[2K\u001b[17A\u001b[2K\u001b[17A\u001b[2K\u001b[17A\u001b[2K\u001b[17A\u001b[2K\u001b[17A\u001b[2K\u001b[17A\u001b[2K\u001b[17A\u001b[2K\u001b[17A\u001b[2K\u001b[17A\u001b[2K\u001b[17A\u001b[2K\u001b[17A\u001b[2K\u001b[17A\u001b[2K\u001b[17A\u001b[2K\u001b[17A\u001b[2K\u001b[17A\u001b[2K\u001b[17A\u001b[2K\u001b[17A\u001b[2K\u001b[17A\u001b[2K\u001b[17A\u001b[2K\u001b[17A\u001b[2K\u001b[17A\u001b[2K\u001b[17A\u001b[2K\u001b[17A\u001b[2K\u001b[17A\u001b[2K\u001b[17A\u001b[2K\u001b[17A\u001b[2K\u001b[17A\u001b[2K\u001b[17A\u001b[2K\u001b[17A\u001b[2K\u001b[17A\u001b[2K\u001b[17A\u001b[2K\u001b[17A\u001b[2K\u001b[17A\u001b[2K\u001b[17A\u001b[2K\u001b[17A\u001b[2K\u001b[17A\u001b[2K\u001b[17A\u001b[2K\u001b[17A\u001b[2K\u001b[17A\u001b[2K\u001b[17A\u001b[2K\u001b[17A\u001b[2K\u001b[17A\u001b[2K\u001b[16A\u001b[2K\u001b[16A\u001b[2K\u001b[16A\u001b[2K\u001b[16A\u001b[2K\u001b[16A\u001b[2K\u001b[16A\u001b[2K\u001b[16A\u001b[2K\u001b[16A\u001b[2K\u001b[16A\u001b[2K\u001b[16A\u001b[2K\u001b[16A\u001b[2K\u001b[16A\u001b[2K\u001b[16A\u001b[2K\u001b[16A\u001b[2K\u001b[16A\u001b[2K\u001b[16A\u001b[2K\u001b[16A\u001b[2K\u001b[16A\u001b[2K\u001b[16A\u001b[2K\u001b[16A\u001b[2K\u001b[16A\u001b[2K\u001b[16A\u001b[2K\u001b[16A\u001b[2K\u001b[16A\u001b[2K\u001b[16A\u001b[2K\u001b[16A\u001b[2K\u001b[16A\u001b[2K\u001b[16A\u001b[2K\u001b[16A\u001b[2K\u001b[16A\u001b[2K\u001b[16A\u001b[2K\u001b[16A\u001b[2K\u001b[16A\u001b[2K\u001b[16A\u001b[2K\u001b[16A\u001b[2K\u001b[16A\u001b[2K\u001b[16A\u001b[2K\u001b[16A\u001b[2K\u001b[16A\u001b[2K\u001b[16A\u001b[2K\u001b[16A\u001b[2K\u001b[16A\u001b[2K\u001b[16A\u001b[2K\u001b[16A\u001b[2K\u001b[16A\u001b[2K\u001b[16A\u001b[2K\u001b[16A\u001b[2K\u001b[16A\u001b[2K\u001b[16A\u001b[2K\u001b[15A\u001b[2K\u001b[15A\u001b[2K\u001b[15A\u001b[2K\u001b[15A\u001b[2K\u001b[15A\u001b[2K\u001b[15A\u001b[2K\u001b[15A\u001b[2K\u001b[15A\u001b[2K\u001b[15A\u001b[2K\u001b[15A\u001b[2K\u001b[15A\u001b[2K\u001b[15A\u001b[2K\u001b[15A\u001b[2K\u001b[15A\u001b[2K\u001b[15A\u001b[2K\u001b[15A\u001b[2K\u001b[15A\u001b[2K\u001b[15A\u001b[2K\u001b[15A\u001b[2K\u001b[15A\u001b[2K\u001b[15A\u001b[2K\u001b[15A\u001b[2K\u001b[15A\u001b[2K\u001b[15A\u001b[2K\u001b[15A\u001b[2K\u001b[15A\u001b[2K\u001b[15A\u001b[2K\u001b[15A\u001b[2K\u001b[15A\u001b[2K\u001b[15A\u001b[2K\u001b[15A\u001b[2K\u001b[15A\u001b[2K\u001b[15A\u001b[2K\u001b[15A\u001b[2K\u001b[15A\u001b[2K\u001b[15A\u001b[2K\u001b[15A\u001b[2K\u001b[15A\u001b[2K\u001b[15A\u001b[2K\u001b[15A\u001b[2K\u001b[15A\u001b[2K\u001b[15A\u001b[2K\u001b[15A\u001b[2K\u001b[15A\u001b[2K\u001b[15A\u001b[2K\u001b[15A\u001b[2K\u001b[15A\u001b[2K\u001b[15A\u001b[2K\u001b[15A\u001b[2K\u001b[15A\u001b[2K\u001b[15A\u001b[2K\u001b[15A\u001b[2K\u001b[15A\u001b[2K\u001b[15A\u001b[2K\u001b[15A\u001b[2K\u001b[15A\u001b[2K\u001b[15A\u001b[2K\u001b[15A\u001b[2K\u001b[15A\u001b[2K\u001b[15A\u001b[2K\u001b[15A\u001b[2K\u001b[15A\u001b[2K\u001b[15A\u001b[2K\u001b[15A\u001b[2K\u001b[15A\u001b[2K\u001b[15A\u001b[2K\u001b[15A\u001b[2K\u001b[15A\u001b[2K\u001b[15A\u001b[2K\u001b[15A\u001b[2K\u001b[15A\u001b[2K\u001b[15A\u001b[2K\u001b[15A\u001b[2K\u001b[15A\u001b[2K\u001b[15A\u001b[2K\u001b[15A\u001b[2K\u001b[15A\u001b[2K\u001b[15A\u001b[2K\u001b[15A\u001b[2K\u001b[15A\u001b[2K\u001b[15A\u001b[2K\u001b[15A\u001b[2K\u001b[15A\u001b[2K\u001b[15A\u001b[2K\u001b[15A\u001b[2K\u001b[15A\u001b[2K\u001b[15A\u001b[2K\u001b[15A\u001b[2K\u001b[15A\u001b[2K\u001b[15A\u001b[2K\u001b[15A\u001b[2K\u001b[15A\u001b[2K\u001b[15A\u001b[2K\u001b[14A\u001b[2K\u001b[13A\u001b[2K\u001b[13A\u001b[2K\u001b[12A\u001b[2K\u001b[12A\u001b[2K\u001b[12A\u001b[2K\u001b[12A\u001b[2K\u001b[12A\u001b[2K\u001b[12A\u001b[2K\u001b[12A\u001b[2K\u001b[12A\u001b[2K\u001b[12A\u001b[2K\u001b[12A\u001b[2K\u001b[12A\u001b[2K\u001b[12A\u001b[2K\u001b[12A\u001b[2K\u001b[12A\u001b[2K\u001b[12A\u001b[2K\u001b[12A\u001b[2K\u001b[12A\u001b[2K\u001b[12A\u001b[2K\u001b[12A\u001b[2K\u001b[12A\u001b[2K\u001b[12A\u001b[2K\u001b[12A\u001b[2K\u001b[12A\u001b[2K\u001b[12A\u001b[2K\u001b[12A\u001b[2K\u001b[12A\u001b[2K\u001b[12A\u001b[2K\u001b[12A\u001b[2K\u001b[12A\u001b[2K\u001b[12A\u001b[2K\u001b[12A\u001b[2K\u001b[12A\u001b[2K\u001b[12A\u001b[2K\u001b[12A\u001b[2K\u001b[12A\u001b[2K\u001b[12A\u001b[2K\u001b[12A\u001b[2K\u001b[12A\u001b[2K\u001b[12A\u001b[2K\u001b[12A\u001b[2K\u001b[12A\u001b[2K\u001b[12A\u001b[2K\u001b[12A\u001b[2K\u001b[12A\u001b[2K\u001b[12A\u001b[2K\u001b[12A\u001b[2K\u001b[12A\u001b[2K\u001b[12A\u001b[2K\u001b[12A\u001b[2K\u001b[12A\u001b[2K\u001b[12A\u001b[2K\u001b[12A\u001b[2K\u001b[12A\u001b[2K\u001b[12A\u001b[2K\u001b[12A\u001b[2K\u001b[12A\u001b[2K\u001b[12A\u001b[2K\u001b[12A\u001b[2K\u001b[12A\u001b[2K\u001b[12A\u001b[2K\u001b[12A\u001b[2K\u001b[12A\u001b[2K\u001b[12A\u001b[2K\u001b[12A\u001b[2K\u001b[12A\u001b[2K\u001b[12A\u001b[2K\u001b[12A\u001b[2K\u001b[12A\u001b[2K\u001b[12A\u001b[2K\u001b[12A\u001b[2K\u001b[12A\u001b[2K\u001b[12A\u001b[2K\u001b[12A\u001b[2K\u001b[12A\u001b[2K\u001b[12A\u001b[2K\u001b[12A\u001b[2K\u001b[12A\u001b[2K\u001b[12A\u001b[2K\u001b[12A\u001b[2K\u001b[12A\u001b[2K\u001b[12A\u001b[2K\u001b[12A\u001b[2K\u001b[12A\u001b[2K\u001b[12A\u001b[2K\u001b[12A\u001b[2K\u001b[12A\u001b[2K\u001b[12A\u001b[2K\u001b[12A\u001b[2K\u001b[12A\u001b[2K\u001b[12A\u001b[2K\u001b[12A\u001b[2K\u001b[12A\u001b[2K\u001b[12A\u001b[2K\u001b[12A\u001b[2K\u001b[12A\u001b[2K\u001b[12A\u001b[2K\u001b[12A\u001b[2K\u001b[12A\u001b[2K\u001b[12A\u001b[2K\u001b[12A\u001b[2K\u001b[12A\u001b[2K\u001b[12A\u001b[2K\u001b[12A\u001b[2K\u001b[12A\u001b[2K\u001b[12A\u001b[2K\u001b[12A\u001b[2K\u001b[12A\u001b[2K\u001b[12A\u001b[2K\u001b[12A\u001b[2K\u001b[11A\u001b[2K\u001b[11A\u001b[2K\u001b[11A\u001b[2K\u001b[11A\u001b[2K\u001b[11A\u001b[2K\u001b[11A\u001b[2K\u001b[11A\u001b[2K\u001b[11A\u001b[2K\u001b[11A\u001b[2K\u001b[11A\u001b[2K\u001b[11A\u001b[2K\u001b[11A\u001b[2K\u001b[11A\u001b[2K\u001b[11A\u001b[2K\u001b[11A\u001b[2K\u001b[11A\u001b[2K\u001b[11A\u001b[2K\u001b[11A\u001b[2K\u001b[11A\u001b[2K\u001b[11A\u001b[2K\u001b[11A\u001b[2K\u001b[11A\u001b[2K\u001b[11A\u001b[2K\u001b[11A\u001b[2K\u001b[11A\u001b[2K\u001b[11A\u001b[2K\u001b[11A\u001b[2K\u001b[11A\u001b[2K\u001b[11A\u001b[2K\u001b[11A\u001b[2K\u001b[11A\u001b[2K\u001b[11A\u001b[2K\u001b[11A\u001b[2K\u001b[11A\u001b[2K\u001b[11A\u001b[2K\u001b[11A\u001b[2K\u001b[11A\u001b[2K\u001b[11A\u001b[2K\u001b[11A\u001b[2K\u001b[11A\u001b[2K\u001b[11A\u001b[2K\u001b[11A\u001b[2K\u001b[11A\u001b[2K\u001b[11A\u001b[2K\u001b[11A\u001b[2K\u001b[11A\u001b[2K\u001b[11A\u001b[2K\u001b[11A\u001b[2K\u001b[11A\u001b[2K\u001b[11A\u001b[2K\u001b[11A\u001b[2K\u001b[11A\u001b[2K\u001b[11A\u001b[2K\u001b[11A\u001b[2K\u001b[11A\u001b[2K\u001b[11A\u001b[2K\u001b[11A\u001b[2K\u001b[11A\u001b[2K\u001b[11A\u001b[2K\u001b[11A\u001b[2K\u001b[11A\u001b[2K\u001b[11A\u001b[2K\u001b[11A\u001b[2K\u001b[11A\u001b[2K\u001b[11A\u001b[2K\u001b[11A\u001b[2K\u001b[11A\u001b[2K\u001b[11A\u001b[2K\u001b[11A\u001b[2K\u001b[11A\u001b[2K\u001b[11A\u001b[2K\u001b[11A\u001b[2K\u001b[11A\u001b[2K\u001b[11A\u001b[2K\u001b[11A\u001b[2K\u001b[11A\u001b[2K\u001b[11A\u001b[2K\u001b[11A\u001b[2K\u001b[11A\u001b[2K\u001b[11A\u001b[2K\u001b[11A\u001b[2K\u001b[11A\u001b[2K\u001b[11A\u001b[2K\u001b[11A\u001b[2K\u001b[11A\u001b[2K\u001b[11A\u001b[2K\u001b[11A\u001b[2K\u001b[11A\u001b[2K\u001b[11A\u001b[2K\u001b[11A\u001b[2K\u001b[11A\u001b[2K\u001b[11A\u001b[2K\u001b[11A\u001b[2K\u001b[11A\u001b[2K\u001b[11A\u001b[2K\u001b[11A\u001b[2K\u001b[11A\u001b[2K\u001b[11A\u001b[2K\u001b[11A\u001b[2K\u001b[11A\u001b[2K\u001b[11A\u001b[2K\u001b[11A\u001b[2K\u001b[11A\u001b[2K\u001b[11A\u001b[2K\u001b[11A\u001b[2K\u001b[11A\u001b[2K\u001b[11A\u001b[2K\u001b[11A\u001b[2K\u001b[11A\u001b[2K\u001b[11A\u001b[2K\u001b[11A\u001b[2K\u001b[11A\u001b[2K\u001b[11A\u001b[2K\u001b[11A\u001b[2K\u001b[11A\u001b[2K\u001b[11A\u001b[2K\u001b[11A\u001b[2K\u001b[11A\u001b[2K\u001b[11A\u001b[2K\u001b[11A\u001b[2K\u001b[11A\u001b[2K\u001b[11A\u001b[2K\u001b[11A\u001b[2K\u001b[11A\u001b[2K\u001b[11A\u001b[2K\u001b[11A\u001b[2K\u001b[11A\u001b[2K\u001b[11A\u001b[2K\u001b[11A\u001b[2K\u001b[11A\u001b[2K\u001b[11A\u001b[2K\u001b[11A\u001b[2K\u001b[11A\u001b[2K\u001b[11A\u001b[2K\u001b[11A\u001b[2K\u001b[11A\u001b[2K\u001b[11A\u001b[2K\u001b[11A\u001b[2K\u001b[11A\u001b[2K\u001b[11A\u001b[2K\u001b[11A\u001b[2K\u001b[11A\u001b[2K\u001b[11A\u001b[2K\u001b[11A\u001b[2K\u001b[11A\u001b[2K\u001b[11A\u001b[2K\u001b[11A\u001b[2K\u001b[11A\u001b[2K\u001b[11A\u001b[2K\u001b[11A\u001b[2K\u001b[11A\u001b[2K\u001b[11A\u001b[2K\u001b[11A\u001b[2K\u001b[11A\u001b[2K\u001b[11A\u001b[2K\u001b[11A\u001b[2K\u001b[11A\u001b[2K\u001b[11A\u001b[2K\u001b[11A\u001b[2K\u001b[11A\u001b[2K\u001b[11A\u001b[2K\u001b[11A\u001b[2K\u001b[11A\u001b[2K\u001b[11A\u001b[2K\u001b[11A\u001b[2K\u001b[11A\u001b[2K\u001b[11A\u001b[2K\u001b[11A\u001b[2K\u001b[11A\u001b[2K\u001b[11A\u001b[2K\u001b[11A\u001b[2K\u001b[11A\u001b[2K\u001b[11A\u001b[2K\u001b[11A\u001b[2K\u001b[11A\u001b[2K\u001b[11A\u001b[2K\u001b[11A\u001b[2K\u001b[11A\u001b[2K\u001b[11A\u001b[2K\u001b[11A\u001b[2K\u001b[11A\u001b[2K\u001b[11A\u001b[2K\u001b[11A\u001b[2K\u001b[10A\u001b[2K\u001b[10A\u001b[2K\u001b[10A\u001b[2K\u001b[10A\u001b[2K\u001b[10A\u001b[2K\u001b[9A\u001b[2K\u001b[9A\u001b[2K\u001b[9A\u001b[2K\u001b[9A\u001b[2K\u001b[9A\u001b[2K\u001b[9A\u001b[2K\u001b[9A\u001b[2K\u001b[9A\u001b[2K\u001b[9A\u001b[2K\u001b[9A\u001b[2K\u001b[9A\u001b[2K\u001b[9A\u001b[2K\u001b[9A\u001b[2K\u001b[9A\u001b[2K\u001b[9A\u001b[2K\u001b[9A\u001b[2K\u001b[9A\u001b[2K\u001b[9A\u001b[2K\u001b[9A\u001b[2K\u001b[9A\u001b[2K\u001b[9A\u001b[2K\u001b[9A\u001b[2K\u001b[9A\u001b[2K\u001b[9A\u001b[2K\u001b[9A\u001b[2K\u001b[9A\u001b[2K\u001b[9A\u001b[2K\u001b[9A\u001b[2K\u001b[9A\u001b[2K\u001b[9A\u001b[2K\u001b[9A\u001b[2K\u001b[9A\u001b[2K\u001b[9A\u001b[2K\u001b[8A\u001b[2K\u001b[8A\u001b[2K\u001b[8A\u001b[2K\u001b[8A\u001b[2K\u001b[8A\u001b[2K\u001b[7A\u001b[2K\u001b[7A\u001b[2K\u001b[7A\u001b[2K\u001b[7A\u001b[2K\u001b[6A\u001b[2K\u001b[6A\u001b[2K\u001b[6A\u001b[2K\u001b[6A\u001b[2K\u001b[6A\u001b[2K\u001b[6A\u001b[2K\u001b[6A\u001b[2K\u001b[6A\u001b[2K\u001b[6A\u001b[2K\u001b[6A\u001b[2K\u001b[5A\u001b[2K\u001b[5A\u001b[2K\u001b[5A\u001b[2K\u001b[5A\u001b[2K\u001b[5A\u001b[2K\u001b[5A\u001b[2K\u001b[5A\u001b[2K\u001b[5A\u001b[2K\u001b[5A\u001b[2K\u001b[5A\u001b[2K\u001b[5A\u001b[2K\u001b[5A\u001b[2K\u001b[5A\u001b[2K\u001b[5A\u001b[2K\u001b[5A\u001b[2K\u001b[5A\u001b[2K\u001b[5A\u001b[2K\u001b[5A\u001b[2K\u001b[5A\u001b[2K\u001b[5A\u001b[2K\u001b[5A\u001b[2K\u001b[5A\u001b[2K\u001b[5A\u001b[2K\u001b[5A\u001b[2K\u001b[5A\u001b[2K\u001b[5A\u001b[2K\u001b[5A\u001b[2K\u001b[5A\u001b[2K\u001b[5A\u001b[2K\u001b[5A\u001b[2K\u001b[5A\u001b[2K\u001b[5A\u001b[2K\u001b[5A\u001b[2K\u001b[5A\u001b[2K\u001b[5A\u001b[2K\u001b[5A\u001b[2K\u001b[5A\u001b[2K\u001b[5A\u001b[2K\u001b[5A\u001b[2K\u001b[5A\u001b[2K\u001b[5A\u001b[2K\u001b[5A\u001b[2K\u001b[5A\u001b[2K\u001b[5A\u001b[2K\u001b[5A\u001b[2K\u001b[5A\u001b[2K\u001b[5A\u001b[2K\u001b[5A\u001b[2K\u001b[5A\u001b[2K\u001b[5A\u001b[2K\u001b[5A\u001b[2K\u001b[5A\u001b[2K\u001b[5A\u001b[2K\u001b[5A\u001b[2K\u001b[5A\u001b[2K\u001b[5A\u001b[2K\u001b[5A\u001b[2K\u001b[5A\u001b[2K\u001b[5A\u001b[2K\u001b[5A\u001b[2K\u001b[5A\u001b[2K\u001b[5A\u001b[2K\u001b[5A\u001b[2K\u001b[5A\u001b[2K\u001b[5A\u001b[2K\u001b[5A\u001b[2K\u001b[5A\u001b[2K\u001b[5A\u001b[2K\u001b[5A\u001b[2K\u001b[5A\u001b[2K\u001b[5A\u001b[2K\u001b[5A\u001b[2K\u001b[5A\u001b[2K\u001b[5A\u001b[2K\u001b[5A\u001b[2K\u001b[5A\u001b[2K\u001b[5A\u001b[2K\u001b[5A\u001b[2K\u001b[5A\u001b[2K\u001b[5A\u001b[2K\u001b[5A\u001b[2K\u001b[5A\u001b[2K\u001b[5A\u001b[2K\u001b[5A\u001b[2K\u001b[5A\u001b[2K\u001b[5A\u001b[2K\u001b[5A\u001b[2K\u001b[5A\u001b[2K\u001b[5A\u001b[2K\u001b[5A\u001b[2K\u001b[5A\u001b[2K\u001b[5A\u001b[2K\u001b[5A\u001b[2K\u001b[5A\u001b[2K\u001b[5A\u001b[2K\u001b[5A\u001b[2K\u001b[5A\u001b[2K\u001b[5A\u001b[2K\u001b[5A\u001b[2K\u001b[5A\u001b[2K\u001b[5A\u001b[2K\u001b[5A\u001b[2K\u001b[5A\u001b[2K\u001b[5A\u001b[2K\u001b[5A\u001b[2K\u001b[5A\u001b[2K\u001b[5A\u001b[2K\u001b[5A\u001b[2K\u001b[5A\u001b[2K\u001b[5A\u001b[2K\u001b[5A\u001b[2K\u001b[5A\u001b[2K\u001b[5A\u001b[2K\u001b[5A\u001b[2K\u001b[5A\u001b[2K\u001b[5A\u001b[2K\u001b[5A\u001b[2K\u001b[5A\u001b[2K\u001b[5A\u001b[2K\u001b[5A\u001b[2K\u001b[5A\u001b[2K\u001b[5A\u001b[2K\u001b[5A\u001b[2K\u001b[5A\u001b[2K\u001b[5A\u001b[2K\u001b[5A\u001b[2K\u001b[5A\u001b[2K\u001b[5A\u001b[2K\u001b[5A\u001b[2K\u001b[5A\u001b[2K\u001b[5A\u001b[2K\u001b[5A\u001b[2K\u001b[5A\u001b[2K\u001b[5A\u001b[2K\u001b[5A\u001b[2K\u001b[5A\u001b[2K\u001b[5A\u001b[2K\u001b[5A\u001b[2K\u001b[5A\u001b[2K\u001b[5A\u001b[2K\u001b[5A\u001b[2K\u001b[5A\u001b[2K\u001b[5A\u001b[2K\u001b[5A\u001b[2K\u001b[5A\u001b[2K\u001b[5A\u001b[2K\u001b[5A\u001b[2KExtracting  799.9MB/840MB\u001b[5A\u001b[2K\u001b[5A\u001b[2K\u001b[5A\u001b[2K\u001b[5A\u001b[2K\u001b[5A\u001b[2K\u001b[5A\u001b[2K\u001b[5A\u001b[2K\u001b[5A\u001b[2K\u001b[5A\u001b[2K\u001b[5A\u001b[2K\u001b[5A\u001b[2K\u001b[5A\u001b[2K\u001b[5A\u001b[2K\u001b[5A\u001b[2K\u001b[5A\u001b[2K\u001b[5A\u001b[2K\u001b[5A\u001b[2K\u001b[5A\u001b[2K\u001b[5A\u001b[2K\u001b[5A\u001b[2K\u001b[5A\u001b[2K\u001b[5A\u001b[2K\u001b[5A\u001b[2K\u001b[5A\u001b[2K\u001b[4A\u001b[2K\u001b[4A\u001b[2K\u001b[3A\u001b[2K\u001b[3A\u001b[2K\u001b[3A\u001b[2K\u001b[2A\u001b[2K\u001b[1A\u001b[2K\u001b[1A\u001b[2K\u001b[1A\u001b[2K\u001b[1A\u001b[2K\u001b[1A\u001b[2K\u001b[1A\u001b[2K\u001b[1A\u001b[2K\u001b[1A\u001b[2K\u001b[1A\u001b[2K\u001b[1A\u001b[2K\u001b[1A\u001b[2K\u001b[1A\u001b[2K\u001b[1A\u001b[2K\u001b[1A\u001b[2K\u001b[1A\u001b[2K\u001b[1A\u001b[2K\u001b[1A\u001b[2K\u001b[1A\u001b[2K\u001b[1A\u001b[2K\u001b[1A\u001b[2K\u001b[1A\u001b[2K\u001b[1A\u001b[2K\u001b[1A\u001b[2K\u001b[1A\u001b[2K\u001b[1A\u001b[2K\u001b[1A\u001b[2K\u001b[1A\u001b[2K\u001b[1A\u001b[2K\u001b[1A\u001b[2K\u001b[1A\u001b[2K\u001b[1A\u001b[2K\u001b[1A\u001b[2K\u001b[1A\u001b[2K\u001b[1A\u001b[2K\u001b[1A\u001b[2K\u001b[1A\u001b[2K\u001b[1A\u001b[2K\u001b[1A\u001b[2K\u001b[1A\u001b[2K\u001b[1A\u001b[2K\u001b[1A\u001b[2K\u001b[1A\u001b[2K\u001b[1A\u001b[2K\u001b[1A\u001b[2K\u001b[1A\u001b[2K\u001b[1A\u001b[2K\u001b[1A\u001b[2K\u001b[1A\u001b[2K\u001b[1A\u001b[2K\u001b[1A\u001b[2K\u001b[1A\u001b[2K\u001b[1A\u001b[2K\u001b[1A\u001b[2K\u001b[1A\u001b[2K\u001b[1A\u001b[2K\u001b[1A\u001b[2K\u001b[1A\u001b[2K\u001b[1A\u001b[2K\u001b[1A\u001b[2K\u001b[1A\u001b[2K\u001b[1A\u001b[2K\u001b[1A\u001b[2K\u001b[1A\u001b[2K\u001b[1A\u001b[2K\u001b[1A\u001b[2K\u001b[1A\u001b[2K\u001b[1A\u001b[2K\u001b[1A\u001b[2K\u001b[1A\u001b[2K\u001b[1A\u001b[2K\u001b[1A\u001b[2K\u001b[1A\u001b[2K\u001b[1A\u001b[2K\u001b[1A\u001b[2K\u001b[1A\u001b[2K\u001b[1A\u001b[2K\u001b[1A\u001b[2K\u001b[1A\u001b[2K\u001b[1A\u001b[2K\u001b[1A\u001b[2K\u001b[1A\u001b[2K\u001b[1A\u001b[2K\u001b[1A\u001b[2K\u001b[1A\u001b[2K\u001b[1A\u001b[2K\u001b[1A\u001b[2K\u001b[1A\u001b[2K\u001b[1A\u001b[2K\u001b[1A\u001b[2K\u001b[1A\u001b[2K\u001b[1A\u001b[2K\u001b[1A\u001b[2K\u001b[1A\u001b[2K\u001b[1A\u001b[2K\u001b[1A\u001b[2K\u001b[1A\u001b[2K\u001b[1A\u001b[2K\u001b[1A\u001b[2K\u001b[1A\u001b[2K\u001b[1A\u001b[2K\u001b[1A\u001b[2K\u001b[1A\u001b[2K\u001b[1A\u001b[2K\u001b[1A\u001b[2K\u001b[1A\u001b[2K\u001b[1A\u001b[2K\u001b[1A\u001b[2K\u001b[1A\u001b[2K\u001b[1A\u001b[2K\u001b[1A\u001b[2K\u001b[1A\u001b[2K\u001b[1A\u001b[2K\u001b[1A\u001b[2K\u001b[1A\u001b[2K\u001b[1A\u001b[2K\u001b[1A\u001b[2K\u001b[1A\u001b[2K\u001b[1A\u001b[2K\u001b[1A\u001b[2K\u001b[1A\u001b[2K\u001b[1A\u001b[2K\u001b[1A\u001b[2K\u001b[1A\u001b[2K\u001b[1A\u001b[2K\u001b[1A\u001b[2K\u001b[1A\u001b[2K\u001b[1A\u001b[2K\u001b[1A\u001b[2K\u001b[1A\u001b[2K\u001b[1A\u001b[2K\u001b[1A\u001b[2K\u001b[1A\u001b[2K\u001b[1A\u001b[2K\u001b[1A\u001b[2K\u001b[1A\u001b[2K\u001b[1A\u001b[2K\u001b[1A\u001b[2K\u001b[1A\u001b[2K\u001b[1A\u001b[2K\u001b[1A\u001b[2K\u001b[1A\u001b[2K\u001b[1A\u001b[2K\u001b[1A\u001b[2K\u001b[1A\u001b[2K\u001b[1A\u001b[2K\u001b[1A\u001b[2K\u001b[1A\u001b[2K\u001b[1A\u001b[2K\u001b[1A\u001b[2K\u001b[1A\u001b[2K\u001b[1A\u001b[2K\u001b[1A\u001b[2K\u001b[1A\u001b[2K\u001b[1A\u001b[2K\u001b[1A\u001b[2K\u001b[1A\u001b[2K\u001b[1A\u001b[2K\u001b[1A\u001b[2K\u001b[1A\u001b[2K\u001b[1A\u001b[2K\u001b[1A\u001b[2K\u001b[1A\u001b[2K\u001b[1A\u001b[2K\u001b[1A\u001b[2K\u001b[1A\u001b[2K\u001b[1A\u001b[2K\u001b[1A\u001b[2K\u001b[1A\u001b[2K\u001b[1A\u001b[2K\u001b[1A\u001b[2K\u001b[1A\u001b[2K\u001b[1A\u001b[2K\u001b[1A\u001b[2K\u001b[1A\u001b[2K\u001b[1A\u001b[2K\u001b[1A\u001b[2K\u001b[1A\u001b[2K\u001b[1A\u001b[2K\u001b[1A\u001b[2K\u001b[1A\u001b[2K\u001b[1A\u001b[2K\u001b[1A\u001b[2K\u001b[1A\u001b[2K\u001b[1A\u001b[2K\u001b[1A\u001b[2K\u001b[1A\u001b[2K\u001b[1A\u001b[2K\u001b[1A\u001b[2K\u001b[1A\u001b[2K\u001b[1A\u001b[2K\u001b[1A\u001b[2K\u001b[1A\u001b[2K\u001b[1A\u001b[2K\u001b[1A\u001b[2K\u001b[1A\u001b[2K\u001b[1A\u001b[2K\u001b[1A\u001b[2K\u001b[1A\u001b[2K\u001b[1A\u001b[2K\u001b[1A\u001b[2K\u001b[1A\u001b[2K\u001b[1A\u001b[2K\u001b[1A\u001b[2K\u001b[1A\u001b[2K\u001b[1A\u001b[2K\u001b[1A\u001b[2K\u001b[1A\u001b[2K\u001b[1A\u001b[2K\u001b[1A\u001b[2K\u001b[1A\u001b[2K\u001b[1A\u001b[2K\u001b[1A\u001b[2K\u001b[1A\u001b[2K\u001b[1A\u001b[2K\u001b[1A\u001b[2K\u001b[1A\u001b[2K\u001b[1A\u001b[2K\u001b[1A\u001b[2K\u001b[1A\u001b[2K\u001b[1A\u001b[2K\u001b[1A\u001b[2K\u001b[1A\u001b[2K\u001b[1A\u001b[2K\u001b[1A\u001b[2K\u001b[1A\u001b[2K\u001b[1A\u001b[2K\u001b[1A\u001b[2K\u001b[1A\u001b[2K\u001b[1A\u001b[2K\u001b[1A\u001b[2K\u001b[1A\u001b[2K\u001b[1A\u001b[2K\u001b[1A\u001b[2K\u001b[1A\u001b[2K\u001b[1A\u001b[2K\u001b[1A\u001b[2K\u001b[1A\u001b[2K\u001b[1A\u001b[2K\u001b[1A\u001b[2K\u001b[1A\u001b[2K\u001b[1A\u001b[2K\u001b[1A\u001b[2K\u001b[1A\u001b[2K\u001b[1A\u001b[2K\u001b[1A\u001b[2K\u001b[1A\u001b[2K\u001b[1A\u001b[2K\u001b[1A\u001b[2K\u001b[1A\u001b[2K\u001b[1A\u001b[2K\u001b[1A\u001b[2K\u001b[1A\u001b[2K\u001b[1A\u001b[2K\u001b[1A\u001b[2K\u001b[1A\u001b[2K\u001b[1A\u001b[2K\u001b[1A\u001b[2K\u001b[1A\u001b[2K\u001b[1A\u001b[2K\u001b[1A\u001b[2K\u001b[1A\u001b[2K\u001b[1A\u001b[2K\u001b[1A\u001b[2K\u001b[1A\u001b[2K\u001b[1A\u001b[2K\u001b[1A\u001b[2KDigest: sha256:90b45a73fe29a478c7f12588231919492245038263e6a78f9271350cefcd6101\n",
      "Status: Downloaded newer image for public.ecr.aws/k1d3r4z1/deepracer-sim-public:latest\n",
      "public.ecr.aws/k1d3r4z1/deepracer-sim-public:latest\n"
     ]
    }
   ],
   "source": [
    "# This is the name of the simapp that is locally created and pushed to your account ECR\n",
    "local_simapp_ecr_docker_image_name = \"deepracer-sim-local-notebook\"\n",
    "public_ecr_alias = \"k1d3r4z1\"\n",
    "\n",
    "# Clean up the docker images\n",
    "!if [ -n \"$(docker ps -a -q)\" ]; then docker rm -f $(docker ps -a -q); fi\n",
    "!if [ -n \"$(docker images -q)\" ]; then docker rmi -f $(docker images -q); fi\n",
    "\n",
    "!aws ecr-public get-login-password --region us-east-1 | docker login --username AWS --password-stdin public.ecr.aws\n",
    "\n",
    "!docker pull public.ecr.aws/{public_ecr_alias}/deepracer-sim-public\n",
    "\n",
    "!docker tag public.ecr.aws/{public_ecr_alias}/deepracer-sim-public {local_simapp_ecr_docker_image_name}\n",
    "\n",
    "# Get docker id and container id\n",
    "simapp_docker_ids = !docker images | grep deepracer-sim-public | tr -s ' '| cut -d ' ' -f 3 | head -n 1\n",
    "simapp_docker_id = simapp_docker_ids[0]\n",
    "simapp_container_ids = !docker run -d -t {simapp_docker_id}\n",
    "simapp_container_id = simapp_container_ids[0]\n",
    "\n",
    "# Copy all the required training related code and update the code base\n",
    "!docker cp {simapp_container_id}:/opt/amazon/markov ./src/\n",
    "!docker cp {simapp_container_id}:/opt/amazon/rl_coach.patch ./src/\n",
    "!docker cp {simapp_container_id}:/opt/ml/code/. ./src/lib/\n",
    "!rm ./src/lib/credentials #Bug in Jupyter can't handle symlinks to files w/o read perms\n",
    "    \n",
    "#Copy out the Robomaker 3d environment for inspection\n",
    "!docker cp {simapp_container_id}:/opt/amazon/install/deepracer_simulation_environment ./src/\n",
    "\n"
   ]
  },
  {
   "cell_type": "markdown",
   "metadata": {},
   "source": [
    "### Initializing basic parameters"
   ]
  },
  {
   "cell_type": "code",
   "execution_count": 49,
   "metadata": {
    "tags": []
   },
   "outputs": [],
   "source": [
    "# Select the instance type\n",
    "#instance_type = \"ml.c4.2xlarge\"\n",
    "# instance_type = \"ml.p2.xlarge\"\n",
    "instance_type = \"ml.g4dn.2xlarge\"\n",
    "\n",
    "# Starting SageMaker session\n",
    "sage_session = sagemaker.session.Session()\n",
    "\n",
    "# Create unique job name.\n",
    "job_name_prefix = \"deepracer-notebook\"\n",
    "\n",
    "# Duration of job in seconds (10 minutes)\n",
    "job_duration_in_seconds = 7200\n",
    "\n",
    "# AWS Region\n",
    "aws_region = sage_session.boto_region_name\n",
    "if aws_region not in [\"us-west-2\", \"us-east-1\", \"eu-west-1\", \"ap-southeast-1\",\"ap-northeast-1\",\"eu-central-1\",\"us-east-2\"]:\n",
    "    raise Exception(\n",
    "        \"This notebook uses RoboMaker which is available only in certain\"\n",
    "        \"regions. Please switch to one of these regions.\"\n",
    "    )"
   ]
  },
  {
   "cell_type": "markdown",
   "metadata": {
    "jp-MarkdownHeadingCollapsed": true,
    "tags": []
   },
   "source": [
    "### Build Sagemaker docker image\n",
    "\n",
    "The file ./Dockerfile contains all the packages that are installed into the docker. Instead of using the default sagemaker container, we will be using this docker container. This is a separate docker container than the one created earlier for robomaker."
   ]
  },
  {
   "cell_type": "code",
   "execution_count": null,
   "metadata": {
    "scrolled": true,
    "tags": []
   },
   "outputs": [],
   "source": [
    "%%time\n",
    "from copy_to_sagemaker_container import (\n",
    "    get_sagemaker_docker,\n",
    "    copy_to_sagemaker_container,\n",
    "    get_custom_image_name,\n",
    ")\n",
    "\n",
    "cpu_or_gpu = \"gpu\" if instance_type.startswith(\"ml.p\") else \"cpu\"\n",
    "repository_short_name = \"sagemaker-docker-%s\" % cpu_or_gpu\n",
    "custom_image_name = get_custom_image_name(repository_short_name)\n",
    "try:\n",
    "    print(\"Copying files from your notebook to existing sagemaker container\")\n",
    "    sagemaker_docker_id = get_sagemaker_docker(repository_short_name)\n",
    "    copy_to_sagemaker_container(sagemaker_docker_id, repository_short_name)\n",
    "except Exception as e:\n",
    "    print(\"Creating sagemaker container\")\n",
    "    docker_build_args = {\n",
    "        \"CPU_OR_GPU\": cpu_or_gpu,\n",
    "        \"AWS_REGION\": boto3.Session().region_name,\n",
    "    }\n",
    "    build_docker_image(\n",
    "        repository_short_name, build_args=docker_build_args\n",
    "    )\n"
   ]
  },
  {
   "cell_type": "markdown",
   "metadata": {
    "jp-MarkdownHeadingCollapsed": true,
    "tags": []
   },
   "source": [
    "### Run these commands if you wish to modify the SageMaker and Robomaker code\n",
    "<span style=\"color:red\">Note: Make sure you have atleast 25 GB of space when you are planning to modify the Sagemaker and Robomaker code</span>"
   ]
  },
  {
   "cell_type": "code",
   "execution_count": 7,
   "metadata": {
    "tags": []
   },
   "outputs": [
    {
     "name": "stdout",
     "output_type": "stream",
     "text": [
      "rm: cannot remove ‘./src/lib/credentials’: No such file or directory\n",
      "+ echo 'Cleaning up local generated files'\n",
      "+ cd /opt/ml/code\n",
      "Cleaning up local generated files\n",
      "+ rm -rf EXCEPTION_HANDLER_SYNC_FILE\n",
      "+ rm -rf dump.rdb\n",
      "+ rm -rf checkpoint_sagemaker/ custom_files/ frozen_models/ renamed_checkpoint/\n",
      "+ rm -rf '/opt/ml/model/*'\n",
      "6a0394e1b2fbe4dbca89b5c261276a078177380256abbbfe8428abc395055115\n",
      "sha256:9c6d6f7142d46f8332106a134f0cf9763f5d5bac67085cdf4e32086cbe005f55\n"
     ]
    }
   ],
   "source": [
    "# # Get docker id and container id\n",
    "simapp_docker_ids = !docker images | grep deepracer-sim-local-notebook | tr -s ' '| cut -d ' ' -f 3 | head -n 1\n",
    "simapp_docker_id = simapp_docker_ids[0]\n",
    "simapp_container_ids = !docker run -d -t {simapp_docker_id} /bin/sh\n",
    "simapp_container_id = simapp_container_ids[0]\n",
    "\n",
    "!docker cp ./src/markov {simapp_container_id}:/opt/amazon/\n",
    "!docker cp ./src/rl_coach.patch {simapp_container_id}:/opt/amazon/\n",
    "# #Restore symlink removed earlier due to bug in Jupyter\n",
    "!rm ./src/lib/credentials\n",
    "!ln -s /root/.aws/credentials ./src/lib/credentials\n",
    "!docker cp ./src/lib/. {simapp_container_id}:/opt/ml/code/.\n",
    "\n",
    "# #This is the Robomaker 3d environment\n",
    "!docker cp ./src/deepracer_simulation_environment {simapp_container_id}:/opt/amazon/install/\n",
    "\n",
    "# #Only needed if one modifies the ROS packages/libraries/etc\n",
    "#!docker exec {simapp_container_id} /opt/ml/code/scripts/build_deepracer_ros_packages.sh\n",
    "\n",
    "!docker exec {simapp_container_id} /opt/ml/code/scripts/clean_up_local.sh\n",
    "\n",
    "!docker stop {simapp_container_id}\n",
    "\n",
    "!docker commit {simapp_container_id} deepracer-sim-local-notebook"
   ]
  },
  {
   "cell_type": "markdown",
   "metadata": {
    "tags": []
   },
   "source": [
    "## Upload the Containers\n",
    "\n",
    "The simapp and sagemaker docker containers are uploaded into your AWS account's container registry."
   ]
  },
  {
   "cell_type": "code",
   "execution_count": null,
   "metadata": {
    "tags": []
   },
   "outputs": [],
   "source": [
    "# Push the simapp docker image to your ECR account \n",
    "docker_push(local_simapp_ecr_docker_image_name)"
   ]
  },
  {
   "cell_type": "code",
   "execution_count": 50,
   "metadata": {
    "tags": []
   },
   "outputs": [
    {
     "name": "stdout",
     "output_type": "stream",
     "text": [
      "Using ECR image 600537146592.dkr.ecr.us-east-1.amazonaws.com/sagemaker-docker-cpu\n"
     ]
    }
   ],
   "source": [
    "# Push the sagemaker docker image to your ECR account \n",
    "#print(repository_short_name)\n",
    "#custom_image_name = docker_push(repository_short_name)\n",
    "custom_image_name = \"600537146592.dkr.ecr.us-east-1.amazonaws.com/sagemaker-docker-cpu\"\n",
    "print(\"Using ECR image %s\" % custom_image_name)"
   ]
  },
  {
   "cell_type": "markdown",
   "metadata": {},
   "source": [
    "### Setup S3 bucket\n",
    "Set up the linkage and authentication to the S3 bucket that we want to use for checkpoint and metadata."
   ]
  },
  {
   "cell_type": "code",
   "execution_count": 51,
   "metadata": {
    "tags": []
   },
   "outputs": [
    {
     "name": "stdout",
     "output_type": "stream",
     "text": [
      "Using s3 bucket sagemaker-us-east-1-600537146592\n",
      "Model checkpoints and other metadata will be stored at: \n",
      "s3://sagemaker-us-east-1-600537146592/deepracer-notebook-sagemaker-230709-131931\n"
     ]
    }
   ],
   "source": [
    "# S3 bucket\n",
    "s3_bucket = sage_session.default_bucket()\n",
    "\n",
    "# SDK appends the job name and output folder\n",
    "s3_output_path = \"s3://{}/\".format(s3_bucket)\n",
    "\n",
    "# Ensure that the S3 prefix contains the keyword 'sagemaker'\n",
    "s3_prefix = job_name_prefix + \"-sagemaker-\" + strftime(\"%y%m%d-%H%M%S\", gmtime())\n",
    "\n",
    "# Get the AWS account id of this account\n",
    "sts = boto3.client(\"sts\")\n",
    "account_id = sts.get_caller_identity()[\"Account\"]\n",
    "\n",
    "print(\"Using s3 bucket {}\".format(s3_bucket))\n",
    "print(\n",
    "    \"Model checkpoints and other metadata will be stored at: \\ns3://{}/{}\".format(\n",
    "        s3_bucket, s3_prefix\n",
    "    )\n",
    ")"
   ]
  },
  {
   "cell_type": "markdown",
   "metadata": {},
   "source": [
    "### Query VPC configuration\n",
    "\n",
    "Since SageMaker and RoboMaker have to communicate with each other over the network, both of these services need to run in VPC mode. This is done by supplying subnets and security groups to the job launching scripts, so we need to identify the subnets and security groups to use. \n",
    "We will use the default VPC stack. This may error if the default VPC stack has been deleted."
   ]
  },
  {
   "cell_type": "code",
   "execution_count": 52,
   "metadata": {
    "tags": []
   },
   "outputs": [
    {
     "name": "stdout",
     "output_type": "stream",
     "text": [
      "Using the default VPC stacks\n",
      "Using VPC: vpc-0583f0be47ec9f771\n",
      "Using security group: ['sg-04d2de6cfe9b1ee4f']\n",
      "Using subnets: ['subnet-07636419507cea176', 'subnet-0f51ce92b5fb977d5', 'subnet-0deaaa1509dc6c639', 'subnet-0ca0ff0e7a5ddb821', 'subnet-095040efea5ddfe9d', 'subnet-0c9abab1ea2804f32']\n"
     ]
    }
   ],
   "source": [
    "ec2 = boto3.client(\"ec2\")\n",
    "\n",
    "print(\"Using the default VPC stacks\")\n",
    "deepracer_vpc = [vpc[\"VpcId\"] for vpc in ec2.describe_vpcs()[\"Vpcs\"] if vpc[\"IsDefault\"] == True][0]\n",
    "\n",
    "deepracer_security_groups = [\n",
    "    group[\"GroupId\"]\n",
    "    for group in ec2.describe_security_groups()[\"SecurityGroups\"]\n",
    "    if \"VpcId\" in group and group[\"GroupName\"] == \"default\" and group[\"VpcId\"] == deepracer_vpc\n",
    "]\n",
    "\n",
    "deepracer_subnets = [\n",
    "    subnet[\"SubnetId\"]\n",
    "    for subnet in ec2.describe_subnets()[\"Subnets\"]\n",
    "    if subnet[\"VpcId\"] == deepracer_vpc and subnet[\"DefaultForAz\"] == True\n",
    "]\n",
    "\n",
    "print(\"Using VPC:\", deepracer_vpc)\n",
    "print(\"Using security group:\", deepracer_security_groups)\n",
    "print(\"Using subnets:\", deepracer_subnets)"
   ]
  },
  {
   "cell_type": "markdown",
   "metadata": {},
   "source": [
    "### Create S3 Endpoint\n",
    "\n",
    "A SageMaker job running in VPC mode cannot access S3 resources. So, we need to create a VPC S3 endpoint to allow S3 access from SageMaker container. To learn more about the VPC mode, please visit [this link.](https://docs.aws.amazon.com/sagemaker/latest/dg/train-vpc.html)"
   ]
  },
  {
   "cell_type": "code",
   "execution_count": 53,
   "metadata": {
    "tags": []
   },
   "outputs": [
    {
     "name": "stdout",
     "output_type": "stream",
     "text": [
      "Creating \n",
      "Trying to attach S3 endpoints to the following route tables: ['rtb-01056284e8762a00a']\n",
      "S3 endpoint already exists.\n"
     ]
    }
   ],
   "source": [
    "def create_vpc_endpoint_table():\n",
    "    print(\"Creating \")\n",
    "    try:\n",
    "        route_tables = [\n",
    "            route_table[\"RouteTableId\"]\n",
    "            for route_table in ec2.describe_route_tables()[\"RouteTables\"]\n",
    "            if route_table[\"VpcId\"] == deepracer_vpc\n",
    "        ]\n",
    "    except Exception as e:\n",
    "        if \"UnauthorizedOperation\" in str(e):\n",
    "            display(Markdown(generate_help_for_s3_endpoint_permissions(sagemaker_role)))\n",
    "        else:\n",
    "            display(Markdown(create_s3_endpoint_manually(aws_region, deepracer_vpc)))\n",
    "        raise e\n",
    "\n",
    "    print(\"Trying to attach S3 endpoints to the following route tables:\", route_tables)\n",
    "\n",
    "    if not route_tables:\n",
    "        raise Exception(\n",
    "            (\n",
    "                \"No route tables were found. Please follow the VPC S3 endpoint creation \"\n",
    "                \"guide by clicking the above link.\"\n",
    "            )\n",
    "        )\n",
    "    try:\n",
    "        ec2.create_vpc_endpoint(\n",
    "            DryRun=False,\n",
    "            VpcEndpointType=\"Gateway\",\n",
    "            VpcId=deepracer_vpc,\n",
    "            ServiceName=\"com.amazonaws.{}.s3\".format(aws_region),\n",
    "            RouteTableIds=route_tables,\n",
    "        )\n",
    "        print(\"S3 endpoint created successfully!\")\n",
    "    except Exception as e:\n",
    "        if \"RouteAlreadyExists\" in str(e):\n",
    "            print(\"S3 endpoint already exists.\")\n",
    "        elif \"UnauthorizedOperation\" in str(e):\n",
    "            display(Markdown(generate_help_for_s3_endpoint_permissions(role)))\n",
    "            raise e\n",
    "        else:\n",
    "            display(Markdown(create_s3_endpoint_manually(aws_region, deepracer_vpc)))\n",
    "            raise e\n",
    "\n",
    "create_vpc_endpoint_table()"
   ]
  },
  {
   "cell_type": "markdown",
   "metadata": {},
   "source": [
    "# Workshop Checkpoint #1"
   ]
  },
  {
   "cell_type": "markdown",
   "metadata": {},
   "source": [
    "# Training"
   ]
  },
  {
   "cell_type": "markdown",
   "metadata": {},
   "source": [
    "## Setup the environment\n",
    "\n",
    "The environment is defined in a Python file called “deepracer_racetrack_env.py” and the file can be found at `src/markov/environments/`. This file implements the gym interface for our Gazebo based RoboMakersimulator. This is a common environment file used by both SageMaker and RoboMaker. The environment variable - `NODE_TYPE` defines which node the code is running on. So, the expressions that have `rospy` dependencies are executed on RoboMaker only.  \n",
    "\n",
    "We can experiment with different reward functions by modifying `reward_function` in `src/markov/rewards/`. Action space and steering angles can be changed by modifying `src/markov/actions/`.json file\n",
    "\n",
    "### Configure the preset for RL algorithm\n",
    "\n",
    "The parameters that configure the RL training job are defined in `src/markov/presets/`. Using the preset file, you can define agent hyperparameters to select the specific agent algorithm. We suggest using Clipped PPO for this example.  \n",
    "You can edit this file to modify algorithm parameters like learning_rate, neural network structure, batch_size, discount factor etc."
   ]
  },
  {
   "cell_type": "code",
   "execution_count": 12,
   "metadata": {},
   "outputs": [],
   "source": [
    "# Uncomment the pygmentize code lines to see the code\n",
    "\n",
    "# Reward function\n",
    "#!pygmentize src/markov/rewards/default.py\n",
    "\n",
    "# Action space\n",
    "#!pygmentize src/markov/actions/single_speed_stereo_shallow.json\n",
    "\n",
    "# Preset File\n",
    "#!pygmentize src/markov/presets/default.py\n",
    "#!pygmentize src/markov/presets/preset_attention_layer.py"
   ]
  },
  {
   "cell_type": "markdown",
   "metadata": {},
   "source": [
    "### Copy custom files to S3 bucket so that sagemaker & robomaker can pick it up"
   ]
  },
  {
   "cell_type": "code",
   "execution_count": 54,
   "metadata": {
    "tags": []
   },
   "outputs": [
    {
     "name": "stdout",
     "output_type": "stream",
     "text": [
      "s3://sagemaker-us-east-1-600537146592/deepracer-notebook-sagemaker-230709-131931\n",
      "upload: src/artifacts/rewards/default.py to s3://sagemaker-us-east-1-600537146592/deepracer-notebook-sagemaker-230709-131931/customer_reward_function.py\n",
      "upload: src/artifacts/actions/default.json to s3://sagemaker-us-east-1-600537146592/deepracer-notebook-sagemaker-230709-131931/model/model_metadata.json\n"
     ]
    }
   ],
   "source": [
    "s3_location = \"s3://%s/%s\" % (s3_bucket, s3_prefix)\n",
    "print(s3_location)\n",
    "\n",
    "# Clean up the previously uploaded files\n",
    "!aws s3 rm --recursive {s3_location}\n",
    "\n",
    "!aws s3 cp ./src/artifacts/rewards/default.py {s3_location}/customer_reward_function.py\n",
    "\n",
    "!aws s3 cp ./src/artifacts/actions/default.json {s3_location}/model/model_metadata.json\n",
    "\n",
    "#!aws s3 cp src/markov/presets/default.py {s3_location}/presets/preset.py\n",
    "#!aws s3 cp src/markov/presets/preset_attention_layer.py {s3_location}/presets/preset.py"
   ]
  },
  {
   "cell_type": "markdown",
   "metadata": {},
   "source": [
    "### Train the RL model using the Python SDK Script mode\n",
    "\n",
    "Next, we define the following algorithm metrics that we want to capture from cloudwatch logs to monitor the training progress. These are algorithm specific parameters and might change for different algorithm. We use Clipped PPO by default."
   ]
  },
  {
   "cell_type": "code",
   "execution_count": 55,
   "metadata": {
    "tags": []
   },
   "outputs": [],
   "source": [
    "metric_definitions = [\n",
    "    # Training> Name=main_level/agent, Worker=0, Episode=19, Total reward=-102.88, Steps=19019, Training iteration=1\n",
    "    {\"Name\": \"reward-training\", \"Regex\": \"^Training>.*Total reward=(.*?),\"},\n",
    "    # Policy training> Surrogate loss=-0.32664725184440613, KL divergence=7.255815035023261e-06, Entropy=2.83156156539917, training epoch=0, learning_rate=0.00025\n",
    "    {\"Name\": \"ppo-surrogate-loss\", \"Regex\": \"^Policy training>.*Surrogate loss=(.*?),\"},\n",
    "    {\"Name\": \"ppo-entropy\", \"Regex\": \"^Policy training>.*Entropy=(.*?),\"},\n",
    "    # Testing> Name=main_level/agent, Worker=0, Episode=19, Total reward=1359.12, Steps=20015, Training iteration=2\n",
    "    {\"Name\": \"reward-testing\", \"Regex\": \"^Testing>.*Total reward=(.*?),\"},\n",
    "]"
   ]
  },
  {
   "cell_type": "code",
   "execution_count": 56,
   "metadata": {
    "tags": []
   },
   "outputs": [],
   "source": [
    "custom_hyperparameter = {\n",
    "    \"s3_bucket\": s3_bucket,\n",
    "    \"s3_prefix\": s3_prefix,\n",
    "    \"aws_region\": aws_region,\n",
    "    \"model_metadata_s3_key\": \"%s/model/model_metadata.json\" % s3_prefix,\n",
    "    \"reward_function_s3_source\": \"%s/customer_reward_function.py\" % s3_prefix,\n",
    "    \"batch_size\": \"64\",\n",
    "    \"num_epochs\": \"10\",\n",
    "    \"stack_size\": \"1\",\n",
    "    \"lr\": \"0.001\",\n",
    "    \"exploration_type\": \"Categorical\",\n",
    "    \"e_greedy_value\": \"1\",\n",
    "    \"epsilon_steps\": \"10000\",\n",
    "    \"beta_entropy\": \"0.01\",\n",
    "    \"discount_factor\": \"0.999\",\n",
    "    \"loss_type\": \"mean squared error\",\n",
    "    \"num_episodes_between_training\": \"20\",\n",
    "    \"max_sample_count\": \"0\",\n",
    "    \"sampling_frequency\": \"1\"\n",
    "    #,\"pretrained_s3_bucket\": \"sagemaker-us-east-1-600537146592\"\n",
    "    #,\"pretrained_s3_prefix\": \"deepracer-notebook-sagemaker-230709-102428\"\n",
    "}"
   ]
  },
  {
   "cell_type": "code",
   "execution_count": 57,
   "metadata": {
    "tags": []
   },
   "outputs": [],
   "source": [
    "b_sagemaker = boto3.client(\"sagemaker\", region_name=aws_region)"
   ]
  },
  {
   "cell_type": "code",
   "execution_count": 58,
   "metadata": {
    "tags": []
   },
   "outputs": [
    {
     "name": "stdout",
     "output_type": "stream",
     "text": [
      "Training job: deepracer-notebook-sagemaker-230709-131931\n"
     ]
    }
   ],
   "source": [
    "training_job = b_sagemaker.create_training_job(\n",
    "    TrainingJobName=s3_prefix,\n",
    "    HyperParameters=custom_hyperparameter,\n",
    "    AlgorithmSpecification={\n",
    "        \"TrainingImage\": \"{}:latest\".format(custom_image_name),\n",
    "        \"TrainingInputMode\": \"File\"\n",
    "    },\n",
    "    RoleArn=sagemaker_role,\n",
    "    OutputDataConfig={\n",
    "        \"S3OutputPath\": \"s3://{}/{}/train-output/\".format(s3_bucket, s3_prefix)\n",
    "    },\n",
    "    ResourceConfig={\n",
    "        'InstanceType': instance_type,\n",
    "        'InstanceCount': 1,\n",
    "        'VolumeSizeInGB': 32\n",
    "    },\n",
    "    VpcConfig={\n",
    "        'SecurityGroupIds': deepracer_security_groups,\n",
    "        'Subnets': deepracer_subnets\n",
    "    },\n",
    "    StoppingCondition={\n",
    "        'MaxRuntimeInSeconds': job_duration_in_seconds\n",
    "    },\n",
    ")\n",
    "job_name = s3_prefix\n",
    "training_job_arn = training_job['TrainingJobArn']\n",
    "print(\"Training job: %s\" % job_name)"
   ]
  },
  {
   "cell_type": "markdown",
   "metadata": {},
   "source": [
    "### Configure the Robomaker Job"
   ]
  },
  {
   "cell_type": "code",
   "execution_count": 59,
   "metadata": {
    "tags": []
   },
   "outputs": [],
   "source": [
    "robomaker = boto3.client(\"robomaker\")\n",
    "kinesisvideo = boto3.client(\"kinesisvideo\")"
   ]
  },
  {
   "cell_type": "markdown",
   "metadata": {},
   "source": [
    "#### Create Simulation Application"
   ]
  },
  {
   "cell_type": "code",
   "execution_count": 60,
   "metadata": {
    "tags": []
   },
   "outputs": [
    {
     "name": "stdout",
     "output_type": "stream",
     "text": [
      "{'uri': '600537146592.dkr.ecr.us-east-1.amazonaws.com/deepracer-sim-local-notebook:latest'}\n"
     ]
    }
   ],
   "source": [
    "robomaker_environment = {\"uri\":\"600537146592.dkr.ecr.us-east-1.amazonaws.com/deepracer-sim-local-notebook:latest\"} # {\"uri\": get_custom_image_name(local_simapp_ecr_docker_image_name)+\":latest\"}\n",
    "simulation_software_suite = {\"name\": \"SimulationRuntime\"}\n",
    "robot_software_suite = {\"name\": \"General\"}\n",
    "print(robomaker_environment)\n",
    "#600537146592.dkr.ecr.us-east-1.amazonaws.com/deepracer-sim-local-notebook"
   ]
  },
  {
   "cell_type": "code",
   "execution_count": 61,
   "metadata": {
    "tags": []
   },
   "outputs": [
    {
     "name": "stdout",
     "output_type": "stream",
     "text": [
      "deepracer-notebook-application230709-132041\n",
      "Created a new simulation app with ARN: arn:aws:robomaker:us-east-1:600537146592:simulation-application/deepracer-notebook-application230709-132041/1688908842168\n"
     ]
    }
   ],
   "source": [
    "app_name = \"deepracer-notebook-application\" + strftime(\"%y%m%d-%H%M%S\", gmtime())\n",
    "\n",
    "print(app_name)\n",
    "try:\n",
    "    response = robomaker.create_simulation_application(\n",
    "        name=app_name,\n",
    "        environment=robomaker_environment,\n",
    "        simulationSoftwareSuite=simulation_software_suite,\n",
    "        robotSoftwareSuite=robot_software_suite\n",
    "    )\n",
    "    simulation_app_arn = response[\"arn\"]\n",
    "    print(\"Created a new simulation app with ARN:\", simulation_app_arn)\n",
    "except Exception as e:\n",
    "    if \"AccessDeniedException\" in str(e):\n",
    "        display(Markdown(generate_help_for_robomaker_all_permissions(role)))\n",
    "        raise e\n",
    "    else:\n",
    "        raise e"
   ]
  },
  {
   "cell_type": "markdown",
   "metadata": {},
   "source": [
    "#### Set the number of simulation jobs"
   ]
  },
  {
   "cell_type": "code",
   "execution_count": 67,
   "metadata": {
    "tags": []
   },
   "outputs": [],
   "source": [
    "# Change this for multiple rollouts. This will invoke the specified number of robomaker jobs to collect experience\n",
    "num_simulation_workers = 1"
   ]
  },
  {
   "cell_type": "markdown",
   "metadata": {},
   "source": [
    "#### Create the Kinesis video stream(s)"
   ]
  },
  {
   "cell_type": "code",
   "execution_count": 63,
   "metadata": {
    "scrolled": true,
    "tags": []
   },
   "outputs": [
    {
     "name": "stdout",
     "output_type": "stream",
     "text": [
      "Created kinesis video stream dr-kvs-deepracer-notebook-sagemaker-230709-131931-0\n",
      "Created kinesis video stream dr-kvs-deepracer-notebook-sagemaker-230709-131931-1\n"
     ]
    }
   ],
   "source": [
    "kvs_stream_name=[]\n",
    "kvs_stream_arns=[]\n",
    "for job_no in range(num_simulation_workers):\n",
    "    kvs_stream_name.append(\"dr-kvs-{}-{}\".format(job_name,job_no))\n",
    "    try:\n",
    "        response=kinesisvideo.create_stream(StreamName=kvs_stream_name[job_no],MediaType=\"video/h264\",DataRetentionInHours=24)\n",
    "    except Exception as err:\n",
    "        if err.__class__.__name__ == 'ResourceInUseException':\n",
    "            response=kinesisvideo.describe_stream(StreamName=kvs_stream_name[job_no])[\"StreamInfo\"]\n",
    "        else:\n",
    "            raise err\n",
    "    print(\"Created kinesis video stream {}\".format(kvs_stream_name[job_no]))\n",
    "    kvs_stream_arns.append(response[\"StreamARN\"])"
   ]
  },
  {
   "cell_type": "markdown",
   "metadata": {},
   "source": [
    "### Launch the Simulation job(s) on RoboMaker\n",
    "\n",
    "We create [AWS RoboMaker](https://console.aws.amazon.com/robomaker/home#welcome) Simulation Jobs that simulates the environment and shares this data with SageMaker for training. "
   ]
  },
  {
   "cell_type": "code",
   "execution_count": 64,
   "metadata": {
    "tags": []
   },
   "outputs": [
    {
     "name": "stdout",
     "output_type": "stream",
     "text": [
      "JOB_TYPE                                : TRAINING\n",
      "WORLD_NAME                              : Vegas_track\n",
      "SAGEMAKER_SHARED_S3_BUCKET              : sagemaker-us-east-1-600537146592\n",
      "SAGEMAKER_SHARED_S3_PREFIX              : deepracer-notebook-sagemaker-230709-131931\n",
      "TRAINING_JOB_ARN                        : arn:aws:sagemaker:us-east-1:600537146592:training-job/deepracer-notebook-sagemaker-230709-131931\n",
      "METRICS_S3_BUCKET                       : sagemaker-us-east-1-600537146592\n",
      "METRICS_S3_OBJECT_KEY                   : deepracer-notebook-sagemaker-230709-131931/training_metrics.json\n",
      "SIMTRACE_S3_BUCKET                      : sagemaker-us-east-1-600537146592\n",
      "SIMTRACE_S3_PREFIX                      : deepracer-notebook-sagemaker-230709-131931/iteration-data/training\n",
      "AWS_REGION                              : us-east-1\n",
      "TARGET_REWARD_SCORE                     : None\n",
      "NUMBER_OF_EPISODES                      : 0\n",
      "ROBOMAKER_SIMULATION_JOB_ACCOUNT_ID     : 600537146592\n",
      "CHANGE_START_POSITION                   : true\n",
      "ALTERNATE_DRIVING_DIRECTION             : false\n",
      "REVERSE_DIR                             : false\n",
      "KINESIS_VIDEO_STREAM_NAME               : dr-kvs-deepracer-notebook-sagemaker-230709-131931-1\n",
      "REWARD_FILE_S3_KEY                      : deepracer-notebook-sagemaker-230709-131931/customer_reward_function.py\n",
      "MODEL_METADATA_FILE_S3_KEY              : deepracer-notebook-sagemaker-230709-131931/model/model_metadata.json\n",
      "NUMBER_OF_RESETS                        : 0\n",
      "CAR_COLOR                               : Blue\n",
      "ENABLE_DOMAIN_RANDOMIZATION             : false\n",
      "NUM_WORKERS                             : 2\n",
      "NUMBER_OF_OBSTACLES                     : 0\n",
      "MIN_DISTANCE_BETWEEN_OBSTACLES          : 2.0\n",
      "RANDOMIZE_OBSTACLE_LOCATIONS            : false\n",
      "IS_OBSTACLE_BOT_CAR                     : false\n",
      "NUMBER_OF_BOT_CARS                      : 0\n",
      "IS_LANE_CHANGE                          : false\n",
      "LOWER_LANE_CHANGE_TIME                  : 3.0\n",
      "UPPER_LANE_CHANGE_TIME                  : 5.0\n",
      "LANE_CHANGE_DISTANCE                    : 1.0\n",
      "MIN_DISTANCE_BETWEEN_BOT_CARS           : 2.0\n",
      "RANDOMIZE_BOT_CAR_LOCATIONS             : true\n",
      "BOT_CAR_SPEED                           : 0.2\n",
      "MP4_S3_BUCKET                           : sagemaker-us-east-1-600537146592\n",
      "MP4_S3_OBJECT_PREFIX                    : deepracer-notebook-sagemaker-230709-131931/iteration-data/training\n",
      "RACE_TYPE                               : TIME_TRIAL\n",
      "VIDEO_JOB_TYPE                          : RACING\n",
      "DISPLAY_NAME                            : FalsePositive\n",
      "RACER_NAME                              : racer-alias\n",
      "MODEL_NAME                              : model-name\n",
      "upload: ./training_params.yaml to s3://sagemaker-us-east-1-600537146592/deepracer-notebook-sagemaker-230709-131931/training_params.yaml\n"
     ]
    }
   ],
   "source": [
    "s3_yaml_name = \"training_params.yaml\"\n",
    "world_name = \"Vegas_track\"\n",
    "\n",
    "with open(\"./src/artifacts/yaml/training_yaml_template.yaml\", \"r\") as filepointer:\n",
    "    yaml_config = yaml.safe_load(filepointer)\n",
    "\n",
    "yaml_config[\"WORLD_NAME\"] = world_name\n",
    "yaml_config[\"SAGEMAKER_SHARED_S3_BUCKET\"] = s3_bucket\n",
    "yaml_config[\"SAGEMAKER_SHARED_S3_PREFIX\"] = s3_prefix\n",
    "yaml_config[\"TRAINING_JOB_ARN\"] = training_job_arn\n",
    "yaml_config[\"METRICS_S3_BUCKET\"] = s3_bucket\n",
    "yaml_config[\"METRICS_S3_OBJECT_KEY\"] = \"{}/training_metrics.json\".format(s3_prefix)\n",
    "yaml_config[\"SIMTRACE_S3_BUCKET\"] = s3_bucket\n",
    "yaml_config[\"SIMTRACE_S3_PREFIX\"] = \"{}/iteration-data/training\".format(s3_prefix)\n",
    "yaml_config[\"AWS_REGION\"] = aws_region\n",
    "yaml_config[\"ROBOMAKER_SIMULATION_JOB_ACCOUNT_ID\"] = account_id\n",
    "yaml_config[\"KINESIS_VIDEO_STREAM_NAME\"] = kvs_stream_name[job_no]\n",
    "yaml_config[\"REWARD_FILE_S3_KEY\"] = \"{}/customer_reward_function.py\".format(s3_prefix)\n",
    "yaml_config[\"MODEL_METADATA_FILE_S3_KEY\"] = \"{}/model/model_metadata.json\".format(s3_prefix)\n",
    "yaml_config[\"NUM_WORKERS\"] = num_simulation_workers\n",
    "yaml_config[\"MP4_S3_BUCKET\"] = s3_bucket\n",
    "yaml_config[\"MP4_S3_OBJECT_PREFIX\"] = \"{}/iteration-data/training\".format(s3_prefix)\n",
    "\n",
    "# Race-type supported for training are TIME_TRIAL, OBJECT_AVOIDANCE, HEAD_TO_BOT\n",
    "# If you need to modify more attributes look at the template yaml file\n",
    "race_type = \"TIME_TRIAL\"\n",
    "\n",
    "if race_type == \"OBJECT_AVOIDANCE\":\n",
    "    yaml_config[\"NUMBER_OF_OBSTACLES\"] = \"6\"\n",
    "    yaml_config[\"RACE_TYPE\"] = \"OBJECT_AVOIDANCE\"\n",
    "\n",
    "elif race_type == \"HEAD_TO_BOT\":\n",
    "    yaml_config[\"NUMBER_OF_BOT_CARS\"] = \"6\"\n",
    "    yaml_config[\"RACE_TYPE\"] = \"HEAD_TO_BOT\"\n",
    "\n",
    "# Printing the modified yaml parameter\n",
    "for key, value in yaml_config.items():\n",
    "    print(\"{}: {}\".format(key.ljust(40, \" \"), value))\n",
    "\n",
    "# Uploading the modified yaml parameter\n",
    "with open(\"./training_params.yaml\", \"w\") as filepointer:\n",
    "    yaml.dump(yaml_config, filepointer)\n",
    "\n",
    "!aws s3 cp ./training_params.yaml {s3_location}/training_params.yaml\n",
    "!rm training_params.yaml"
   ]
  },
  {
   "cell_type": "code",
   "execution_count": 70,
   "metadata": {
    "tags": []
   },
   "outputs": [
    {
     "name": "stdout",
     "output_type": "stream",
     "text": [
      "Created the following jobs:\n",
      "Job ARN arn:aws:robomaker:us-east-1:600537146592:simulation-job/sim-bjztr1c7pp3l\n"
     ]
    }
   ],
   "source": [
    "responses = list()\n",
    "for job_no in range(num_simulation_workers):\n",
    "    response = robomaker.create_simulation_job(\n",
    "        clientRequestToken=strftime(\"%Y-%m-%d-%H-%M-%S\", gmtime()),\n",
    "        outputLocation={\n",
    "            \"s3Bucket\": s3_bucket,\n",
    "            \"s3Prefix\": s3_prefix\n",
    "        },\n",
    "        compute= { \n",
    "          \"computeType\": \"GPU_AND_CPU\",\n",
    "          \"gpuUnitLimit\": 1,\n",
    "          \"simulationUnitLimit\": 15\n",
    "       },\n",
    "            maxJobDurationInSeconds=job_duration_in_seconds,\n",
    "        iamRole=sagemaker_role,\n",
    "        failureBehavior=\"Fail\",\n",
    "        simulationApplications=[{\n",
    "            \"application\": simulation_app_arn,\n",
    "            \"applicationVersion\": \"$LATEST\",\n",
    "            \"launchConfig\": {\n",
    "                \"command\": [\"roslaunch\", \"deepracer_simulation_environment\", \"distributed_training.launch\"],\n",
    "                \"environmentVariables\": {\n",
    "                    \"S3_YAML_NAME\": s3_yaml_name,\n",
    "                    \"SAGEMAKER_SHARED_S3_PREFIX\": s3_prefix,\n",
    "                    \"SAGEMAKER_SHARED_S3_BUCKET\": s3_bucket,\n",
    "                    \"WORLD_NAME\": world_name,\n",
    "                    \"KINESIS_VIDEO_STREAM_NAME\": kvs_stream_name[job_no],\n",
    "                    \"APP_REGION\": aws_region,\n",
    "                    \"MODEL_METADATA_FILE_S3_KEY\": \"%s/model/model_metadata.json\" % s3_prefix,\n",
    "                    \"ROLLOUT_IDX\": str(job_no),\n",
    "                    \"DEEPRACER_JOB_TYPE_ENV\": \"SAGEONLY\"\n",
    "                },\n",
    "                \"streamUI\": True\n",
    "            },\n",
    "            \"uploadConfigurations\": [{\n",
    "                    \"name\": \"gazebo-logs\",\n",
    "                    \"path\": \"/root/.gazebo/server*/*.log\",\n",
    "                    \"uploadBehavior\": \"UPLOAD_ON_TERMINATE\"\n",
    "                },\n",
    "                {\n",
    "                    \"name\": \"ros-logs\",\n",
    "                    \"path\": \"/root/.ros/log/**\",\n",
    "                    \"uploadBehavior\": \"UPLOAD_ON_TERMINATE\"\n",
    "                }\n",
    "            ],\n",
    "            \"useDefaultUploadConfigurations\": False,\n",
    "            \"tools\": [{\n",
    "                \"streamUI\": True,\n",
    "                \"name\": \"rviz\",\n",
    "                \"command\": \"source /opt/ros/melodic/setup.bash;source /opt/amazon/install/setup.bash; rviz\",\n",
    "                \"streamOutputToCloudWatch\": True,\n",
    "                \"exitBehavior\": \"RESTART\"\n",
    "              },\n",
    "              {\n",
    "                \"streamUI\": True,\n",
    "                \"name\": \"terminal\",\n",
    "                \"command\": \"source /opt/ros/melodic/setup.bash;source /opt/amazon/install/setup.bash; xfce4-terminal\",\n",
    "                \"streamOutputToCloudWatch\": True,\n",
    "                \"exitBehavior\": \"RESTART\"\n",
    "              },\n",
    "              {\n",
    "                \"streamUI\": True,\n",
    "                \"name\": \"gazebo\",\n",
    "                \"command\": \"source /opt/ml/code/scripts/gzclient_source.sh; export GAZEBO_MODEL_PATH=/opt/amazon/install/deepracer_simulation_environment/share/deepracer_simulation_environment/; gzclient\",\n",
    "                \"streamOutputToCloudWatch\": True,\n",
    "                \"exitBehavior\": \"RESTART\"\n",
    "            }],\n",
    "        }],\n",
    "        vpcConfig={\n",
    "            \"subnets\": deepracer_subnets,\n",
    "            \"securityGroups\": deepracer_security_groups,\n",
    "            \"assignPublicIp\": True\n",
    "        }\n",
    "    )\n",
    "    responses.append(response)\n",
    "    time.sleep(5)\n",
    "    \n",
    "print(\"Created the following jobs:\")\n",
    "job_arns = [response[\"arn\"] for response in responses]\n",
    "for job_arn in job_arns:\n",
    "    print(\"Job ARN\", job_arn)"
   ]
  },
  {
   "cell_type": "markdown",
   "metadata": {},
   "source": [
    "### Visualizing the simulations in RoboMaker\n",
    "You can visit the RoboMaker console to visualize the simulations or run the following cell to generate the hyperlinks."
   ]
  },
  {
   "cell_type": "code",
   "execution_count": 71,
   "metadata": {
    "tags": []
   },
   "outputs": [
    {
     "data": {
      "text/markdown": [
       "> Click on the following links for visualization of simulation jobs on RoboMaker Console\n",
       "- [Simulation 1](https://us-east-1.console.aws.amazon.com/robomaker/home?region=us-east-1#simulationJobs/sim-bjztr1c7pp3l)  \n",
       "\n",
       "You can click on Gazebo after you open the above link to start the simulator."
      ],
      "text/plain": [
       "<IPython.core.display.Markdown object>"
      ]
     },
     "metadata": {},
     "output_type": "display_data"
    },
    {
     "data": {
      "text/markdown": [
       "View the Kinesis video stream <a target=_blank href=\"https://us-east-1.console.aws.amazon.com/kinesisvideo/home?region=us-east-1#/streams/streamName/dr-kvs-deepracer-notebook-sagemaker-230709-131931-0\">here.</a> (Expand 'Media Playback')"
      ],
      "text/plain": [
       "<IPython.core.display.Markdown object>"
      ]
     },
     "metadata": {},
     "output_type": "display_data"
    }
   ],
   "source": [
    "display(Markdown(generate_robomaker_links(job_arns, aws_region)))\n",
    "\n",
    "for job_no in range(num_simulation_workers):\n",
    "    display(Markdown(\"View the Kinesis video stream <a target=_blank href=\\\"https://us-east-1.console.aws.amazon.com/kinesisvideo/home?region=us-east-1#/streams/streamName/%s\\\">here.</a> (Expand 'Media Playback')\"%(kvs_stream_name[job_no])))"
   ]
  },
  {
   "cell_type": "markdown",
   "metadata": {},
   "source": [
    "### Creating temporary folder top plot metrics"
   ]
  },
  {
   "cell_type": "code",
   "execution_count": 72,
   "metadata": {
    "tags": []
   },
   "outputs": [
    {
     "name": "stdout",
     "output_type": "stream",
     "text": [
      "Create local folder /tmp/deepracer-notebook-sagemaker-230709-131931\n"
     ]
    },
    {
     "name": "stderr",
     "output_type": "stream",
     "text": [
      "mkdir: cannot create directory ‘/tmp/deepracer-notebook-sagemaker-230709-131931’: File exists\n"
     ]
    }
   ],
   "source": [
    "tmp_dir = \"/tmp/{}\".format(job_name)\n",
    "os.system(\"mkdir {}\".format(tmp_dir))\n",
    "print(\"Create local folder {}\".format(tmp_dir))"
   ]
  },
  {
   "cell_type": "markdown",
   "metadata": {},
   "source": [
    "# Workshop Checkpoint #2"
   ]
  },
  {
   "cell_type": "markdown",
   "metadata": {},
   "source": [
    "### Plot metrics for training job"
   ]
  },
  {
   "cell_type": "code",
   "execution_count": 73,
   "metadata": {
    "scrolled": true,
    "tags": []
   },
   "outputs": [
    {
     "name": "stdout",
     "output_type": "stream",
     "text": [
      "Waiting for s3://sagemaker-us-east-1-600537146592/deepracer-notebook-sagemaker-230709-131931/training_metrics.json...................................................................................\n",
      "................................................................................\n",
      "......................"
     ]
    },
    {
     "ename": "KeyboardInterrupt",
     "evalue": "",
     "output_type": "error",
     "traceback": [
      "\u001b[0;31m---------------------------------------------------------------------------\u001b[0m",
      "\u001b[0;31mKeyboardInterrupt\u001b[0m                         Traceback (most recent call last)",
      "Cell \u001b[0;32mIn[73], line 7\u001b[0m\n\u001b[1;32m      5\u001b[0m training_metrics_file \u001b[38;5;241m=\u001b[39m \u001b[38;5;124m\"\u001b[39m\u001b[38;5;124mtraining_metrics.json\u001b[39m\u001b[38;5;124m\"\u001b[39m\n\u001b[1;32m      6\u001b[0m training_metrics_path \u001b[38;5;241m=\u001b[39m \u001b[38;5;124m\"\u001b[39m\u001b[38;5;132;01m{}\u001b[39;00m\u001b[38;5;124m/\u001b[39m\u001b[38;5;132;01m{}\u001b[39;00m\u001b[38;5;124m\"\u001b[39m\u001b[38;5;241m.\u001b[39mformat(s3_prefix, training_metrics_file)\n\u001b[0;32m----> 7\u001b[0m \u001b[43mwait_for_s3_object\u001b[49m\u001b[43m(\u001b[49m\u001b[43ms3_bucket\u001b[49m\u001b[43m,\u001b[49m\u001b[43m \u001b[49m\u001b[43mtraining_metrics_path\u001b[49m\u001b[43m,\u001b[49m\u001b[43m \u001b[49m\u001b[43mtmp_dir\u001b[49m\u001b[43m)\u001b[49m\n\u001b[1;32m      9\u001b[0m json_file \u001b[38;5;241m=\u001b[39m \u001b[38;5;124m\"\u001b[39m\u001b[38;5;132;01m{}\u001b[39;00m\u001b[38;5;124m/\u001b[39m\u001b[38;5;132;01m{}\u001b[39;00m\u001b[38;5;124m\"\u001b[39m\u001b[38;5;241m.\u001b[39mformat(tmp_dir, training_metrics_file)\n\u001b[1;32m     10\u001b[0m \u001b[38;5;28;01mwith\u001b[39;00m \u001b[38;5;28mopen\u001b[39m(json_file) \u001b[38;5;28;01mas\u001b[39;00m fp:\n",
      "File \u001b[0;32m~/SageMaker/aws-deepracer-workshops-master/dpr401/common/misc.py:71\u001b[0m, in \u001b[0;36mwait_for_s3_object\u001b[0;34m(s3_bucket, key, local_dir, local_prefix, aws_account, aws_region, timeout, limit, fetch_only, training_job_name)\u001b[0m\n\u001b[1;32m     69\u001b[0m     \u001b[38;5;28;01mcontinue\u001b[39;00m\n\u001b[1;32m     70\u001b[0m \u001b[38;5;28mprint\u001b[39m(\u001b[38;5;124m'\u001b[39m\u001b[38;5;124m.\u001b[39m\u001b[38;5;124m'\u001b[39m, end\u001b[38;5;241m=\u001b[39m\u001b[38;5;124m'\u001b[39m\u001b[38;5;124m'\u001b[39m, flush\u001b[38;5;241m=\u001b[39m\u001b[38;5;28;01mTrue\u001b[39;00m)\n\u001b[0;32m---> 71\u001b[0m \u001b[43mtime\u001b[49m\u001b[38;5;241;43m.\u001b[39;49m\u001b[43msleep\u001b[49m\u001b[43m(\u001b[49m\u001b[38;5;241;43m5\u001b[39;49m\u001b[43m)\u001b[49m\n\u001b[1;32m     72\u001b[0m cnt \u001b[38;5;241m+\u001b[39m\u001b[38;5;241m=\u001b[39m \u001b[38;5;241m1\u001b[39m\n\u001b[1;32m     73\u001b[0m \u001b[38;5;28;01mif\u001b[39;00m cnt \u001b[38;5;241m%\u001b[39m \u001b[38;5;241m80\u001b[39m \u001b[38;5;241m==\u001b[39m \u001b[38;5;241m0\u001b[39m:\n",
      "\u001b[0;31mKeyboardInterrupt\u001b[0m: "
     ]
    }
   ],
   "source": [
    "%matplotlib inline\n",
    "import pandas as pd\n",
    "import json\n",
    "\n",
    "training_metrics_file = \"training_metrics.json\"\n",
    "training_metrics_path = \"{}/{}\".format(s3_prefix, training_metrics_file)\n",
    "wait_for_s3_object(s3_bucket, training_metrics_path, tmp_dir)\n",
    "\n",
    "json_file = \"{}/{}\".format(tmp_dir, training_metrics_file)\n",
    "with open(json_file) as fp:\n",
    "    data = json.load(fp)\n",
    "\n",
    "df = pd.DataFrame(data[\"metrics\"])\n",
    "x_axis = \"episode\"\n",
    "y_axis = \"reward_score\"\n",
    "\n",
    "plt = df.plot(x=x_axis, y=y_axis, figsize=(12, 5), legend=True, style=\"b-\")\n",
    "plt.set_ylabel(y_axis)\n",
    "plt.set_xlabel(x_axis);"
   ]
  },
  {
   "cell_type": "markdown",
   "metadata": {},
   "source": [
    "### Explore output logs and videos"
   ]
  },
  {
   "cell_type": "code",
   "execution_count": 34,
   "metadata": {
    "tags": []
   },
   "outputs": [
    {
     "data": {
      "text/markdown": [
       "Visit <a target=_blank href=\"https://s3.console.aws.amazon.com/s3/buckets/sagemaker-us-east-1-600537146592?region=us-east-1&prefix=deepracer-notebook-sagemaker-230709-102428/&showversions=false\">the output logs, videos, and other artifacts in S3.</a>"
      ],
      "text/plain": [
       "<IPython.core.display.Markdown object>"
      ]
     },
     "metadata": {},
     "output_type": "display_data"
    }
   ],
   "source": [
    "display(Markdown(\"Visit <a target=_blank href=\\\"https://s3.console.aws.amazon.com/s3/buckets/%s?region=%s&prefix=%s/&showversions=false\\\">the output logs, videos, and other artifacts in S3.</a>\"%(s3_bucket,aws_region,s3_prefix)))"
   ]
  },
  {
   "cell_type": "markdown",
   "metadata": {},
   "source": [
    "### Upload Your Model into the DeepRacer console\n",
    "\n",
    "When training is complete, import the trained model into the DeepRacer console so one can clone and train it further in the console, evaluate it in the console, or submit it to the virtual league. Visit <a href=\"https://us-east-1.console.aws.amazon.com/deepracer/home?region=us-east-1#models\">\"Your Models\"</a> in the DeepRacer console, click the 'Import model' button, and follow the directions. Use the following URL for your import path:"
   ]
  },
  {
   "cell_type": "code",
   "execution_count": 37,
   "metadata": {
    "tags": []
   },
   "outputs": [
    {
     "data": {
      "text/markdown": [
       "Copy and paste this S3 path: <a target=_blank href=\"s3://sagemaker-us-east-1-600537146592/deepracer-notebook-sagemaker-230709-102428\">s3://sagemaker-us-east-1-600537146592/deepracer-notebook-sagemaker-230709-102428</a>"
      ],
      "text/plain": [
       "<IPython.core.display.Markdown object>"
      ]
     },
     "metadata": {},
     "output_type": "display_data"
    }
   ],
   "source": [
    "display(Markdown(\"Copy and paste this S3 path: <a target=_blank href=\\\"s3://%s/%s\\\">s3://%s/%s</a>\"%(s3_bucket,s3_prefix,s3_bucket,s3_prefix)))"
   ]
  },
  {
   "cell_type": "markdown",
   "metadata": {},
   "source": [
    "### Explore output logs and videos"
   ]
  },
  {
   "cell_type": "code",
   "execution_count": 38,
   "metadata": {
    "tags": []
   },
   "outputs": [
    {
     "data": {
      "text/markdown": [
       "Visit <a target=_blank href=\"https://s3.console.aws.amazon.com/s3/buckets/sagemaker-us-east-1-600537146592?region=us-east-1&prefix=deepracer-notebook-sagemaker-230709-102428/&showversions=false\">the output logs, videos, and other artifacts in S3.</a>"
      ],
      "text/plain": [
       "<IPython.core.display.Markdown object>"
      ]
     },
     "metadata": {},
     "output_type": "display_data"
    }
   ],
   "source": [
    "display(Markdown(\"Visit <a target=_blank href=\\\"https://s3.console.aws.amazon.com/s3/buckets/%s?region=%s&prefix=%s/&showversions=false\\\">the output logs, videos, and other artifacts in S3.</a>\"%(s3_bucket,aws_region,s3_prefix)))"
   ]
  },
  {
   "cell_type": "markdown",
   "metadata": {},
   "source": [
    "# Workshop Checkpoint #3"
   ]
  },
  {
   "cell_type": "markdown",
   "metadata": {},
   "source": [
    "# Evaluation (Time trail, Object avoidance, Head to bot)"
   ]
  },
  {
   "cell_type": "code",
   "execution_count": 40,
   "metadata": {
    "tags": []
   },
   "outputs": [
    {
     "name": "stdout",
     "output_type": "stream",
     "text": [
      "JOB_TYPE                                : EVALUATION\n",
      "WORLD_NAME                              : Vegas_track\n",
      "MODEL_S3_BUCKET                         : sagemaker-us-east-1-600537146592\n",
      "MODEL_S3_PREFIX                         : deepracer-notebook-sagemaker-230709-102428\n",
      "AWS_REGION                              : us-east-1\n",
      "METRICS_S3_BUCKET                       : sagemaker-us-east-1-600537146592\n",
      "METRICS_S3_OBJECT_KEY                   : deepracer-notebook-sagemaker-230709-102428/evaluation_metrics.json\n",
      "SIMTRACE_S3_BUCKET                      : sagemaker-us-east-1-600537146592\n",
      "SIMTRACE_S3_PREFIX                      : deepracer-notebook-sagemaker-230709-102428/iteration-data/evaluation\n",
      "NUMBER_OF_TRIALS                        : 3\n",
      "ROBOMAKER_SIMULATION_JOB_ACCOUNT_ID     : 600537146592\n",
      "CAR_COLOR                               : Grey\n",
      "NUMBER_OF_RESETS                        : 10000\n",
      "PENALTY_SECONDS                         : 2.0\n",
      "IS_CONTINUOUS                           : false\n",
      "OFF_TRACK_PENALTY                       : 0.0\n",
      "COLLISION_PENALTY                       : 0.0\n",
      "ENABLE_DOMAIN_RANDOMIZATION             : false\n",
      "REVERSE_DIR                             : false\n",
      "NUMBER_OF_OBSTACLES                     : 0\n",
      "MIN_DISTANCE_BETWEEN_OBSTACLES          : 2.0\n",
      "RANDOMIZE_OBSTACLE_LOCATIONS            : false\n",
      "IS_OBSTACLE_BOT_CAR                     : false\n",
      "NUMBER_OF_BOT_CARS                      : 0\n",
      "IS_LANE_CHANGE                          : false\n",
      "LOWER_LANE_CHANGE_TIME                  : 3.0\n",
      "UPPER_LANE_CHANGE_TIME                  : 5.0\n",
      "LANE_CHANGE_DISTANCE                    : 1.0\n",
      "MIN_DISTANCE_BETWEEN_BOT_CARS           : 2.0\n",
      "RANDOMIZE_BOT_CAR_LOCATIONS             : true\n",
      "BOT_CAR_SPEED                           : 0.2\n",
      "MP4_S3_BUCKET                           : sagemaker-us-east-1-600537146592\n",
      "MP4_S3_OBJECT_PREFIX                    : deepracer-notebook-sagemaker-230709-102428/iteration-data/evaluation\n",
      "RACE_TYPE                               : TIME_TRIAL\n",
      "VIDEO_JOB_TYPE                          : RACING\n",
      "DISPLAY_NAME                            : LongLongRacerName\n",
      "RACER_NAME                              : racer-alias\n",
      "MODEL_NAME                              : model_name\n",
      "upload: ./evaluation_params.yaml to s3://sagemaker-us-east-1-600537146592/deepracer-notebook-sagemaker-230709-102428/evaluation_params.yaml\n"
     ]
    }
   ],
   "source": [
    "s3_yaml_name = \"evaluation_params.yaml\"\n",
    "world_name = \"Vegas_track\"\n",
    "\n",
    "with open(\"./src/artifacts/yaml/evaluation_yaml_template.yaml\", \"r\") as filepointer:\n",
    "    yaml_config = yaml.safe_load(filepointer)\n",
    "\n",
    "yaml_config[\"WORLD_NAME\"] = world_name\n",
    "yaml_config[\"MODEL_S3_BUCKET\"] = s3_bucket\n",
    "yaml_config[\"MODEL_S3_PREFIX\"] = s3_prefix\n",
    "yaml_config[\"AWS_REGION\"] = aws_region\n",
    "yaml_config[\"METRICS_S3_BUCKET\"] = s3_bucket\n",
    "yaml_config[\"METRICS_S3_OBJECT_KEY\"] = \"{}/evaluation_metrics.json\".format(s3_prefix)\n",
    "yaml_config[\"SIMTRACE_S3_BUCKET\"] = s3_bucket\n",
    "yaml_config[\"SIMTRACE_S3_PREFIX\"] = \"{}/iteration-data/evaluation\".format(s3_prefix)\n",
    "yaml_config[\"ROBOMAKER_SIMULATION_JOB_ACCOUNT_ID\"] = account_id\n",
    "yaml_config[\"NUMBER_OF_TRIALS\"] = \"5\"\n",
    "yaml_config[\"MP4_S3_BUCKET\"] = s3_bucket\n",
    "yaml_config[\"MP4_S3_OBJECT_PREFIX\"] = \"{}/iteration-data/evaluation\".format(s3_prefix)\n",
    "yaml_config[\"NUMBER_OF_TRIALS\"] = 3\n",
    "\n",
    "# Race-type supported for training are TIME_TRIAL, OBJECT_AVOIDANCE, HEAD_TO_BOT\n",
    "# If you need to modify more attributes look at the template yaml file\n",
    "race_type = \"TIME_TRIAL\"\n",
    "\n",
    "if race_type == \"OBJECT_AVOIDANCE\":\n",
    "    yaml_config[\"NUMBER_OF_OBSTACLES\"] = \"6\"\n",
    "    yaml_config[\"RACE_TYPE\"] = \"OBJECT_AVOIDANCE\"\n",
    "\n",
    "elif race_type == \"HEAD_TO_BOT\":\n",
    "    yaml_config[\"NUMBER_OF_BOT_CARS\"] = \"6\"\n",
    "    yaml_config[\"RACE_TYPE\"] = \"HEAD_TO_BOT\"\n",
    "\n",
    "# Printing the modified yaml parameter\n",
    "for key, value in yaml_config.items():\n",
    "    print(\"{}: {}\".format(key.ljust(40, \" \"), value))\n",
    "\n",
    "# Uploading the modified yaml parameter\n",
    "with open(\"./evaluation_params.yaml\", \"w\") as filepointer:\n",
    "    yaml.dump(yaml_config, filepointer)\n",
    "\n",
    "!aws s3 cp ./evaluation_params.yaml {s3_location}/evaluation_params.yaml\n",
    "!rm evaluation_params.yaml"
   ]
  },
  {
   "cell_type": "markdown",
   "metadata": {},
   "source": [
    "#### Create the Kinesis video stream"
   ]
  },
  {
   "cell_type": "code",
   "execution_count": 42,
   "metadata": {
    "tags": []
   },
   "outputs": [
    {
     "name": "stdout",
     "output_type": "stream",
     "text": [
      "Created kinesis video stream dr-kvs-deepracer-notebook-sagemaker-230709-102428-0\n"
     ]
    }
   ],
   "source": [
    "kvs_stream_name=[]\n",
    "kvs_stream_arns=[]\n",
    "for job_no in range(num_simulation_workers):\n",
    "    kvs_stream_name.append(\"dr-kvs-{}-{}\".format(job_name,job_no))\n",
    "    try:\n",
    "        response=kinesisvideo.create_stream(StreamName=kvs_stream_name[job_no],MediaType=\"video/h264\",DataRetentionInHours=24)\n",
    "    except Exception as err:\n",
    "        if err.__class__.__name__ == 'ResourceInUseException':\n",
    "            response=kinesisvideo.describe_stream(StreamName=kvs_stream_name[job_no])[\"StreamInfo\"]\n",
    "        else:\n",
    "            raise err\n",
    "    print(\"Created kinesis video stream {}\".format(kvs_stream_name[job_no]))\n",
    "    kvs_stream_arns.append(response[\"StreamARN\"])"
   ]
  },
  {
   "cell_type": "code",
   "execution_count": 43,
   "metadata": {
    "tags": []
   },
   "outputs": [
    {
     "name": "stdout",
     "output_type": "stream",
     "text": [
      "Created the following jobs:\n",
      "Job ARN arn:aws:robomaker:us-east-1:600537146592:simulation-job/sim-p1c0mwp4psfr\n"
     ]
    }
   ],
   "source": [
    "responses = list()\n",
    "for job_no in range(num_simulation_workers):\n",
    "    response = robomaker.create_simulation_job(\n",
    "        clientRequestToken=strftime(\"%Y-%m-%d-%H-%M-%S\", gmtime()),\n",
    "        outputLocation={\n",
    "            \"s3Bucket\": s3_bucket,\n",
    "            \"s3Prefix\": s3_prefix\n",
    "        },\n",
    "        maxJobDurationInSeconds=job_duration_in_seconds,\n",
    "        iamRole=sagemaker_role,\n",
    "        failureBehavior=\"Fail\",\n",
    "        simulationApplications=[{\n",
    "            \"application\": simulation_app_arn,\n",
    "            \"applicationVersion\": \"$LATEST\",\n",
    "            \"launchConfig\": {\n",
    "                \"command\": [\"roslaunch\", \"deepracer_simulation_environment\", \"evaluation.launch\"],\n",
    "                \"environmentVariables\": {\n",
    "                    \"S3_YAML_NAME\": s3_yaml_name,\n",
    "                    \"MODEL_S3_PREFIX\": s3_prefix,\n",
    "                    \"MODEL_S3_BUCKET\": s3_bucket,\n",
    "                    \"WORLD_NAME\": world_name,\n",
    "                    \"KINESIS_VIDEO_STREAM_NAME\": kvs_stream_name[job_no],\n",
    "                    \"APP_REGION\": aws_region,\n",
    "                    \"MODEL_METADATA_FILE_S3_KEY\": \"%s/model/model_metadata.json\" % s3_prefix,\n",
    "                },\n",
    "                \"streamUI\": True\n",
    "            },\n",
    "            \"uploadConfigurations\": [{\n",
    "                    \"name\": \"gazebo-logs\",\n",
    "                    \"path\": \"/root/.gazebo/server*/*.log\",\n",
    "                    \"uploadBehavior\": \"UPLOAD_ON_TERMINATE\"\n",
    "                },\n",
    "                {\n",
    "                    \"name\": \"ros-logs\",\n",
    "                    \"path\": \"/root/.ros/log/**\",\n",
    "                    \"uploadBehavior\": \"UPLOAD_ON_TERMINATE\"\n",
    "                }\n",
    "            ],\n",
    "            \"useDefaultUploadConfigurations\": False,\n",
    "            \"tools\": [{\n",
    "                \"streamUI\": True,\n",
    "                \"name\": \"rviz\",\n",
    "                \"command\": \"source /opt/ros/melodic/setup.bash;source /opt/amazon/install/setup.bash; rviz\",\n",
    "                \"streamOutputToCloudWatch\": True,\n",
    "                \"exitBehavior\": \"RESTART\"\n",
    "              },\n",
    "              {\n",
    "                \"streamUI\": True,\n",
    "                \"name\": \"terminal\",\n",
    "                \"command\": \"source /opt/ros/melodic/setup.bash;source /opt/amazon/install/setup.bash; xfce4-terminal\",\n",
    "                \"streamOutputToCloudWatch\": True,\n",
    "                \"exitBehavior\": \"RESTART\"\n",
    "              },\n",
    "              {\n",
    "                \"streamUI\": True,\n",
    "                \"name\": \"gazebo\",\n",
    "                \"command\": \"source /opt/ml/code/scripts/gzclient_source.sh; export GAZEBO_MODEL_PATH=/opt/amazon/install/deepracer_simulation_environment/share/deepracer_simulation_environment/; gzclient\",\n",
    "                \"streamOutputToCloudWatch\": True,\n",
    "                \"exitBehavior\": \"RESTART\"\n",
    "            }],\n",
    "        }],\n",
    "        vpcConfig={\n",
    "            \"subnets\": deepracer_subnets,\n",
    "            \"securityGroups\": deepracer_security_groups,\n",
    "            \"assignPublicIp\": True\n",
    "        }\n",
    "    )\n",
    "    responses.append(response)\n",
    "    time.sleep(5)\n",
    "    \n",
    "print(\"Created the following jobs:\")\n",
    "job_arns = [response[\"arn\"] for response in responses]\n",
    "for job_arn in job_arns:\n",
    "    print(\"Job ARN\", job_arn)"
   ]
  },
  {
   "cell_type": "markdown",
   "metadata": {},
   "source": [
    "### Visualizing the simulations in RoboMaker\n",
    "You can visit the RoboMaker console to visualize the simulations or run the following cell to generate the hyperlinks."
   ]
  },
  {
   "cell_type": "markdown",
   "metadata": {},
   "source": [
    "### Creating temporary folder top plot metrics"
   ]
  },
  {
   "cell_type": "code",
   "execution_count": 44,
   "metadata": {
    "tags": []
   },
   "outputs": [
    {
     "data": {
      "text/markdown": [
       "> Click on the following links for visualization of simulation jobs on RoboMaker Console\n",
       "- [Simulation 1](https://us-east-1.console.aws.amazon.com/robomaker/home?region=us-east-1#simulationJobs/sim-p1c0mwp4psfr)  \n",
       "\n",
       "You can click on Gazebo after you open the above link to start the simulator."
      ],
      "text/plain": [
       "<IPython.core.display.Markdown object>"
      ]
     },
     "metadata": {},
     "output_type": "display_data"
    },
    {
     "data": {
      "text/markdown": [
       "View the Kinesis video stream <a target=_blank href=\"https://us-east-1.console.aws.amazon.com/kinesisvideo/home?region=us-east-1#/streams/streamName/dr-kvs-deepracer-notebook-sagemaker-230709-102428-0\">here.</a> (Expand 'Media Playback')"
      ],
      "text/plain": [
       "<IPython.core.display.Markdown object>"
      ]
     },
     "metadata": {},
     "output_type": "display_data"
    }
   ],
   "source": [
    "display(Markdown(generate_robomaker_links(job_arns, aws_region)))\n",
    "\n",
    "for job_no in range(num_simulation_workers):\n",
    "    display(Markdown(\"View the Kinesis video stream <a target=_blank href=\\\"https://us-east-1.console.aws.amazon.com/kinesisvideo/home?region=us-east-1#/streams/streamName/%s\\\">here.</a> (Expand 'Media Playback')\"%(kvs_stream_name[job_no])))"
   ]
  },
  {
   "cell_type": "code",
   "execution_count": 46,
   "metadata": {
    "tags": []
   },
   "outputs": [
    {
     "name": "stdout",
     "output_type": "stream",
     "text": [
      "Waiting for s3://sagemaker-us-east-1-600537146592/deepracer-notebook-sagemaker-230709-102428/evaluation_metrics.json...\n",
      "Downloading deepracer-notebook-sagemaker-230709-102428/evaluation_metrics.json\n"
     ]
    },
    {
     "data": {
      "text/html": [
       "<div>\n",
       "<style scoped>\n",
       "    .dataframe tbody tr th:only-of-type {\n",
       "        vertical-align: middle;\n",
       "    }\n",
       "\n",
       "    .dataframe tbody tr th {\n",
       "        vertical-align: top;\n",
       "    }\n",
       "\n",
       "    .dataframe thead th {\n",
       "        text-align: right;\n",
       "    }\n",
       "</style>\n",
       "<table border=\"1\" class=\"dataframe\">\n",
       "  <thead>\n",
       "    <tr style=\"text-align: right;\">\n",
       "      <th></th>\n",
       "      <th>trial</th>\n",
       "      <th>completion_percentage</th>\n",
       "      <th>reset_count</th>\n",
       "      <th>elapsed_time</th>\n",
       "    </tr>\n",
       "  </thead>\n",
       "  <tbody>\n",
       "    <tr>\n",
       "      <th>0</th>\n",
       "      <td>1</td>\n",
       "      <td>100</td>\n",
       "      <td>5</td>\n",
       "      <td>23.148</td>\n",
       "    </tr>\n",
       "    <tr>\n",
       "      <th>1</th>\n",
       "      <td>2</td>\n",
       "      <td>100</td>\n",
       "      <td>7</td>\n",
       "      <td>23.159</td>\n",
       "    </tr>\n",
       "    <tr>\n",
       "      <th>2</th>\n",
       "      <td>3</td>\n",
       "      <td>100</td>\n",
       "      <td>5</td>\n",
       "      <td>23.132</td>\n",
       "    </tr>\n",
       "  </tbody>\n",
       "</table>\n",
       "</div>"
      ],
      "text/plain": [
       "   trial  completion_percentage  reset_count  elapsed_time\n",
       "0      1                    100            5        23.148\n",
       "1      2                    100            7        23.159\n",
       "2      3                    100            5        23.132"
      ]
     },
     "metadata": {},
     "output_type": "display_data"
    }
   ],
   "source": [
    "evaluation_metrics_file = \"evaluation_metrics.json\"\n",
    "evaluation_metrics_path = \"{}/{}\".format(s3_prefix, evaluation_metrics_file)\n",
    "wait_for_s3_object(s3_bucket, evaluation_metrics_path, tmp_dir)\n",
    "\n",
    "json_file = \"{}/{}\".format(tmp_dir, evaluation_metrics_file)\n",
    "with open(json_file) as fp:\n",
    "    data = json.load(fp)\n",
    "\n",
    "df = pd.DataFrame(data[\"metrics\"])\n",
    "# Converting milliseconds to seconds\n",
    "df[\"elapsed_time\"] = df[\"elapsed_time_in_milliseconds\"] / 1000\n",
    "df = df[[\"trial\", \"completion_percentage\", \"reset_count\", \"elapsed_time\"]]\n",
    "\n",
    "display(df)"
   ]
  },
  {
   "cell_type": "markdown",
   "metadata": {},
   "source": [
    "### Explore output logs and videos"
   ]
  },
  {
   "cell_type": "code",
   "execution_count": 47,
   "metadata": {},
   "outputs": [
    {
     "data": {
      "text/markdown": [
       "Visit <a target=_blank href=\"https://s3.console.aws.amazon.com/s3/buckets/sagemaker-us-east-1-011113936377?region=us-east-1&prefix=deepracer-notebook-sagemaker-221121-164133/&showversions=false\">the output logs, videos, and other artifacts in S3.</a>"
      ],
      "text/plain": [
       "<IPython.core.display.Markdown object>"
      ]
     },
     "metadata": {},
     "output_type": "display_data"
    }
   ],
   "source": [
    "display(Markdown(\"Visit <a target=_blank href=\\\"https://s3.console.aws.amazon.com/s3/buckets/%s?region=%s&prefix=%s/&showversions=false\\\">the output logs, videos, and other artifacts in S3.</a>\"%(s3_bucket,aws_region,s3_prefix)))"
   ]
  },
  {
   "cell_type": "markdown",
   "metadata": {
    "jp-MarkdownHeadingCollapsed": true,
    "tags": []
   },
   "source": [
    "# Workshop Checkpoint #4"
   ]
  },
  {
   "cell_type": "markdown",
   "metadata": {
    "jp-MarkdownHeadingCollapsed": true,
    "tags": []
   },
   "source": [
    "# Head-to-head Evaluation"
   ]
  },
  {
   "cell_type": "code",
   "execution_count": null,
   "metadata": {},
   "outputs": [],
   "source": [
    "# S3 bucket\n",
    "s3_bucket_2 = sage_session.default_bucket()\n",
    "\n",
    "# Ensure that the S3 prefix contains the keyword 'sagemaker'\n",
    "# e.g.\"deepracer-notebook-sagemaker-200422-231836\"\n",
    "# Please provide the second agents s3_prefix\n",
    "s3_prefix_2 = \"[FILL OUT PREFIX]\"\n",
    "\n",
    "if not s3_prefix_2:\n",
    "    raise Exception(\n",
    "        \"Please provide the second agents s3_prefix and s3_bucket. The prefix would have sagemaker in between\"\n",
    "    )\n",
    "\n",
    "print(\"Using s3 bucket {}\".format(s3_bucket_2))\n",
    "print(\n",
    "    \"Model checkpoints and other metadata will be stored at: \\ns3://{}/{}\".format(\n",
    "        s3_bucket_2, s3_prefix_2\n",
    "    )\n",
    ")"
   ]
  },
  {
   "cell_type": "code",
   "execution_count": null,
   "metadata": {},
   "outputs": [],
   "source": [
    "s3_yaml_name = \"evaluation_params.yaml\"\n",
    "world_name = \"2022_reinvent_champ\"\n",
    "\n",
    "with open(\"./src/artifacts/yaml/head2head_yaml_template.yaml\", \"r\") as filepointer:\n",
    "    yaml_config = yaml.safe_load(filepointer)\n",
    "\n",
    "yaml_config[\"WORLD_NAME\"] = world_name\n",
    "yaml_config[\"MODEL_S3_BUCKET\"] = [s3_bucket, s3_bucket_2]\n",
    "yaml_config[\"MODEL_S3_PREFIX\"] = [s3_prefix, s3_prefix_2]\n",
    "yaml_config[\"MODEL_METADATA_FILE_S3_KEY\"] = [\n",
    "    \"{}/model/model_metadata.json\".format(s3_prefix),\n",
    "    \"{}/model/model_metadata.json\".format(s3_prefix_2),\n",
    "]\n",
    "yaml_config[\"AWS_REGION\"] = aws_region\n",
    "yaml_config[\"METRICS_S3_BUCKET\"] = [s3_bucket, s3_bucket_2]\n",
    "yaml_config[\"METRICS_S3_OBJECT_KEY\"] = [\n",
    "    \"{}/evaluation_metrics.json\".format(s3_prefix),\n",
    "    \"{}/evaluation_metrics.json\".format(s3_prefix_2),\n",
    "]\n",
    "yaml_config[\"SIMTRACE_S3_BUCKET\"] = [s3_bucket, s3_bucket_2]\n",
    "yaml_config[\"SIMTRACE_S3_PREFIX\"] = [\n",
    "    \"{}/iteration-data/evaluation\".format(s3_prefix),\n",
    "    \"{}/iteration-data/evaluation\".format(s3_prefix_2),\n",
    "]\n",
    "yaml_config[\"ROBOMAKER_SIMULATION_JOB_ACCOUNT_ID\"] = account_id\n",
    "yaml_config[\"NUMBER_OF_TRIALS\"] = \"5\"\n",
    "yaml_config[\"MP4_S3_BUCKET\"] = [s3_bucket, s3_bucket_2]\n",
    "yaml_config[\"MP4_S3_OBJECT_PREFIX\"] = [\n",
    "    \"{}/iteration-data/evaluation\".format(s3_prefix),\n",
    "    \"{}/iteration-data/evaluation\".format(s3_prefix_2),\n",
    "]\n",
    "\n",
    "# Race-type supported for training are TIME_TRIAL, OBJECT_AVOIDANCE, HEAD_TO_BOT\n",
    "# If you need to modify more attributes look at the template yaml file\n",
    "race_type = \"TIME_TRIAL\"\n",
    "\n",
    "if race_type == \"OBJECT_AVOIDANCE\":\n",
    "    yaml_config[\"NUMBER_OF_OBSTACLES\"] = \"6\"\n",
    "    yaml_config[\"RACE_TYPE\"] = \"OBJECT_AVOIDANCE\"\n",
    "\n",
    "elif race_type == \"HEAD_TO_BOT\":\n",
    "    yaml_config[\"NUMBER_OF_BOT_CARS\"] = \"6\"\n",
    "    yaml_config[\"RACE_TYPE\"] = \"HEAD_TO_BOT\"\n",
    "\n",
    "# Printing the modified yaml parameter\n",
    "for key, value in yaml_config.items():\n",
    "    print(\"{}: {}\".format(key.ljust(40, \" \"), value))\n",
    "\n",
    "# Uploading the modified yaml parameter\n",
    "with open(\"./evaluation_params.yaml\", \"w\") as filepointer:\n",
    "    yaml.dump(yaml_config, filepointer)\n",
    "\n",
    "!aws s3 cp ./evaluation_params.yaml {s3_location}/evaluation_params.yaml\n",
    "!rm evaluation_params.yaml"
   ]
  },
  {
   "cell_type": "markdown",
   "metadata": {},
   "source": [
    "#### Create the Kinesis video stream"
   ]
  },
  {
   "cell_type": "code",
   "execution_count": 19,
   "metadata": {},
   "outputs": [
    {
     "name": "stdout",
     "output_type": "stream",
     "text": [
      "{\n",
      "    \"StreamARN\": \"arn:aws:kinesisvideo:us-east-1:011113936377:stream/dr-kvs-deepracer-notebook-sagemaker-221115-224306/1668552190446\"\n",
      "}\n",
      "Created kinesis video stream dr-kvs-deepracer-notebook-sagemaker-221115-224306\n"
     ]
    }
   ],
   "source": [
    "kvs_stream_name=[]\n",
    "kvs_stream_arns=[]\n",
    "for job_no in range(num_simulation_workers):\n",
    "    kvs_stream_name.append(\"dr-kvs-{}-{}\".format(job_name,job_no))\n",
    "    try:\n",
    "        response=kinesisvideo.create_stream(StreamName=kvs_stream_name[job_no],MediaType=\"video/h264\",DataRetentionInHours=24)\n",
    "    except Exception as err:\n",
    "        if err.__class__.__name__ == 'ResourceInUseException':\n",
    "            response=kinesisvideo.describe_stream(StreamName=kvs_stream_name[job_no])[\"StreamInfo\"]\n",
    "        else:\n",
    "            raise err\n",
    "    print(\"Created kinesis video stream {}\".format(kvs_stream_name[job_no]))\n",
    "    kvs_stream_arns.append(response[\"StreamARN\"])"
   ]
  },
  {
   "cell_type": "code",
   "execution_count": null,
   "metadata": {},
   "outputs": [],
   "source": [
    "responses = list()\n",
    "for job_no in range(num_simulation_workers):\n",
    "    response = robomaker.create_simulation_job(\n",
    "        clientRequestToken=strftime(\"%Y-%m-%d-%H-%M-%S\", gmtime()),\n",
    "        outputLocation={\n",
    "            \"s3Bucket\": s3_bucket,\n",
    "            \"s3Prefix\": s3_prefix\n",
    "        },\n",
    "        maxJobDurationInSeconds=job_duration_in_seconds,\n",
    "        iamRole=sagemaker_role,\n",
    "        failureBehavior=\"Fail\",\n",
    "        simulationApplications=[{\n",
    "            \"application\": simulation_app_arn,\n",
    "            \"applicationVersion\": \"$LATEST\",\n",
    "            \"launchConfig\": {\n",
    "                \"command\": [\"roslaunch\", \"deepracer_simulation_environment\", \"evaluation.launch\"],\n",
    "                \"environmentVariables\": {\n",
    "                    \"S3_YAML_NAME\": s3_yaml_name,\n",
    "                    \"MODEL_S3_PREFIX\": s3_prefix,\n",
    "                    \"MODEL_S3_BUCKET\": s3_bucket,\n",
    "                    \"WORLD_NAME\": world_name,\n",
    "                    \"KINESIS_VIDEO_STREAM_NAME\": kvs_stream_name[job_no],\n",
    "                    \"APP_REGION\": aws_region,\n",
    "                    \"MODEL_METADATA_FILE_S3_KEY\": \"%s/model/model_metadata.json\" % s3_prefix,\n",
    "                },\n",
    "                \"streamUI\": True\n",
    "            },\n",
    "            \"uploadConfigurations\": [{\n",
    "                    \"name\": \"gazebo-logs\",\n",
    "                    \"path\": \"/root/.gazebo/server*/*.log\",\n",
    "                    \"uploadBehavior\": \"UPLOAD_ON_TERMINATE\"\n",
    "                },\n",
    "                {\n",
    "                    \"name\": \"ros-logs\",\n",
    "                    \"path\": \"/root/.ros/log/**\",\n",
    "                    \"uploadBehavior\": \"UPLOAD_ON_TERMINATE\"\n",
    "                }\n",
    "            ],\n",
    "            \"useDefaultUploadConfigurations\": False,\n",
    "            \"tools\": [{\n",
    "                \"streamUI\": True,\n",
    "                \"name\": \"rviz\",\n",
    "                \"command\": \"source /opt/ros/melodic/setup.bash;source /opt/amazon/install/setup.bash; rviz\",\n",
    "                \"streamOutputToCloudWatch\": True,\n",
    "                \"exitBehavior\": \"RESTART\"\n",
    "              },\n",
    "              {\n",
    "                \"streamUI\": True,\n",
    "                \"name\": \"terminal\",\n",
    "                \"command\": \"source /opt/ros/melodic/setup.bash;source /opt/amazon/install/setup.bash; xfce4-terminal\",\n",
    "                \"streamOutputToCloudWatch\": True,\n",
    "                \"exitBehavior\": \"RESTART\"\n",
    "              },\n",
    "              {\n",
    "                \"streamUI\": True,\n",
    "                \"name\": \"gazebo\",\n",
    "                \"command\": \"source /opt/ml/code/scripts/gzclient_source.sh; export GAZEBO_MODEL_PATH=/opt/amazon/install/deepracer_simulation_environment/share/deepracer_simulation_environment/; gzclient\",\n",
    "                \"streamOutputToCloudWatch\": True,\n",
    "                \"exitBehavior\": \"RESTART\"\n",
    "            }],\n",
    "        }],\n",
    "        vpcConfig={\n",
    "            \"subnets\": deepracer_subnets,\n",
    "            \"securityGroups\": deepracer_security_groups,\n",
    "            \"assignPublicIp\": True\n",
    "        }\n",
    "    )\n",
    "    responses.append(response)\n",
    "    time.sleep(5)\n",
    "    \n",
    "print(\"Created the following jobs:\")\n",
    "job_arns = [response[\"arn\"] for response in responses]\n",
    "for job_arn in job_arns:\n",
    "    print(\"Job ARN\", job_arn)"
   ]
  },
  {
   "cell_type": "markdown",
   "metadata": {},
   "source": [
    "### Visualizing the simulations in RoboMaker\n",
    "You can visit the RoboMaker console to visualize the simulations or run the following cell to generate the hyperlinks."
   ]
  },
  {
   "cell_type": "code",
   "execution_count": 38,
   "metadata": {},
   "outputs": [
    {
     "data": {
      "text/markdown": [
       "> Click on the following links for visualization of simulation jobs on RoboMaker Console\n",
       "- [Simulation 1](https://us-east-1.console.aws.amazon.com/robomaker/home?region=us-east-1#simulationJobs/sim-15s9rn4f55t1)  \n",
       "\n",
       "You can click on Gazebo after you open the above link to start the simulator."
      ],
      "text/plain": [
       "<IPython.core.display.Markdown object>"
      ]
     },
     "metadata": {},
     "output_type": "display_data"
    },
    {
     "data": {
      "text/markdown": [
       "View the Kinesis video stream <a href=\"https://us-east-1.console.aws.amazon.com/kinesisvideo/home?region=us-east-1#/streams/streamName/dr-kvs-deepracer-notebook-sagemaker-221118-032842-0\">here.</a> (Expand 'Media Playback')"
      ],
      "text/plain": [
       "<IPython.core.display.Markdown object>"
      ]
     },
     "metadata": {},
     "output_type": "display_data"
    }
   ],
   "source": [
    "display(Markdown(generate_robomaker_links(job_arns, aws_region)))\n",
    "\n",
    "for job_no in range(num_simulation_workers):\n",
    "    display(Markdown(\"View the Kinesis video stream <a href=\\\"https://us-east-1.console.aws.amazon.com/kinesisvideo/home?region=us-east-1#/streams/streamName/%s\\\">here.</a> (Expand 'Media Playback')\"%(kvs_stream_name[job_no])))"
   ]
  },
  {
   "cell_type": "markdown",
   "metadata": {},
   "source": [
    "### Creating temporary folder top plot metrics"
   ]
  },
  {
   "cell_type": "code",
   "execution_count": null,
   "metadata": {},
   "outputs": [],
   "source": [
    "evaluation_metrics_file = \"evaluation_metrics.json\"\n",
    "evaluation_metrics_path = \"{}/{}\".format(s3_prefix, evaluation_metrics_file)\n",
    "wait_for_s3_object(s3_bucket, evaluation_metrics_path, tmp_dir)\n",
    "\n",
    "json_file = \"{}/{}\".format(tmp_dir, evaluation_metrics_file)\n",
    "with open(json_file) as fp:\n",
    "    data = json.load(fp)\n",
    "\n",
    "df_1 = pd.DataFrame(data[\"metrics\"])\n",
    "# Converting milliseconds to seconds\n",
    "df_1[\"elapsed_time\"] = df_1[\"elapsed_time_in_milliseconds\"] / 1000\n",
    "df_1 = df_1[[\"trial\", \"completion_percentage\", \"elapsed_time\"]]\n",
    "\n",
    "display(df_1)"
   ]
  },
  {
   "cell_type": "code",
   "execution_count": null,
   "metadata": {},
   "outputs": [],
   "source": [
    "evaluation_metrics_file = \"evaluation_metrics.json\"\n",
    "evaluation_metrics_path = \"{}/{}\".format(s3_prefix_2, evaluation_metrics_file)\n",
    "wait_for_s3_object(s3_bucket_2, evaluation_metrics_path, tmp_dir)\n",
    "\n",
    "json_file = \"{}/{}\".format(tmp_dir, evaluation_metrics_file)\n",
    "with open(json_file) as fp:\n",
    "    data = json.load(fp)\n",
    "\n",
    "df_2 = pd.DataFrame(data[\"metrics\"])\n",
    "# Converting milliseconds to seconds\n",
    "df_2[\"elapsed_time\"] = df_2[\"elapsed_time_in_milliseconds\"] / 1000\n",
    "df_2 = df_2[[\"trial\", \"completion_percentage\", \"elapsed_time\"]]\n",
    "\n",
    "display(df_2)"
   ]
  },
  {
   "cell_type": "markdown",
   "metadata": {},
   "source": [
    "# Workshop Checkpoint #5"
   ]
  },
  {
   "cell_type": "markdown",
   "metadata": {},
   "source": [
    "# Clean Up the Environment"
   ]
  },
  {
   "cell_type": "markdown",
   "metadata": {},
   "source": [
    "### Clean up RoboMaker and SageMaker training job\n",
    "\n",
    "Execute the cells below if you want to kill RoboMaker and SageMaker job."
   ]
  },
  {
   "cell_type": "code",
   "execution_count": null,
   "metadata": {
    "tags": []
   },
   "outputs": [],
   "source": [
    "# Cancelling robomaker job\n",
    "for job_arn in job_arns:\n",
    "    try:\n",
    "        robomaker.cancel_simulation_job(job=job_arn)\n",
    "    except:\n",
    "        pass\n",
    "\n",
    "# Stopping sagemaker training job\n",
    "try:\n",
    "    sage_session.sagemaker_client.stop_training_job(TrainingJobName=job_name)\n",
    "except Exception as err:\n",
    "    print(\"Could not stop training job; already stopped?\",err)"
   ]
  },
  {
   "cell_type": "markdown",
   "metadata": {},
   "source": [
    "### Clean Up Simulation Application Resource"
   ]
  },
  {
   "cell_type": "code",
   "execution_count": 79,
   "metadata": {
    "tags": []
   },
   "outputs": [
    {
     "data": {
      "text/plain": [
       "{'ResponseMetadata': {'RequestId': 'f9e2ae37-7904-4cd7-9e29-e7406047ce17',\n",
       "  'HTTPStatusCode': 200,\n",
       "  'HTTPHeaders': {'date': 'Sun, 09 Jul 2023 07:48:51 GMT',\n",
       "   'content-type': 'application/json',\n",
       "   'content-length': '2',\n",
       "   'connection': 'keep-alive',\n",
       "   'x-amzn-requestid': 'f9e2ae37-7904-4cd7-9e29-e7406047ce17',\n",
       "   'access-control-allow-origin': '*',\n",
       "   'access-control-allow-headers': 'Content-Type,X-Amz-Date,Authorization,X-Api-Key,X-Amz-Security-Token',\n",
       "   'x-amz-apigw-id': 'HyTvfF1oIAMF0iA=',\n",
       "   'access-control-allow-methods': 'GET,OPTIONS,POST',\n",
       "   'access-control-expose-headers': 'x-amzn-RequestId,x-amzn-ErrorType',\n",
       "   'x-amzn-trace-id': 'Root=1-64aa6662-746e73ec7f079301591ed169'},\n",
       "  'RetryAttempts': 0}}"
      ]
     },
     "execution_count": 79,
     "metadata": {},
     "output_type": "execute_result"
    }
   ],
   "source": [
    "robomaker.delete_simulation_application(application=simulation_app_arn)"
   ]
  },
  {
   "cell_type": "markdown",
   "metadata": {},
   "source": [
    "### Remove Kinesis Video Streams"
   ]
  },
  {
   "cell_type": "code",
   "execution_count": 74,
   "metadata": {
    "tags": []
   },
   "outputs": [],
   "source": [
    "for streamarn in kvs_stream_arns:\n",
    "    try:\n",
    "        kinesisvideo.delete_stream(StreamARN=streamarn)\n",
    "        print(\"Deleted\",streamarn)\n",
    "    except:\n",
    "        pass"
   ]
  },
  {
   "cell_type": "markdown",
   "metadata": {},
   "source": [
    "### Clean your S3 bucket (Uncomment the awscli commands if you want to do it)"
   ]
  },
  {
   "cell_type": "code",
   "execution_count": null,
   "metadata": {},
   "outputs": [],
   "source": [
    "## Uncomment if you only want to clean the s3 bucket\n",
    "# sagemaker_s3_folder = \"s3://{}/{}\".format(s3_bucket, s3_prefix)\n",
    "# !aws s3 rm --recursive {sagemaker_s3_folder}\n",
    "\n",
    "# robomaker_s3_folder = \"s3://{}/{}\".format(s3_bucket, job_name)\n",
    "# !aws s3 rm --recursive {robomaker_s3_folder}\n",
    "\n",
    "# robomaker_sim_app = \"s3://{}/{}\".format(s3_bucket, 'robomaker')\n",
    "# !aws s3 rm --recursive {robomaker_sim_app}\n",
    "\n",
    "# model_output = \"s3://{}/{}\".format(s3_bucket, s3_bucket)\n",
    "# !aws s3 rm --recursive {model_output}"
   ]
  },
  {
   "cell_type": "markdown",
   "metadata": {},
   "source": [
    "#### Remove the docker images from Elastic Container Repository"
   ]
  },
  {
   "cell_type": "code",
   "execution_count": 76,
   "metadata": {
    "scrolled": true
   },
   "outputs": [
    {
     "data": {
      "text/plain": [
       "{'repository': {'repositoryArn': 'arn:aws:ecr:us-east-1:011113936377:repository/sagemaker-docker-cpu',\n",
       "  'registryId': '011113936377',\n",
       "  'repositoryName': 'sagemaker-docker-cpu',\n",
       "  'repositoryUri': '011113936377.dkr.ecr.us-east-1.amazonaws.com/sagemaker-docker-cpu',\n",
       "  'createdAt': datetime.datetime(2021, 11, 19, 18, 22, 41, tzinfo=tzlocal()),\n",
       "  'imageTagMutability': 'MUTABLE'},\n",
       " 'ResponseMetadata': {'RequestId': '8554e320-246f-4179-8db5-c6d7f2af8041',\n",
       "  'HTTPStatusCode': 200,\n",
       "  'HTTPHeaders': {'x-amzn-requestid': '8554e320-246f-4179-8db5-c6d7f2af8041',\n",
       "   'date': 'Fri, 18 Nov 2022 05:14:09 GMT',\n",
       "   'content-type': 'application/x-amz-json-1.1',\n",
       "   'content-length': '310'},\n",
       "  'RetryAttempts': 0}}"
      ]
     },
     "execution_count": 76,
     "metadata": {},
     "output_type": "execute_result"
    }
   ],
   "source": [
    "ecr = boto3.client('ecr')\n",
    "\n",
    "ecr.delete_repository(repositoryName=local_simapp_ecr_docker_image_name,force=True)\n",
    "ecr.delete_repository(repositoryName=repository_short_name,force=True)"
   ]
  },
  {
   "cell_type": "markdown",
   "metadata": {},
   "source": [
    "### Clean the docker images\n",
    "Uncomment and run this only when you want to completely remove the docker containers or clean up the space of the sagemaker instance on this notebook."
   ]
  },
  {
   "cell_type": "code",
   "execution_count": 6,
   "metadata": {},
   "outputs": [],
   "source": [
    "#!docker rm -f $(docker ps -a -q);\n",
    "#!docker rmi -f $(docker images -q);"
   ]
  }
 ],
 "metadata": {
  "anaconda-cloud": {},
  "kernelspec": {
   "display_name": "conda_python3",
   "language": "python",
   "name": "conda_python3"
  },
  "language_info": {
   "codemirror_mode": {
    "name": "ipython",
    "version": 3
   },
   "file_extension": ".py",
   "mimetype": "text/x-python",
   "name": "python",
   "nbconvert_exporter": "python",
   "pygments_lexer": "ipython3",
   "version": "3.10.10"
  }
 },
 "nbformat": 4,
 "nbformat_minor": 4
}
