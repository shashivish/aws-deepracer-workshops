{
 "cells": [
  {
   "cell_type": "code",
   "execution_count": 2,
   "id": "93549ddb-ae03-4849-859e-a3321d9cce97",
   "metadata": {
    "tags": []
   },
   "outputs": [],
   "source": [
    "import boto3\n",
    "import sagemaker\n",
    "import sys\n",
    "import os\n",
    "import re\n",
    "import numpy as np\n",
    "import subprocess\n",
    "import yaml\n",
    "\n",
    "sys.path.append(\"common\")\n",
    "sys.path.append(\"./src\")\n",
    "from misc import get_execution_role, wait_for_s3_object\n",
    "from docker_utils import build_docker_image\n",
    "from docker_utils import push as docker_push\n",
    "from sagemaker.rl import RLEstimator, RLToolkit, RLFramework\n",
    "from time import gmtime, strftime\n",
    "import time\n",
    "from IPython.display import Markdown\n",
    "from markdown_helper import *"
   ]
  },
  {
   "cell_type": "code",
   "execution_count": 3,
   "id": "5d2d5ae8-c033-4dc5-8ef8-697dcdf58694",
   "metadata": {
    "tags": []
   },
   "outputs": [
    {
     "name": "stdout",
     "output_type": "stream",
     "text": [
      "Using Sagemaker IAM role arn: \n",
      "arn:aws:iam::600537146592:role/service-role/AWSDeepRacerSageMakerAccessRole\n"
     ]
    }
   ],
   "source": [
    "try:\n",
    "    sagemaker_role = sagemaker.get_execution_role()\n",
    "except:\n",
    "    sagemaker_role = get_execution_role(\"sagemaker\")\n",
    "\n",
    "print(\"Using Sagemaker IAM role arn: \\n{}\".format(sagemaker_role))"
   ]
  },
  {
   "cell_type": "code",
   "execution_count": 61,
   "id": "2aa3cbb8-2c6a-4981-b1e9-04c6630b1f11",
   "metadata": {
    "tags": []
   },
   "outputs": [
    {
     "name": "stdout",
     "output_type": "stream",
     "text": [
      "Using ECR image 600537146592.dkr.ecr.us-east-1.amazonaws.com/sagemaker-docker-cpu\n"
     ]
    }
   ],
   "source": [
    "# Select the instance type\n",
    "#instance_type = \"ml.c4.2xlarge\"\n",
    "# instance_type = \"ml.p2.xlarge\"\n",
    "instance_type = \"ml.g4dn.2xlarge\"\n",
    "\n",
    "# Starting SageMaker session\n",
    "sage_session = sagemaker.session.Session()\n",
    "\n",
    "# Create unique job name.\n",
    "job_name_prefix = \"deepracer-notebook\"\n",
    "\n",
    "# Duration of job in seconds (10 minutes)\n",
    "job_duration_in_seconds = 1800\n",
    "\n",
    "# AWS Region\n",
    "aws_region = sage_session.boto_region_name\n",
    "if aws_region not in [\"us-west-2\", \"us-east-1\", \"eu-west-1\", \"ap-southeast-1\",\"ap-northeast-1\",\"eu-central-1\",\"us-east-2\"]:\n",
    "    raise Exception(\n",
    "        \"This notebook uses RoboMaker which is available only in certain\"\n",
    "        \"regions. Please switch to one of these regions.\"\n",
    "    )\n",
    "custom_image_name = \"600537146592.dkr.ecr.us-east-1.amazonaws.com/sagemaker-docker-cpu\"\n",
    "print(\"Using ECR image %s\" % custom_image_name)"
   ]
  },
  {
   "cell_type": "markdown",
   "id": "647ec6fe-38be-4a92-a384-f30053e2f3d2",
   "metadata": {},
   "source": [
    "### Create a New Job"
   ]
  },
  {
   "cell_type": "code",
   "execution_count": 62,
   "id": "c2637fb8-062a-4b5e-9cdb-647c85757bd8",
   "metadata": {
    "tags": []
   },
   "outputs": [
    {
     "name": "stdout",
     "output_type": "stream",
     "text": [
      "Using s3 bucket sagemaker-us-east-1-600537146592\n",
      "Model checkpoints and other metadata will be stored at: \n",
      "s3://sagemaker-us-east-1-600537146592/deepracer-notebook-sagemaker-230710-084907\n"
     ]
    }
   ],
   "source": [
    "# S3 bucket\n",
    "s3_bucket = sage_session.default_bucket()\n",
    "\n",
    "# SDK appends the job name and output folder\n",
    "s3_output_path = \"s3://{}/\".format(s3_bucket)\n",
    "\n",
    "# Ensure that the S3 prefix contains the keyword 'sagemaker'\n",
    "s3_prefix = job_name_prefix + \"-sagemaker-\" + strftime(\"%y%m%d-%H%M%S\", gmtime())\n",
    "previous_job_name_prefix = job_name_prefix + \"-sagemaker-\" + strftime(\"%y%m%d-%H%M%S\", gmtime())\n",
    "\n",
    "# Get the AWS account id of this account\n",
    "sts = boto3.client(\"sts\")\n",
    "account_id = sts.get_caller_identity()[\"Account\"]\n",
    "\n",
    "print(\"Using s3 bucket {}\".format(s3_bucket))\n",
    "print(\n",
    "    \"Model checkpoints and other metadata will be stored at: \\ns3://{}/{}\".format(\n",
    "        s3_bucket, s3_prefix\n",
    "    )\n",
    ")"
   ]
  },
  {
   "cell_type": "markdown",
   "id": "17057def-9159-41b0-ade1-bcd55cfda7ba",
   "metadata": {},
   "source": [
    "### VPC Configuration"
   ]
  },
  {
   "cell_type": "code",
   "execution_count": 63,
   "id": "a1922e61-b072-41be-a7c9-083a5b6f2647",
   "metadata": {
    "tags": []
   },
   "outputs": [
    {
     "name": "stdout",
     "output_type": "stream",
     "text": [
      "Using the default VPC stacks\n",
      "Using VPC: vpc-0583f0be47ec9f771\n",
      "Using security group: ['sg-04d2de6cfe9b1ee4f']\n",
      "Using subnets: ['subnet-07636419507cea176', 'subnet-0f51ce92b5fb977d5', 'subnet-0deaaa1509dc6c639', 'subnet-0ca0ff0e7a5ddb821', 'subnet-095040efea5ddfe9d', 'subnet-0c9abab1ea2804f32']\n"
     ]
    }
   ],
   "source": [
    "ec2 = boto3.client(\"ec2\")\n",
    "\n",
    "print(\"Using the default VPC stacks\")\n",
    "deepracer_vpc = [vpc[\"VpcId\"] for vpc in ec2.describe_vpcs()[\"Vpcs\"] if vpc[\"IsDefault\"] == True][0]\n",
    "\n",
    "deepracer_security_groups = [\n",
    "    group[\"GroupId\"]\n",
    "    for group in ec2.describe_security_groups()[\"SecurityGroups\"]\n",
    "    if \"VpcId\" in group and group[\"GroupName\"] == \"default\" and group[\"VpcId\"] == deepracer_vpc\n",
    "]\n",
    "\n",
    "deepracer_subnets = [\n",
    "    subnet[\"SubnetId\"]\n",
    "    for subnet in ec2.describe_subnets()[\"Subnets\"]\n",
    "    if subnet[\"VpcId\"] == deepracer_vpc and subnet[\"DefaultForAz\"] == True\n",
    "]\n",
    "\n",
    "print(\"Using VPC:\", deepracer_vpc)\n",
    "print(\"Using security group:\", deepracer_security_groups)\n",
    "print(\"Using subnets:\", deepracer_subnets)"
   ]
  },
  {
   "cell_type": "markdown",
   "id": "c0f564ea-591e-4be8-a788-5b5722030777",
   "metadata": {},
   "source": [
    "### S3 Endpoint"
   ]
  },
  {
   "cell_type": "code",
   "execution_count": 64,
   "id": "02aeddbf-9f05-451b-a0ae-f82dc031c5ff",
   "metadata": {
    "tags": []
   },
   "outputs": [
    {
     "name": "stdout",
     "output_type": "stream",
     "text": [
      "Creating \n",
      "Trying to attach S3 endpoints to the following route tables: ['rtb-01056284e8762a00a']\n",
      "S3 endpoint already exists.\n"
     ]
    }
   ],
   "source": [
    "def create_vpc_endpoint_table():\n",
    "    print(\"Creating \")\n",
    "    try:\n",
    "        route_tables = [\n",
    "            route_table[\"RouteTableId\"]\n",
    "            for route_table in ec2.describe_route_tables()[\"RouteTables\"]\n",
    "            if route_table[\"VpcId\"] == deepracer_vpc\n",
    "        ]\n",
    "    except Exception as e:\n",
    "        if \"UnauthorizedOperation\" in str(e):\n",
    "            display(Markdown(generate_help_for_s3_endpoint_permissions(sagemaker_role)))\n",
    "        else:\n",
    "            display(Markdown(create_s3_endpoint_manually(aws_region, deepracer_vpc)))\n",
    "        raise e\n",
    "\n",
    "    print(\"Trying to attach S3 endpoints to the following route tables:\", route_tables)\n",
    "\n",
    "    if not route_tables:\n",
    "        raise Exception(\n",
    "            (\n",
    "                \"No route tables were found. Please follow the VPC S3 endpoint creation \"\n",
    "                \"guide by clicking the above link.\"\n",
    "            )\n",
    "        )\n",
    "    try:\n",
    "        ec2.create_vpc_endpoint(\n",
    "            DryRun=False,\n",
    "            VpcEndpointType=\"Gateway\",\n",
    "            VpcId=deepracer_vpc,\n",
    "            ServiceName=\"com.amazonaws.{}.s3\".format(aws_region),\n",
    "            RouteTableIds=route_tables,\n",
    "        )\n",
    "        print(\"S3 endpoint created successfully!\")\n",
    "    except Exception as e:\n",
    "        if \"RouteAlreadyExists\" in str(e):\n",
    "            print(\"S3 endpoint already exists.\")\n",
    "        elif \"UnauthorizedOperation\" in str(e):\n",
    "            display(Markdown(generate_help_for_s3_endpoint_permissions(role)))\n",
    "            raise e\n",
    "        else:\n",
    "            display(Markdown(create_s3_endpoint_manually(aws_region, deepracer_vpc)))\n",
    "            raise e\n",
    "\n",
    "create_vpc_endpoint_table()"
   ]
  },
  {
   "cell_type": "code",
   "execution_count": 65,
   "id": "ee606efe-0f15-4d98-9435-6d5cf44dade8",
   "metadata": {
    "tags": []
   },
   "outputs": [
    {
     "name": "stdout",
     "output_type": "stream",
     "text": [
      "s3://sagemaker-us-east-1-600537146592/deepracer-notebook-sagemaker-230710-084907\n",
      "upload: src/artifacts/rewards/default.py to s3://sagemaker-us-east-1-600537146592/deepracer-notebook-sagemaker-230710-084907/customer_reward_function.py\n",
      "upload: src/artifacts/actions/default.json to s3://sagemaker-us-east-1-600537146592/deepracer-notebook-sagemaker-230710-084907/model/model_metadata.json\n"
     ]
    }
   ],
   "source": [
    "s3_location = \"s3://%s/%s\" % (s3_bucket, s3_prefix)\n",
    "print(s3_location)\n",
    "\n",
    "# Clean up the previously uploaded files\n",
    "!aws s3 rm --recursive {s3_location}\n",
    "\n",
    "!aws s3 cp ./src/artifacts/rewards/default.py {s3_location}/customer_reward_function.py\n",
    "\n",
    "!aws s3 cp ./src/artifacts/actions/default.json {s3_location}/model/model_metadata.json\n",
    "\n",
    "#!aws s3 cp src/markov/presets/default.py {s3_location}/presets/preset.py\n",
    "#!aws s3 cp src/markov/presets/preset_attention_layer.py {s3_location}/presets/preset.py"
   ]
  },
  {
   "cell_type": "code",
   "execution_count": 67,
   "id": "d2d337f1-d542-48d8-b5bf-12eb5ea48b84",
   "metadata": {
    "tags": []
   },
   "outputs": [],
   "source": [
    "custom_hyperparameter = {\n",
    "    \"s3_bucket\": s3_bucket,\n",
    "    \"s3_prefix\": s3_prefix,\n",
    "    \"aws_region\": aws_region,\n",
    "    \"model_metadata_s3_key\": \"%s/model/model_metadata.json\" % s3_prefix,\n",
    "    \"reward_function_s3_source\": \"%s/customer_reward_function.py\" % s3_prefix,\n",
    "    \"batch_size\": \"64\",\n",
    "    \"num_epochs\": \"10\",\n",
    "    \"stack_size\": \"1\",\n",
    "    \"lr\": \"0.001\",\n",
    "    \"exploration_type\": \"Categorical\",\n",
    "    \"e_greedy_value\": \"1\",\n",
    "    \"epsilon_steps\": \"10000\",\n",
    "    \"beta_entropy\": \"0.01\",\n",
    "    \"discount_factor\": \"0.999\",\n",
    "    \"loss_type\": \"mean squared error\",\n",
    "    \"num_episodes_between_training\": \"20\",\n",
    "    \"max_sample_count\": \"0\",\n",
    "    \"sampling_frequency\": \"1\"\n",
    "    #,\"pretrained_s3_bucket\": \"sagemaker-us-east-1-600537146592\"\n",
    "    #,\"pretrained_s3_prefix\": \"deepracer-notebook-sagemaker-230709-144053\"\n",
    "}"
   ]
  },
  {
   "cell_type": "code",
   "execution_count": 68,
   "id": "84ae511b-73d0-4c06-bf54-f70977dc480f",
   "metadata": {
    "tags": []
   },
   "outputs": [
    {
     "name": "stdout",
     "output_type": "stream",
     "text": [
      "Training job: deepracer-notebook-sagemaker-230710-084907\n"
     ]
    }
   ],
   "source": [
    "b_sagemaker = boto3.client(\"sagemaker\", region_name=aws_region)\n",
    "training_job = b_sagemaker.create_training_job(\n",
    "    TrainingJobName=s3_prefix,\n",
    "    HyperParameters=custom_hyperparameter,\n",
    "    AlgorithmSpecification={\n",
    "        \"TrainingImage\": \"{}:latest\".format(custom_image_name),\n",
    "        \"TrainingInputMode\": \"File\"\n",
    "    },\n",
    "    RoleArn=sagemaker_role,\n",
    "    OutputDataConfig={\n",
    "        \"S3OutputPath\": \"s3://{}/{}/train-output/\".format(s3_bucket, s3_prefix)\n",
    "    },\n",
    "    ResourceConfig={\n",
    "        'InstanceType': instance_type,\n",
    "        'InstanceCount': 1,\n",
    "        'VolumeSizeInGB': 32\n",
    "    },\n",
    "    VpcConfig={\n",
    "        'SecurityGroupIds': deepracer_security_groups,\n",
    "        'Subnets': deepracer_subnets\n",
    "    },\n",
    "    StoppingCondition={\n",
    "        'MaxRuntimeInSeconds': job_duration_in_seconds\n",
    "    },\n",
    ")\n",
    "job_name = s3_prefix\n",
    "training_job_arn = training_job['TrainingJobArn']\n",
    "print(\"Training job: %s\" % job_name)"
   ]
  },
  {
   "cell_type": "code",
   "execution_count": 69,
   "id": "c62fe73b-94c2-473d-b66e-7782abd2d388",
   "metadata": {
    "tags": []
   },
   "outputs": [],
   "source": [
    "robomaker = boto3.client(\"robomaker\")\n",
    "kinesisvideo = boto3.client(\"kinesisvideo\")"
   ]
  },
  {
   "cell_type": "code",
   "execution_count": 70,
   "id": "599737c1-1f90-4d91-9978-32f2fbe05787",
   "metadata": {
    "tags": []
   },
   "outputs": [
    {
     "name": "stdout",
     "output_type": "stream",
     "text": [
      "{'uri': '600537146592.dkr.ecr.us-east-1.amazonaws.com/deepracer-sim-local-notebook:latest'}\n"
     ]
    }
   ],
   "source": [
    "robomaker_environment = {\"uri\":\"600537146592.dkr.ecr.us-east-1.amazonaws.com/deepracer-sim-local-notebook:latest\"} # {\"uri\": get_custom_image_name(local_simapp_ecr_docker_image_name)+\":latest\"}\n",
    "simulation_software_suite = {\"name\": \"SimulationRuntime\"}\n",
    "robot_software_suite = {\"name\": \"General\"}\n",
    "print(robomaker_environment)\n",
    "#600537146592.dkr.ecr.us-east-1.amazonaws.com/deepracer-sim-local-notebook"
   ]
  },
  {
   "cell_type": "code",
   "execution_count": 71,
   "id": "6355a626-441f-4967-bf55-07cba8614d67",
   "metadata": {
    "tags": []
   },
   "outputs": [
    {
     "name": "stdout",
     "output_type": "stream",
     "text": [
      "deepracer-notebook-application230710-084949\n",
      "Created a new simulation app with ARN: arn:aws:robomaker:us-east-1:600537146592:simulation-application/deepracer-notebook-application230710-084949/1688978989610\n"
     ]
    }
   ],
   "source": [
    "app_name = \"deepracer-notebook-application\" + strftime(\"%y%m%d-%H%M%S\", gmtime())\n",
    "\n",
    "print(app_name)\n",
    "try:\n",
    "    response = robomaker.create_simulation_application(\n",
    "        name=app_name,\n",
    "        environment=robomaker_environment,\n",
    "        simulationSoftwareSuite=simulation_software_suite,\n",
    "        robotSoftwareSuite=robot_software_suite\n",
    "    )\n",
    "    simulation_app_arn = response[\"arn\"]\n",
    "    print(\"Created a new simulation app with ARN:\", simulation_app_arn)\n",
    "except Exception as e:\n",
    "    if \"AccessDeniedException\" in str(e):\n",
    "        display(Markdown(generate_help_for_robomaker_all_permissions(role)))\n",
    "        raise e\n",
    "    else:\n",
    "        raise e"
   ]
  },
  {
   "cell_type": "markdown",
   "id": "b6efdbab-d3b5-4545-a976-b8c664da0331",
   "metadata": {},
   "source": [
    "### Number of Simulation Job"
   ]
  },
  {
   "cell_type": "code",
   "execution_count": 72,
   "id": "fa7d5510-b8d1-48db-933e-72eef1cee506",
   "metadata": {
    "tags": []
   },
   "outputs": [],
   "source": [
    "# Change this for multiple rollouts. This will invoke the specified number of robomaker jobs to collect experience\n",
    "num_simulation_workers = 1\n",
    "# kvs_stream_name=[]\n",
    "# kvs_stream_arns=[]\n",
    "# for job_no in range(num_simulation_workers):\n",
    "#     kvs_stream_name.append(\"dr-kvs-{}-{}\".format(job_name,job_no))\n",
    "#     try:\n",
    "#         response=kinesisvideo.create_stream(StreamName=kvs_stream_name[job_no],MediaType=\"video/h264\",DataRetentionInHours=24)\n",
    "#     except Exception as err:\n",
    "#         if err.__class__.__name__ == 'ResourceInUseException':\n",
    "#             response=kinesisvideo.describe_stream(StreamName=kvs_stream_name[job_no])[\"StreamInfo\"]\n",
    "#         else:\n",
    "#             raise err\n",
    "#     print(\"Created kinesis video stream {}\".format(kvs_stream_name[job_no]))\n",
    "#     kvs_stream_arns.append(response[\"StreamARN\"])\n",
    "    "
   ]
  },
  {
   "cell_type": "markdown",
   "id": "0a414d26-807f-413e-8621-788a313da1bc",
   "metadata": {},
   "source": [
    "### Launch Robotmaker Job"
   ]
  },
  {
   "cell_type": "code",
   "execution_count": 73,
   "id": "25f70c10-f55d-41dd-9df1-c5acc6ef62ce",
   "metadata": {
    "tags": []
   },
   "outputs": [
    {
     "name": "stdout",
     "output_type": "stream",
     "text": [
      "JOB_TYPE                                : TRAINING\n",
      "WORLD_NAME                              : Vegas_track\n",
      "SAGEMAKER_SHARED_S3_BUCKET              : sagemaker-us-east-1-600537146592\n",
      "SAGEMAKER_SHARED_S3_PREFIX              : deepracer-notebook-sagemaker-230710-084907\n",
      "TRAINING_JOB_ARN                        : arn:aws:sagemaker:us-east-1:600537146592:training-job/deepracer-notebook-sagemaker-230710-084907\n",
      "METRICS_S3_BUCKET                       : sagemaker-us-east-1-600537146592\n",
      "METRICS_S3_OBJECT_KEY                   : deepracer-notebook-sagemaker-230710-084907/training_metrics.json\n",
      "SIMTRACE_S3_BUCKET                      : sagemaker-us-east-1-600537146592\n",
      "SIMTRACE_S3_PREFIX                      : deepracer-notebook-sagemaker-230710-084907/iteration-data/training\n",
      "AWS_REGION                              : us-east-1\n",
      "TARGET_REWARD_SCORE                     : None\n",
      "NUMBER_OF_EPISODES                      : 0\n",
      "ROBOMAKER_SIMULATION_JOB_ACCOUNT_ID     : 600537146592\n",
      "CHANGE_START_POSITION                   : true\n",
      "ALTERNATE_DRIVING_DIRECTION             : false\n",
      "REVERSE_DIR                             : false\n",
      "KINESIS_VIDEO_STREAM_NAME               : \n",
      "REWARD_FILE_S3_KEY                      : deepracer-notebook-sagemaker-230710-084907/customer_reward_function.py\n",
      "MODEL_METADATA_FILE_S3_KEY              : deepracer-notebook-sagemaker-230710-084907/model/model_metadata.json\n",
      "NUMBER_OF_RESETS                        : 0\n",
      "CAR_COLOR                               : Blue\n",
      "ENABLE_DOMAIN_RANDOMIZATION             : false\n",
      "NUM_WORKERS                             : 1\n",
      "NUMBER_OF_OBSTACLES                     : 0\n",
      "MIN_DISTANCE_BETWEEN_OBSTACLES          : 2.0\n",
      "RANDOMIZE_OBSTACLE_LOCATIONS            : false\n",
      "IS_OBSTACLE_BOT_CAR                     : false\n",
      "NUMBER_OF_BOT_CARS                      : 0\n",
      "IS_LANE_CHANGE                          : false\n",
      "LOWER_LANE_CHANGE_TIME                  : 3.0\n",
      "UPPER_LANE_CHANGE_TIME                  : 5.0\n",
      "LANE_CHANGE_DISTANCE                    : 1.0\n",
      "MIN_DISTANCE_BETWEEN_BOT_CARS           : 2.0\n",
      "RANDOMIZE_BOT_CAR_LOCATIONS             : true\n",
      "BOT_CAR_SPEED                           : 0.2\n",
      "MP4_S3_BUCKET                           : sagemaker-us-east-1-600537146592\n",
      "MP4_S3_OBJECT_PREFIX                    : deepracer-notebook-sagemaker-230710-084907/iteration-data/training\n",
      "RACE_TYPE                               : TIME_TRIAL\n",
      "VIDEO_JOB_TYPE                          : RACING\n",
      "DISPLAY_NAME                            : FalsePositive\n",
      "RACER_NAME                              : racer-alias\n",
      "MODEL_NAME                              : model-name\n",
      "upload: ./training_params.yaml to s3://sagemaker-us-east-1-600537146592/deepracer-notebook-sagemaker-230710-084907/training_params.yaml\n"
     ]
    }
   ],
   "source": [
    "s3_yaml_name = \"training_params.yaml\"\n",
    "world_name = \"Vegas_track\"\n",
    "\n",
    "with open(\"./src/artifacts/yaml/training_yaml_template.yaml\", \"r\") as filepointer:\n",
    "    yaml_config = yaml.safe_load(filepointer)\n",
    "\n",
    "yaml_config[\"WORLD_NAME\"] = world_name\n",
    "yaml_config[\"SAGEMAKER_SHARED_S3_BUCKET\"] = s3_bucket\n",
    "yaml_config[\"SAGEMAKER_SHARED_S3_PREFIX\"] = s3_prefix\n",
    "yaml_config[\"TRAINING_JOB_ARN\"] = training_job_arn\n",
    "yaml_config[\"METRICS_S3_BUCKET\"] = s3_bucket\n",
    "yaml_config[\"METRICS_S3_OBJECT_KEY\"] = \"{}/training_metrics.json\".format(s3_prefix)\n",
    "yaml_config[\"SIMTRACE_S3_BUCKET\"] = s3_bucket\n",
    "yaml_config[\"SIMTRACE_S3_PREFIX\"] = \"{}/iteration-data/training\".format(s3_prefix)\n",
    "yaml_config[\"AWS_REGION\"] = aws_region\n",
    "yaml_config[\"ROBOMAKER_SIMULATION_JOB_ACCOUNT_ID\"] = account_id\n",
    "#yaml_config[\"KINESIS_VIDEO_STREAM_NAME\"] = kvs_stream_name[job_no]\n",
    "yaml_config[\"REWARD_FILE_S3_KEY\"] = \"{}/customer_reward_function.py\".format(s3_prefix)\n",
    "yaml_config[\"MODEL_METADATA_FILE_S3_KEY\"] = \"{}/model/model_metadata.json\".format(s3_prefix)\n",
    "yaml_config[\"NUM_WORKERS\"] = num_simulation_workers\n",
    "yaml_config[\"MP4_S3_BUCKET\"] = s3_bucket\n",
    "yaml_config[\"MP4_S3_OBJECT_PREFIX\"] = \"{}/iteration-data/training\".format(s3_prefix)\n",
    "\n",
    "# Race-type supported for training are TIME_TRIAL, OBJECT_AVOIDANCE, HEAD_TO_BOT\n",
    "# If you need to modify more attributes look at the template yaml file\n",
    "race_type = \"TIME_TRIAL\"\n",
    "\n",
    "if race_type == \"OBJECT_AVOIDANCE\":\n",
    "    yaml_config[\"NUMBER_OF_OBSTACLES\"] = \"6\"\n",
    "    yaml_config[\"RACE_TYPE\"] = \"OBJECT_AVOIDANCE\"\n",
    "\n",
    "elif race_type == \"HEAD_TO_BOT\":\n",
    "    yaml_config[\"NUMBER_OF_BOT_CARS\"] = \"6\"\n",
    "    yaml_config[\"RACE_TYPE\"] = \"HEAD_TO_BOT\"\n",
    "\n",
    "# Printing the modified yaml parameter\n",
    "for key, value in yaml_config.items():\n",
    "    print(\"{}: {}\".format(key.ljust(40, \" \"), value))\n",
    "\n",
    "# Uploading the modified yaml parameter\n",
    "with open(\"./training_params.yaml\", \"w\") as filepointer:\n",
    "    yaml.dump(yaml_config, filepointer)\n",
    "\n",
    "!aws s3 cp ./training_params.yaml {s3_location}/training_params.yaml\n",
    "!rm training_params.yaml"
   ]
  },
  {
   "cell_type": "code",
   "execution_count": 74,
   "id": "b2965d5c-0fb6-4d9e-bd7a-08855e4fff4d",
   "metadata": {
    "tags": []
   },
   "outputs": [
    {
     "name": "stdout",
     "output_type": "stream",
     "text": [
      "Created the following jobs:\n",
      "Job ARN arn:aws:robomaker:us-east-1:600537146592:simulation-job/sim-1tlp4bszx37g\n"
     ]
    }
   ],
   "source": [
    "responses = list()\n",
    "for job_no in range(num_simulation_workers):\n",
    "    response = robomaker.create_simulation_job(\n",
    "        clientRequestToken=strftime(\"%Y-%m-%d-%H-%M-%S\", gmtime()),\n",
    "        outputLocation={\n",
    "            \"s3Bucket\": s3_bucket,\n",
    "            \"s3Prefix\": s3_prefix\n",
    "        },\n",
    "       #  compute= { \n",
    "       #    \"computeType\": \"GPU_AND_CPU\",\n",
    "       #    \"gpuUnitLimit\": 1,\n",
    "       #    \"simulationUnitLimit\": 15\n",
    "       # },\n",
    "        maxJobDurationInSeconds=job_duration_in_seconds,\n",
    "        iamRole=sagemaker_role,\n",
    "        failureBehavior=\"Fail\",\n",
    "        simulationApplications=[{\n",
    "            \"application\": simulation_app_arn,\n",
    "            \"applicationVersion\": \"$LATEST\",\n",
    "            \"launchConfig\": {\n",
    "                \"command\": [\"roslaunch\", \"deepracer_simulation_environment\", \"distributed_training.launch\"],\n",
    "                \"environmentVariables\": {\n",
    "                    \"S3_YAML_NAME\": s3_yaml_name,\n",
    "                    \"SAGEMAKER_SHARED_S3_PREFIX\": s3_prefix,\n",
    "                    \"SAGEMAKER_SHARED_S3_BUCKET\": s3_bucket,\n",
    "                    \"WORLD_NAME\": world_name,\n",
    "                    #\"KINESIS_VIDEO_STREAM_NAME\": kvs_stream_name[job_no],\n",
    "                    \"APP_REGION\": aws_region,\n",
    "                    \"MODEL_METADATA_FILE_S3_KEY\": \"%s/model/model_metadata.json\" % s3_prefix,\n",
    "                    \"ROLLOUT_IDX\": str(job_no),\n",
    "                    \"DEEPRACER_JOB_TYPE_ENV\": \"SAGEONLY\"\n",
    "                },\n",
    "                \"streamUI\": True\n",
    "            },\n",
    "            \"uploadConfigurations\": [{\n",
    "                    \"name\": \"gazebo-logs\",\n",
    "                    \"path\": \"/root/.gazebo/server*/*.log\",\n",
    "                    \"uploadBehavior\": \"UPLOAD_ON_TERMINATE\"\n",
    "                },\n",
    "                {\n",
    "                    \"name\": \"ros-logs\",\n",
    "                    \"path\": \"/root/.ros/log/**\",\n",
    "                    \"uploadBehavior\": \"UPLOAD_ON_TERMINATE\"\n",
    "                }\n",
    "            ],\n",
    "            \"useDefaultUploadConfigurations\": False,\n",
    "            \"tools\": [{\n",
    "                \"streamUI\": True,\n",
    "                \"name\": \"rviz\",\n",
    "                \"command\": \"source /opt/ros/melodic/setup.bash;source /opt/amazon/install/setup.bash; rviz\",\n",
    "                \"streamOutputToCloudWatch\": True,\n",
    "                \"exitBehavior\": \"RESTART\"\n",
    "              },\n",
    "              {\n",
    "                \"streamUI\": True,\n",
    "                \"name\": \"terminal\",\n",
    "                \"command\": \"source /opt/ros/melodic/setup.bash;source /opt/amazon/install/setup.bash; xfce4-terminal\",\n",
    "                \"streamOutputToCloudWatch\": True,\n",
    "                \"exitBehavior\": \"RESTART\"\n",
    "              },\n",
    "              {\n",
    "                \"streamUI\": True,\n",
    "                \"name\": \"gazebo\",\n",
    "                \"command\": \"source /opt/ml/code/scripts/gzclient_source.sh; export GAZEBO_MODEL_PATH=/opt/amazon/install/deepracer_simulation_environment/share/deepracer_simulation_environment/; gzclient\",\n",
    "                \"streamOutputToCloudWatch\": True,\n",
    "                \"exitBehavior\": \"RESTART\"\n",
    "            }],\n",
    "        }],\n",
    "        vpcConfig={\n",
    "            \"subnets\": deepracer_subnets,\n",
    "            \"securityGroups\": deepracer_security_groups,\n",
    "            \"assignPublicIp\": True\n",
    "        }\n",
    "    )\n",
    "    responses.append(response)\n",
    "    time.sleep(5)\n",
    "    \n",
    "print(\"Created the following jobs:\")\n",
    "job_arns = [response[\"arn\"] for response in responses]\n",
    "for job_arn in job_arns:\n",
    "    print(\"Job ARN\", job_arn)"
   ]
  },
  {
   "cell_type": "markdown",
   "id": "b05731ad-b94f-404e-b1c7-87d82c8a9b19",
   "metadata": {},
   "source": [
    "### Visualize Job"
   ]
  },
  {
   "cell_type": "code",
   "execution_count": 75,
   "id": "4bf175b2-849b-49ec-813b-e3f67185163d",
   "metadata": {
    "tags": []
   },
   "outputs": [
    {
     "data": {
      "text/markdown": [
       "> Click on the following links for visualization of simulation jobs on RoboMaker Console\n",
       "- [Simulation 1](https://us-east-1.console.aws.amazon.com/robomaker/home?region=us-east-1#simulationJobs/sim-1tlp4bszx37g)  \n",
       "\n",
       "You can click on Gazebo after you open the above link to start the simulator."
      ],
      "text/plain": [
       "<IPython.core.display.Markdown object>"
      ]
     },
     "metadata": {},
     "output_type": "display_data"
    }
   ],
   "source": [
    "display(Markdown(generate_robomaker_links(job_arns, aws_region)))\n",
    "\n",
    "# for job_no in range(num_simulation_workers):\n",
    "#     display(Markdown(\"View the Kinesis video stream <a target=_blank href=\\\"https://us-east-1.console.aws.amazon.com/kinesisvideo/home?region=us-east-1#/streams/streamName/%s\\\">here.</a> (Expand 'Media Playback')\"%(kvs_stream_name[job_no])))"
   ]
  },
  {
   "cell_type": "code",
   "execution_count": 28,
   "id": "519fba41-ee04-452d-a04f-9d4059600557",
   "metadata": {
    "tags": []
   },
   "outputs": [
    {
     "name": "stdout",
     "output_type": "stream",
     "text": [
      "Create local folder /tmp/deepracer-notebook-sagemaker-v1\n"
     ]
    }
   ],
   "source": [
    "tmp_dir = \"/tmp/{}\".format(job_name)\n",
    "os.system(\"mkdir {}\".format(tmp_dir))\n",
    "print(\"Create local folder {}\".format(tmp_dir))"
   ]
  },
  {
   "cell_type": "code",
   "execution_count": null,
   "id": "c492ae16-f50f-40bb-984f-4a6f05e5741b",
   "metadata": {
    "tags": []
   },
   "outputs": [
    {
     "name": "stdout",
     "output_type": "stream",
     "text": [
      "Waiting for s3://sagemaker-us-east-1-600537146592/deepracer-notebook-sagemaker-230709-144053/training_metrics.json...\n",
      "Downloading deepracer-notebook-sagemaker-230709-144053/training_metrics.json\n"
     ]
    }
   ],
   "source": [
    "%matplotlib inline\n",
    "import pandas as pd\n",
    "import json\n",
    "\n",
    "training_metrics_file = \"training_metrics.json\"\n",
    "training_metrics_path = \"{}/{}\".format(s3_prefix, training_metrics_file)\n",
    "wait_for_s3_object(s3_bucket, training_metrics_path, tmp_dir)\n",
    "\n",
    "json_file = \"{}/{}\".format(tmp_dir, training_metrics_file)\n",
    "with open(json_file) as fp:\n",
    "    data = json.load(fp)\n",
    "\n",
    "df = pd.DataFrame(data[\"metrics\"])\n",
    "x_axis = \"episode\"\n",
    "y_axis = \"reward_score\"\n",
    "\n",
    "plt = df.plot(x=x_axis, y=y_axis, figsize=(12, 5), legend=True, style=\"b-\")\n",
    "plt.set_ylabel(y_axis)\n",
    "plt.set_xlabel(x_axis);"
   ]
  },
  {
   "cell_type": "code",
   "execution_count": 41,
   "id": "0ab89c46-efdc-4c6d-8c32-b9c203f57065",
   "metadata": {
    "tags": []
   },
   "outputs": [
    {
     "data": {
      "text/html": [
       "<div>\n",
       "<style scoped>\n",
       "    .dataframe tbody tr th:only-of-type {\n",
       "        vertical-align: middle;\n",
       "    }\n",
       "\n",
       "    .dataframe tbody tr th {\n",
       "        vertical-align: top;\n",
       "    }\n",
       "\n",
       "    .dataframe thead th {\n",
       "        text-align: right;\n",
       "    }\n",
       "</style>\n",
       "<table border=\"1\" class=\"dataframe\">\n",
       "  <thead>\n",
       "    <tr style=\"text-align: right;\">\n",
       "      <th></th>\n",
       "      <th>reward_score</th>\n",
       "      <th>metric_time</th>\n",
       "      <th>start_time</th>\n",
       "      <th>elapsed_time_in_milliseconds</th>\n",
       "      <th>episode</th>\n",
       "      <th>trial</th>\n",
       "      <th>phase</th>\n",
       "      <th>completion_percentage</th>\n",
       "      <th>episode_status</th>\n",
       "    </tr>\n",
       "  </thead>\n",
       "  <tbody>\n",
       "    <tr>\n",
       "      <th>0</th>\n",
       "      <td>30</td>\n",
       "      <td>25995</td>\n",
       "      <td>23568</td>\n",
       "      <td>2427</td>\n",
       "      <td>1</td>\n",
       "      <td>1</td>\n",
       "      <td>training</td>\n",
       "      <td>9</td>\n",
       "      <td>Off track</td>\n",
       "    </tr>\n",
       "    <tr>\n",
       "      <th>1</th>\n",
       "      <td>27</td>\n",
       "      <td>28487</td>\n",
       "      <td>26426</td>\n",
       "      <td>2061</td>\n",
       "      <td>2</td>\n",
       "      <td>2</td>\n",
       "      <td>training</td>\n",
       "      <td>6</td>\n",
       "      <td>Off track</td>\n",
       "    </tr>\n",
       "    <tr>\n",
       "      <th>2</th>\n",
       "      <td>20</td>\n",
       "      <td>30730</td>\n",
       "      <td>28858</td>\n",
       "      <td>1872</td>\n",
       "      <td>3</td>\n",
       "      <td>3</td>\n",
       "      <td>training</td>\n",
       "      <td>5</td>\n",
       "      <td>Off track</td>\n",
       "    </tr>\n",
       "    <tr>\n",
       "      <th>3</th>\n",
       "      <td>17</td>\n",
       "      <td>32579</td>\n",
       "      <td>31034</td>\n",
       "      <td>1545</td>\n",
       "      <td>4</td>\n",
       "      <td>4</td>\n",
       "      <td>training</td>\n",
       "      <td>3</td>\n",
       "      <td>Off track</td>\n",
       "    </tr>\n",
       "    <tr>\n",
       "      <th>4</th>\n",
       "      <td>13</td>\n",
       "      <td>34245</td>\n",
       "      <td>32883</td>\n",
       "      <td>1362</td>\n",
       "      <td>5</td>\n",
       "      <td>5</td>\n",
       "      <td>training</td>\n",
       "      <td>2</td>\n",
       "      <td>Off track</td>\n",
       "    </tr>\n",
       "    <tr>\n",
       "      <th>...</th>\n",
       "      <td>...</td>\n",
       "      <td>...</td>\n",
       "      <td>...</td>\n",
       "      <td>...</td>\n",
       "      <td>...</td>\n",
       "      <td>...</td>\n",
       "      <td>...</td>\n",
       "      <td>...</td>\n",
       "      <td>...</td>\n",
       "    </tr>\n",
       "    <tr>\n",
       "      <th>570</th>\n",
       "      <td>48</td>\n",
       "      <td>2391518</td>\n",
       "      <td>2387041</td>\n",
       "      <td>4477</td>\n",
       "      <td>460</td>\n",
       "      <td>20</td>\n",
       "      <td>evaluation</td>\n",
       "      <td>15</td>\n",
       "      <td>Off track</td>\n",
       "    </tr>\n",
       "    <tr>\n",
       "      <th>571</th>\n",
       "      <td>22</td>\n",
       "      <td>2396143</td>\n",
       "      <td>2393095</td>\n",
       "      <td>3048</td>\n",
       "      <td>460</td>\n",
       "      <td>20</td>\n",
       "      <td>evaluation</td>\n",
       "      <td>6</td>\n",
       "      <td>Off track</td>\n",
       "    </tr>\n",
       "    <tr>\n",
       "      <th>572</th>\n",
       "      <td>92</td>\n",
       "      <td>2405346</td>\n",
       "      <td>2397402</td>\n",
       "      <td>7944</td>\n",
       "      <td>460</td>\n",
       "      <td>20</td>\n",
       "      <td>evaluation</td>\n",
       "      <td>29</td>\n",
       "      <td>Off track</td>\n",
       "    </tr>\n",
       "    <tr>\n",
       "      <th>573</th>\n",
       "      <td>61</td>\n",
       "      <td>2412258</td>\n",
       "      <td>2406994</td>\n",
       "      <td>5264</td>\n",
       "      <td>460</td>\n",
       "      <td>20</td>\n",
       "      <td>evaluation</td>\n",
       "      <td>17</td>\n",
       "      <td>Off track</td>\n",
       "    </tr>\n",
       "    <tr>\n",
       "      <th>574</th>\n",
       "      <td>54</td>\n",
       "      <td>2419744</td>\n",
       "      <td>2413703</td>\n",
       "      <td>6041</td>\n",
       "      <td>460</td>\n",
       "      <td>20</td>\n",
       "      <td>evaluation</td>\n",
       "      <td>21</td>\n",
       "      <td>Off track</td>\n",
       "    </tr>\n",
       "  </tbody>\n",
       "</table>\n",
       "<p>575 rows × 9 columns</p>\n",
       "</div>"
      ],
      "text/plain": [
       "     reward_score  metric_time  start_time  elapsed_time_in_milliseconds  \\\n",
       "0              30        25995       23568                          2427   \n",
       "1              27        28487       26426                          2061   \n",
       "2              20        30730       28858                          1872   \n",
       "3              17        32579       31034                          1545   \n",
       "4              13        34245       32883                          1362   \n",
       "..            ...          ...         ...                           ...   \n",
       "570            48      2391518     2387041                          4477   \n",
       "571            22      2396143     2393095                          3048   \n",
       "572            92      2405346     2397402                          7944   \n",
       "573            61      2412258     2406994                          5264   \n",
       "574            54      2419744     2413703                          6041   \n",
       "\n",
       "     episode  trial       phase  completion_percentage episode_status  \n",
       "0          1      1    training                      9      Off track  \n",
       "1          2      2    training                      6      Off track  \n",
       "2          3      3    training                      5      Off track  \n",
       "3          4      4    training                      3      Off track  \n",
       "4          5      5    training                      2      Off track  \n",
       "..       ...    ...         ...                    ...            ...  \n",
       "570      460     20  evaluation                     15      Off track  \n",
       "571      460     20  evaluation                      6      Off track  \n",
       "572      460     20  evaluation                     29      Off track  \n",
       "573      460     20  evaluation                     17      Off track  \n",
       "574      460     20  evaluation                     21      Off track  \n",
       "\n",
       "[575 rows x 9 columns]"
      ]
     },
     "execution_count": 41,
     "metadata": {},
     "output_type": "execute_result"
    }
   ],
   "source": [
    "df"
   ]
  },
  {
   "cell_type": "code",
   "execution_count": 42,
   "id": "723fd3ca-413c-4ee9-a8b6-857f61a7215e",
   "metadata": {
    "tags": []
   },
   "outputs": [
    {
     "data": {
      "image/png": "[encoded data removed]",
      "text/plain": [
       "<Figure size 1200x500 with 1 Axes>"
      ]
     },
     "metadata": {},
     "output_type": "display_data"
    }
   ],
   "source": [
    "x_axis = \"episode\"\n",
    "y_axis = \"completion_percentage\"\n",
    "\n",
    "plt = df.plot(x=x_axis, y=y_axis, figsize=(12, 5), legend=True, style=\"b-\")\n",
    "plt.set_ylabel(y_axis)\n",
    "plt.set_xlabel(x_axis);"
   ]
  },
  {
   "cell_type": "markdown",
   "id": "6366c8b3-0e21-41d1-8b19-9a0189ab525e",
   "metadata": {
    "jp-MarkdownHeadingCollapsed": true,
    "tags": []
   },
   "source": [
    "## Test DeepRace Model"
   ]
  },
  {
   "cell_type": "code",
   "execution_count": null,
   "id": "8e9bbfcb-2511-4e43-82c0-4fbfc9b3853d",
   "metadata": {},
   "outputs": [],
   "source": [
    "s3_yaml_name = \"evaluation_params.yaml\"\n",
    "world_name = \"Vegas_track\"\n",
    "\n",
    "with open(\"./src/artifacts/yaml/evaluation_yaml_template.yaml\", \"r\") as filepointer:\n",
    "    yaml_config = yaml.safe_load(filepointer)\n",
    "\n",
    "yaml_config[\"WORLD_NAME\"] = world_name\n",
    "yaml_config[\"MODEL_S3_BUCKET\"] = s3_bucket\n",
    "yaml_config[\"MODEL_S3_PREFIX\"] = s3_prefix\n",
    "yaml_config[\"AWS_REGION\"] = aws_region\n",
    "yaml_config[\"METRICS_S3_BUCKET\"] = s3_bucket\n",
    "yaml_config[\"METRICS_S3_OBJECT_KEY\"] = \"{}/evaluation_metrics.json\".format(s3_prefix)\n",
    "yaml_config[\"SIMTRACE_S3_BUCKET\"] = s3_bucket\n",
    "yaml_config[\"SIMTRACE_S3_PREFIX\"] = \"{}/iteration-data/evaluation\".format(s3_prefix)\n",
    "yaml_config[\"ROBOMAKER_SIMULATION_JOB_ACCOUNT_ID\"] = account_id\n",
    "yaml_config[\"NUMBER_OF_TRIALS\"] = \"5\"\n",
    "yaml_config[\"MP4_S3_BUCKET\"] = s3_bucket\n",
    "yaml_config[\"MP4_S3_OBJECT_PREFIX\"] = \"{}/iteration-data/evaluation\".format(s3_prefix)\n",
    "yaml_config[\"NUMBER_OF_TRIALS\"] = 3\n",
    "\n",
    "# Race-type supported for training are TIME_TRIAL, OBJECT_AVOIDANCE, HEAD_TO_BOT\n",
    "# If you need to modify more attributes look at the template yaml file\n",
    "race_type = \"TIME_TRIAL\"\n",
    "\n",
    "if race_type == \"OBJECT_AVOIDANCE\":\n",
    "    yaml_config[\"NUMBER_OF_OBSTACLES\"] = \"6\"\n",
    "    yaml_config[\"RACE_TYPE\"] = \"OBJECT_AVOIDANCE\"\n",
    "\n",
    "elif race_type == \"HEAD_TO_BOT\":\n",
    "    yaml_config[\"NUMBER_OF_BOT_CARS\"] = \"6\"\n",
    "    yaml_config[\"RACE_TYPE\"] = \"HEAD_TO_BOT\"\n",
    "\n",
    "# Printing the modified yaml parameter\n",
    "for key, value in yaml_config.items():\n",
    "    print(\"{}: {}\".format(key.ljust(40, \" \"), value))\n",
    "\n",
    "# Uploading the modified yaml parameter\n",
    "with open(\"./evaluation_params.yaml\", \"w\") as filepointer:\n",
    "    yaml.dump(yaml_config, filepointer)\n",
    "\n",
    "!aws s3 cp ./evaluation_params.yaml {s3_location}/evaluation_params.yaml\n",
    "!rm evaluation_params.yaml"
   ]
  },
  {
   "cell_type": "code",
   "execution_count": null,
   "id": "29401fe2-5c91-4711-8b8f-c2164ce74171",
   "metadata": {},
   "outputs": [],
   "source": [
    "responses = list()\n",
    "for job_no in range(num_simulation_workers):\n",
    "    response = robomaker.create_simulation_job(\n",
    "        clientRequestToken=strftime(\"%Y-%m-%d-%H-%M-%S\", gmtime()),\n",
    "        outputLocation={\n",
    "            \"s3Bucket\": s3_bucket,\n",
    "            \"s3Prefix\": s3_prefix\n",
    "        },\n",
    "        maxJobDurationInSeconds=job_duration_in_seconds,\n",
    "        iamRole=sagemaker_role,\n",
    "        failureBehavior=\"Fail\",\n",
    "        simulationApplications=[{\n",
    "            \"application\": simulation_app_arn,\n",
    "            \"applicationVersion\": \"$LATEST\",\n",
    "            \"launchConfig\": {\n",
    "                \"command\": [\"roslaunch\", \"deepracer_simulation_environment\", \"evaluation.launch\"],\n",
    "                \"environmentVariables\": {\n",
    "                    \"S3_YAML_NAME\": s3_yaml_name,\n",
    "                    \"MODEL_S3_PREFIX\": s3_prefix,\n",
    "                    \"MODEL_S3_BUCKET\": s3_bucket,\n",
    "                    \"WORLD_NAME\": world_name,\n",
    "                    #\"KINESIS_VIDEO_STREAM_NAME\": kvs_stream_name[job_no],\n",
    "                    \"APP_REGION\": aws_region,\n",
    "                    \"MODEL_METADATA_FILE_S3_KEY\": \"%s/model/model_metadata.json\" % s3_prefix,\n",
    "                },\n",
    "                \"streamUI\": True\n",
    "            },\n",
    "            \"uploadConfigurations\": [{\n",
    "                    \"name\": \"gazebo-logs\",\n",
    "                    \"path\": \"/root/.gazebo/server*/*.log\",\n",
    "                    \"uploadBehavior\": \"UPLOAD_ON_TERMINATE\"\n",
    "                },\n",
    "                {\n",
    "                    \"name\": \"ros-logs\",\n",
    "                    \"path\": \"/root/.ros/log/**\",\n",
    "                    \"uploadBehavior\": \"UPLOAD_ON_TERMINATE\"\n",
    "                }\n",
    "            ],\n",
    "            \"useDefaultUploadConfigurations\": False,\n",
    "            \"tools\": [{\n",
    "                \"streamUI\": True,\n",
    "                \"name\": \"rviz\",\n",
    "                \"command\": \"source /opt/ros/melodic/setup.bash;source /opt/amazon/install/setup.bash; rviz\",\n",
    "                \"streamOutputToCloudWatch\": True,\n",
    "                \"exitBehavior\": \"RESTART\"\n",
    "              },\n",
    "              {\n",
    "                \"streamUI\": True,\n",
    "                \"name\": \"terminal\",\n",
    "                \"command\": \"source /opt/ros/melodic/setup.bash;source /opt/amazon/install/setup.bash; xfce4-terminal\",\n",
    "                \"streamOutputToCloudWatch\": True,\n",
    "                \"exitBehavior\": \"RESTART\"\n",
    "              },\n",
    "              {\n",
    "                \"streamUI\": True,\n",
    "                \"name\": \"gazebo\",\n",
    "                \"command\": \"source /opt/ml/code/scripts/gzclient_source.sh; export GAZEBO_MODEL_PATH=/opt/amazon/install/deepracer_simulation_environment/share/deepracer_simulation_environment/; gzclient\",\n",
    "                \"streamOutputToCloudWatch\": True,\n",
    "                \"exitBehavior\": \"RESTART\"\n",
    "            }],\n",
    "        }],\n",
    "        vpcConfig={\n",
    "            \"subnets\": deepracer_subnets,\n",
    "            \"securityGroups\": deepracer_security_groups,\n",
    "            \"assignPublicIp\": True\n",
    "        }\n",
    "    )\n",
    "    responses.append(response)\n",
    "    time.sleep(5)\n",
    "    \n",
    "print(\"Created the following jobs:\")\n",
    "job_arns = [response[\"arn\"] for response in responses]\n",
    "for job_arn in job_arns:\n",
    "    print(\"Job ARN\", job_arn)"
   ]
  },
  {
   "cell_type": "code",
   "execution_count": null,
   "id": "a1099b4b-e9b4-413a-a731-18ee24481634",
   "metadata": {},
   "outputs": [],
   "source": [
    "display(Markdown(generate_robomaker_links(job_arns, aws_region)))"
   ]
  },
  {
   "cell_type": "code",
   "execution_count": null,
   "id": "bf945546-a46d-4cec-9a03-7b5cfda7d67e",
   "metadata": {},
   "outputs": [],
   "source": [
    "evaluation_metrics_file = \"evaluation_metrics.json\"\n",
    "evaluation_metrics_path = \"{}/{}\".format(s3_prefix, evaluation_metrics_file)\n",
    "wait_for_s3_object(s3_bucket, evaluation_metrics_path, tmp_dir)\n",
    "\n",
    "json_file = \"{}/{}\".format(tmp_dir, evaluation_metrics_file)\n",
    "with open(json_file) as fp:\n",
    "    data = json.load(fp)\n",
    "\n",
    "df = pd.DataFrame(data[\"metrics\"])\n",
    "# Converting milliseconds to seconds\n",
    "df[\"elapsed_time\"] = df[\"elapsed_time_in_milliseconds\"] / 1000\n",
    "df = df[[\"trial\", \"completion_percentage\", \"reset_count\", \"elapsed_time\"]]\n",
    "\n",
    "display(df)"
   ]
  },
  {
   "cell_type": "markdown",
   "id": "9233b46a-f308-4a53-8b30-b7498cfc7c57",
   "metadata": {},
   "source": [
    "## Clean Up"
   ]
  },
  {
   "cell_type": "code",
   "execution_count": 76,
   "id": "3e67ee43-f1ed-4155-ad3c-28735c02659c",
   "metadata": {
    "tags": []
   },
   "outputs": [
    {
     "data": {
      "text/plain": [
       "{'ResponseMetadata': {'RequestId': '3f7cf68b-ede9-4a3f-875e-0d31abd111ac',\n",
       "  'HTTPStatusCode': 200,\n",
       "  'HTTPHeaders': {'date': 'Mon, 10 Jul 2023 09:05:53 GMT',\n",
       "   'content-type': 'application/json',\n",
       "   'content-length': '2',\n",
       "   'connection': 'keep-alive',\n",
       "   'x-amzn-requestid': '3f7cf68b-ede9-4a3f-875e-0d31abd111ac',\n",
       "   'access-control-allow-origin': '*',\n",
       "   'access-control-allow-headers': 'Content-Type,X-Amz-Date,Authorization,X-Api-Key,X-Amz-Security-Token',\n",
       "   'x-amz-apigw-id': 'H1x9yGqfoAMFcJw=',\n",
       "   'access-control-allow-methods': 'GET,OPTIONS,POST',\n",
       "   'access-control-expose-headers': 'x-amzn-RequestId,x-amzn-ErrorType',\n",
       "   'x-amzn-trace-id': 'Root=1-64abc9f1-2f9c892b7ffe9d1550d4bc1c'},\n",
       "  'RetryAttempts': 0}}"
      ]
     },
     "execution_count": 76,
     "metadata": {},
     "output_type": "execute_result"
    }
   ],
   "source": [
    "robomaker.delete_simulation_application(application=simulation_app_arn)"
   ]
  },
  {
   "cell_type": "code",
   "execution_count": 77,
   "id": "1653e951-bf3b-429d-88a4-06472ff04bd5",
   "metadata": {
    "tags": []
   },
   "outputs": [],
   "source": [
    "# Cancelling robomaker job\n",
    "for job_arn in job_arns:\n",
    "    try:\n",
    "        robomaker.cancel_simulation_job(job=job_arn)\n",
    "    except:\n",
    "        pass\n",
    "\n",
    "# Stopping sagemaker training job\n",
    "try:\n",
    "    sage_session.sagemaker_client.stop_training_job(TrainingJobName=job_name)\n",
    "except Exception as err:\n",
    "    print(\"Could not stop training job; already stopped?\",err)"
   ]
  }
 ],
 "metadata": {
  "kernelspec": {
   "display_name": "conda_tensorflow2_p310",
   "language": "python",
   "name": "conda_tensorflow2_p310"
  },
  "language_info": {
   "codemirror_mode": {
    "name": "ipython",
    "version": 3
   },
   "file_extension": ".py",
   "mimetype": "text/x-python",
   "name": "python",
   "nbconvert_exporter": "python",
   "pygments_lexer": "ipython3",
   "version": "3.10.10"
  }
 },
 "nbformat": 4,
 "nbformat_minor": 5
}
